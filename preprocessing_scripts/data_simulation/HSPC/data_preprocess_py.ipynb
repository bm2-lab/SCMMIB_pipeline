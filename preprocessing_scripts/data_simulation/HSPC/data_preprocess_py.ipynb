{
 "cells": [
  {
   "cell_type": "code",
   "execution_count": 1,
   "id": "bdffc0f5",
   "metadata": {},
   "outputs": [],
   "source": [
    "import os\n",
    "import sys \n",
    "import json\n",
    "import pickle\n",
    "\n",
    "import torch\n",
    "import anndata\n",
    "import numpy as np\n",
    "import pandas as pd\n",
    "import scanpy as sc\n",
    "\n",
    "from scipy import io"
   ]
  },
  {
   "cell_type": "markdown",
   "id": "16480c13",
   "metadata": {},
   "source": [
    "# Data Manipulation: convert h5ad to mtx"
   ]
  },
  {
   "cell_type": "markdown",
   "id": "d1c25bef",
   "metadata": {},
   "source": [
    "## multiome"
   ]
  },
  {
   "cell_type": "code",
   "execution_count": 2,
   "id": "f3124021",
   "metadata": {},
   "outputs": [],
   "source": [
    "HSPC_METADATA = '/home/wsg/BM/data/HSPC/RawData/Multimodal_Single-Cell_Integration/metadata.csv'\n",
    "metadata = pd.read_csv(HSPC_METADATA)\n",
    "\n",
    "metadata_multi = metadata[metadata.technology==\"multiome\"]\n",
    "metadata_cite = metadata[metadata.technology==\"citeseq\"]"
   ]
  },
  {
   "cell_type": "code",
   "execution_count": 3,
   "id": "02f7d3c8",
   "metadata": {},
   "outputs": [
    {
     "data": {
      "text/plain": [
       "((161877, 5), (119651, 5))"
      ]
     },
     "execution_count": 3,
     "metadata": {},
     "output_type": "execute_result"
    }
   ],
   "source": [
    "metadata_multi.shape, metadata_cite.shape"
   ]
  },
  {
   "cell_type": "code",
   "execution_count": 4,
   "id": "7b4b10eb",
   "metadata": {},
   "outputs": [],
   "source": [
    "# we only use train_data because test_data only have ATAC modality\n",
    "\n",
    "# HSPC train_data ATAC-seq peak counts transformed\n",
    "HSPC_multi_ATAC_path ='/home/wsg/BM/data/HSPC/RawData/Raw_Counts/train_multi_inputs_raw.h5'\n",
    "\n",
    "# HSPC train_data RNA gene expression levels as library-size normalized and log1p transformed counts for the same cells\n",
    "HSPC_multi_RNA_path ='/home/wsg/BM/data/HSPC/RawData/Raw_Counts/train_multi_targets_raw.h5'"
   ]
  },
  {
   "cell_type": "code",
   "execution_count": 6,
   "id": "dc72d5ea",
   "metadata": {},
   "outputs": [
    {
     "data": {
      "text/plain": [
       "(105933, 23418)"
      ]
     },
     "execution_count": 6,
     "metadata": {},
     "output_type": "execute_result"
    }
   ],
   "source": [
    "# HSPC_multi_RNA_counts = pd.read_hdf(HSPC_multi_RNA_path)\n",
    "HSPC_multi_RNA_counts.shape"
   ]
  },
  {
   "cell_type": "code",
   "execution_count": 7,
   "id": "cc856a5a",
   "metadata": {},
   "outputs": [
    {
     "data": {
      "text/plain": [
       "(105933, 228942)"
      ]
     },
     "execution_count": 7,
     "metadata": {},
     "output_type": "execute_result"
    }
   ],
   "source": [
    "# HSPC_multi_ATAC_counts = pd.read_hdf(HSPC_multi_ATAC_path)\n",
    "HSPC_multi_ATAC_counts.shape"
   ]
  },
  {
   "cell_type": "code",
   "execution_count": 12,
   "id": "36ddbcc1",
   "metadata": {},
   "outputs": [
    {
     "data": {
      "text/plain": [
       "105933"
      ]
     },
     "execution_count": 12,
     "metadata": {},
     "output_type": "execute_result"
    }
   ],
   "source": [
    "sum(HSPC_multi_RNA_counts.index == HSPC_multi_ATAC_counts.index)"
   ]
  },
  {
   "cell_type": "code",
   "execution_count": 13,
   "id": "aafab55a",
   "metadata": {},
   "outputs": [
    {
     "name": "stderr",
     "output_type": "stream",
     "text": [
      "/tmp/ipykernel_95406/314467783.py:4: SettingWithCopyWarning: \n",
      "A value is trying to be set on a copy of a slice from a DataFrame.\n",
      "Try using .loc[row_indexer,col_indexer] = value instead\n",
      "\n",
      "See the caveats in the documentation: https://pandas.pydata.org/pandas-docs/stable/user_guide/indexing.html#returning-a-view-versus-a-copy\n",
      "  metadata_multi_train['barcode'] = metadata_multi_train['cell_id']\n"
     ]
    }
   ],
   "source": [
    "metadata_multi_train = metadata_multi[metadata_multi['cell_id'].isin(HSPC_multi_RNA_counts.index)]\n",
    "metadata_multi_train.shape\n",
    "\n",
    "metadata_multi_train['barcode'] = metadata_multi_train['cell_id']\n",
    "metadata_multi_train.set_index('cell_id', inplace=True)"
   ]
  },
  {
   "cell_type": "code",
   "execution_count": 14,
   "id": "38126c5b",
   "metadata": {},
   "outputs": [
    {
     "name": "stdout",
     "output_type": "stream",
     "text": [
      "(105868, 5)\n",
      "HSC     34624\n",
      "NeuP    21556\n",
      "EryP    17132\n",
      "MasP    16733\n",
      "MkP     13200\n",
      "MoP      2058\n",
      "BP        565\n",
      "Name: cell_type, dtype: int64\n"
     ]
    }
   ],
   "source": [
    "print(metadata_multi_train.shape)\n",
    "print(metadata_multi_train['cell_type'].value_counts())"
   ]
  },
  {
   "cell_type": "code",
   "execution_count": 15,
   "id": "8aeca2ee",
   "metadata": {},
   "outputs": [
    {
     "data": {
      "text/plain": [
       "HSC     3464\n",
       "NeuP    2112\n",
       "EryP    1734\n",
       "MasP    1705\n",
       "MkP     1293\n",
       "MoP      216\n",
       "BP        63\n",
       "Name: cell_type, dtype: int64"
      ]
     },
     "execution_count": 15,
     "metadata": {},
     "output_type": "execute_result"
    }
   ],
   "source": [
    "np.random.seed(1234)\n",
    "metadata_multi_train_p10 = metadata_multi_train.sample(frac=0.1)\n",
    "metadata_multi_train_p10['cell_type'].value_counts()"
   ]
  },
  {
   "cell_type": "code",
   "execution_count": 16,
   "id": "5bf8da6c",
   "metadata": {},
   "outputs": [],
   "source": [
    "p10_condition = HSPC_multi_RNA_counts.index.isin(metadata_multi_train_p10['barcode'])\n",
    "HSPC_multi_RNA_counts_p10 = HSPC_multi_RNA_counts[p10_condition]"
   ]
  },
  {
   "cell_type": "code",
   "execution_count": 17,
   "id": "5e4cb1e7",
   "metadata": {},
   "outputs": [
    {
     "data": {
      "text/plain": [
       "AnnData object with n_obs × n_vars = 10587 × 23418\n",
       "    obs: 'day', 'donor', 'cell_type', 'technology', 'barcode'"
      ]
     },
     "execution_count": 17,
     "metadata": {},
     "output_type": "execute_result"
    }
   ],
   "source": [
    "adata_rna = sc.AnnData(X=HSPC_multi_RNA_counts_p10.values, \n",
    "                           obs=metadata_multi_train_p10,\n",
    "                           var=pd.DataFrame(index=HSPC_multi_RNA_counts_p10.columns))\n",
    "adata_rna"
   ]
  },
  {
   "cell_type": "code",
   "execution_count": 18,
   "id": "9e62f637",
   "metadata": {},
   "outputs": [],
   "source": [
    "output_path = \"/home/wsg/BM/data/HSPC/RNA+ATAC/p10\"\n",
    "# save hd5\n",
    "adata_rna.write_h5ad(\"{}/HSPC-multiome-p10-RNA-counts.h5ad\".format(output_path))"
   ]
  },
  {
   "cell_type": "code",
   "execution_count": null,
   "id": "db61a018",
   "metadata": {},
   "outputs": [],
   "source": []
  },
  {
   "cell_type": "code",
   "execution_count": 19,
   "id": "056143f9",
   "metadata": {},
   "outputs": [],
   "source": [
    "HSPC_multi_ATAC_counts_p10 = HSPC_multi_ATAC_counts[p10_condition]"
   ]
  },
  {
   "cell_type": "code",
   "execution_count": 20,
   "id": "82926a23",
   "metadata": {},
   "outputs": [
    {
     "data": {
      "text/plain": [
       "AnnData object with n_obs × n_vars = 10587 × 228942\n",
       "    obs: 'day', 'donor', 'cell_type', 'technology', 'barcode'"
      ]
     },
     "execution_count": 20,
     "metadata": {},
     "output_type": "execute_result"
    }
   ],
   "source": [
    "adata_atac = sc.AnnData(X=HSPC_multi_ATAC_counts_p10.values, \n",
    "                           obs=metadata_multi_train_p10,\n",
    "                           var=pd.DataFrame(index=HSPC_multi_ATAC_counts_p10.columns))\n",
    "adata_atac"
   ]
  },
  {
   "cell_type": "code",
   "execution_count": 21,
   "id": "796499eb",
   "metadata": {},
   "outputs": [],
   "source": [
    "output_path = \"/home/wsg/BM/data/HSPC/RNA+ATAC/p10\"\n",
    "# save hd5\n",
    "adata_atac.write_h5ad(\"{}/HSPC-multiome-p10-ATAC-peaks.h5ad\".format(output_path))"
   ]
  },
  {
   "cell_type": "code",
   "execution_count": null,
   "id": "f662e206",
   "metadata": {},
   "outputs": [],
   "source": []
  },
  {
   "cell_type": "code",
   "execution_count": null,
   "id": "cbd44145",
   "metadata": {},
   "outputs": [],
   "source": []
  },
  {
   "cell_type": "code",
   "execution_count": null,
   "id": "e9ba64e7",
   "metadata": {},
   "outputs": [],
   "source": []
  },
  {
   "cell_type": "markdown",
   "id": "417d9a74",
   "metadata": {},
   "source": [
    "## CITE-seq"
   ]
  },
  {
   "cell_type": "code",
   "execution_count": 2,
   "id": "5153a67a",
   "metadata": {},
   "outputs": [],
   "source": [
    "HSPC_METADATA = '/home/wsg/BM/data/HSPC/RawData/Multimodal_Single-Cell_Integration/metadata.csv'\n",
    "metadata = pd.read_csv(HSPC_METADATA)\n",
    "\n",
    "metadata_multi = metadata[metadata.technology==\"multiome\"]\n",
    "metadata_cite = metadata[metadata.technology==\"citeseq\"]"
   ]
  },
  {
   "cell_type": "code",
   "execution_count": 3,
   "id": "8f1d041d",
   "metadata": {},
   "outputs": [
    {
     "data": {
      "text/plain": [
       "((161877, 5), (119651, 5))"
      ]
     },
     "execution_count": 3,
     "metadata": {},
     "output_type": "execute_result"
    }
   ],
   "source": [
    "metadata_multi.shape, metadata_cite.shape"
   ]
  },
  {
   "cell_type": "code",
   "execution_count": 4,
   "id": "f31fd47f",
   "metadata": {},
   "outputs": [],
   "source": [
    "# we only use train_data because test_data only have RNA modality\n",
    "\n",
    "# HSPC train_data RNA gene expression levels as library-size normalized and log1p transformed counts (gene expression levels)\n",
    "HSPC_cite_RNA_path ='/home/wsg/BM/data/HSPC/RawData/Raw_Counts/train_cite_inputs_raw.h5'\n",
    "\n",
    "# HSPC train_data surface protein levels for the same cells that have been dsb normalized\n",
    "HSPC_cite_ADT_path ='/home/wsg/BM/data/HSPC/RawData/Raw_Counts/train_cite_targets_raw.h5'"
   ]
  },
  {
   "cell_type": "code",
   "execution_count": 5,
   "id": "9d867e6d",
   "metadata": {},
   "outputs": [
    {
     "data": {
      "text/plain": [
       "(70988, 22085)"
      ]
     },
     "execution_count": 5,
     "metadata": {},
     "output_type": "execute_result"
    }
   ],
   "source": [
    "HSPC_cite_RNA_counts = pd.read_hdf(HSPC_cite_RNA_path)\n",
    "HSPC_cite_RNA_counts.shape"
   ]
  },
  {
   "cell_type": "code",
   "execution_count": 6,
   "id": "665981ac",
   "metadata": {},
   "outputs": [
    {
     "data": {
      "text/plain": [
       "(70988, 140)"
      ]
     },
     "execution_count": 6,
     "metadata": {},
     "output_type": "execute_result"
    }
   ],
   "source": [
    "HSPC_cite_ADT_counts = pd.read_hdf(HSPC_cite_ADT_path)\n",
    "HSPC_cite_ADT_counts.shape"
   ]
  },
  {
   "cell_type": "code",
   "execution_count": 7,
   "id": "86bda04f",
   "metadata": {},
   "outputs": [
    {
     "data": {
      "text/plain": [
       "70988"
      ]
     },
     "execution_count": 7,
     "metadata": {},
     "output_type": "execute_result"
    }
   ],
   "source": [
    "sum(HSPC_cite_RNA_counts.index == HSPC_cite_ADT_counts.index)"
   ]
  },
  {
   "cell_type": "code",
   "execution_count": 8,
   "id": "c9b0674e",
   "metadata": {},
   "outputs": [
    {
     "name": "stderr",
     "output_type": "stream",
     "text": [
      "/tmp/ipykernel_209854/88860683.py:4: SettingWithCopyWarning: \n",
      "A value is trying to be set on a copy of a slice from a DataFrame.\n",
      "Try using .loc[row_indexer,col_indexer] = value instead\n",
      "\n",
      "See the caveats in the documentation: https://pandas.pydata.org/pandas-docs/stable/user_guide/indexing.html#returning-a-view-versus-a-copy\n",
      "  metadata_cite_train['barcode'] = metadata_cite_train['cell_id']\n"
     ]
    }
   ],
   "source": [
    "metadata_cite_train = metadata_cite[metadata_cite['cell_id'].isin(HSPC_cite_RNA_counts.index)]\n",
    "metadata_cite_train.shape\n",
    "\n",
    "metadata_cite_train['barcode'] = metadata_cite_train['cell_id']\n",
    "metadata_cite_train.set_index('cell_id', inplace=True)"
   ]
  },
  {
   "cell_type": "code",
   "execution_count": 9,
   "id": "5d15a268",
   "metadata": {
    "scrolled": true
   },
   "outputs": [
    {
     "name": "stdout",
     "output_type": "stream",
     "text": [
      "(70988, 5)\n",
      "HSC     29879\n",
      "EryP    14241\n",
      "NeuP    12493\n",
      "MasP     8242\n",
      "MkP      5382\n",
      "MoP       591\n",
      "BP        160\n",
      "Name: cell_type, dtype: int64\n"
     ]
    }
   ],
   "source": [
    "print(metadata_cite_train.shape)\n",
    "print(metadata_cite_train['cell_type'].value_counts())"
   ]
  },
  {
   "cell_type": "code",
   "execution_count": 10,
   "id": "efcb739a",
   "metadata": {},
   "outputs": [
    {
     "data": {
      "text/plain": [
       "HSC     3014\n",
       "EryP    1453\n",
       "NeuP    1242\n",
       "MasP     788\n",
       "MkP      533\n",
       "MoP       54\n",
       "BP        15\n",
       "Name: cell_type, dtype: int64"
      ]
     },
     "execution_count": 10,
     "metadata": {},
     "output_type": "execute_result"
    }
   ],
   "source": [
    "np.random.seed(1234)\n",
    "metadata_cite_train_p10 = metadata_cite_train.sample(frac=0.1)\n",
    "metadata_cite_train_p10['cell_type'].value_counts()"
   ]
  },
  {
   "cell_type": "code",
   "execution_count": 11,
   "id": "cdfcc59b",
   "metadata": {},
   "outputs": [],
   "source": [
    "p10_condition = HSPC_cite_RNA_counts.index.isin(metadata_cite_train_p10['barcode'])\n",
    "HSPC_cite_RNA_counts_p10 = HSPC_cite_RNA_counts[p10_condition]"
   ]
  },
  {
   "cell_type": "code",
   "execution_count": 12,
   "id": "cafc97b4",
   "metadata": {},
   "outputs": [
    {
     "data": {
      "text/plain": [
       "AnnData object with n_obs × n_vars = 7099 × 22085\n",
       "    obs: 'day', 'donor', 'cell_type', 'technology', 'barcode'"
      ]
     },
     "execution_count": 12,
     "metadata": {},
     "output_type": "execute_result"
    }
   ],
   "source": [
    "adata_rna = sc.AnnData(X=HSPC_cite_RNA_counts_p10.values, \n",
    "                       obs=metadata_cite_train_p10,\n",
    "                       var=pd.DataFrame(index=HSPC_cite_RNA_counts_p10.columns))\n",
    "adata_rna"
   ]
  },
  {
   "cell_type": "code",
   "execution_count": 14,
   "id": "f7f2f7da",
   "metadata": {},
   "outputs": [],
   "source": [
    "output_path = \"/home/wsg/BM/data/HSPC/RNA+ADT/p10\"\n",
    "# save hd5\n",
    "adata_rna.write_h5ad(\"{}/HSPC-cite-p10-RNA-counts.h5ad\".format(output_path))"
   ]
  },
  {
   "cell_type": "code",
   "execution_count": 15,
   "id": "2ad1c064",
   "metadata": {},
   "outputs": [],
   "source": [
    "adata_rna.obs.to_csv(output_path + '/metadata.csv')"
   ]
  },
  {
   "cell_type": "code",
   "execution_count": null,
   "id": "cffaf77d",
   "metadata": {},
   "outputs": [],
   "source": []
  },
  {
   "cell_type": "code",
   "execution_count": 16,
   "id": "c3f8577c",
   "metadata": {},
   "outputs": [],
   "source": [
    "HSPC_cite_ADT_counts_p10 = HSPC_cite_ADT_counts[p10_condition]"
   ]
  },
  {
   "cell_type": "code",
   "execution_count": 17,
   "id": "61ec005d",
   "metadata": {},
   "outputs": [
    {
     "data": {
      "text/plain": [
       "AnnData object with n_obs × n_vars = 7099 × 140\n",
       "    obs: 'day', 'donor', 'cell_type', 'technology', 'barcode'"
      ]
     },
     "execution_count": 17,
     "metadata": {},
     "output_type": "execute_result"
    }
   ],
   "source": [
    "adata_adt = sc.AnnData(X=HSPC_cite_ADT_counts_p10.values, \n",
    "                        obs=metadata_cite_train_p10,\n",
    "                        var=pd.DataFrame(index=HSPC_cite_ADT_counts_p10.columns))\n",
    "adata_adt"
   ]
  },
  {
   "cell_type": "code",
   "execution_count": 20,
   "id": "fe9ef657",
   "metadata": {},
   "outputs": [],
   "source": [
    "output_path = \"/home/wsg/BM/data/HSPC/RNA+ADT/p10\"\n",
    "# save hd5\n",
    "adata_adt.write_h5ad(\"{}/HSPC-multiome-p10-ADT-counts.h5ad\".format(output_path))"
   ]
  }
 ],
 "metadata": {
  "hide_input": false,
  "jupytext": {
   "formats": "ipynb,py:percent"
  },
  "kernelspec": {
   "display_name": "python (benchmark)",
   "language": "python",
   "name": "benchmark"
  },
  "language_info": {
   "codemirror_mode": {
    "name": "ipython",
    "version": 3
   },
   "file_extension": ".py",
   "mimetype": "text/x-python",
   "name": "python",
   "nbconvert_exporter": "python",
   "pygments_lexer": "ipython3",
   "version": "3.8.13"
  },
  "toc": {
   "base_numbering": 1,
   "nav_menu": {},
   "number_sections": true,
   "sideBar": true,
   "skip_h1_title": false,
   "title_cell": "Table of Contents",
   "title_sidebar": "Contents",
   "toc_cell": false,
   "toc_position": {
    "height": "calc(100% - 180px)",
    "left": "10px",
    "top": "150px",
    "width": "355.869px"
   },
   "toc_section_display": true,
   "toc_window_display": true
  }
 },
 "nbformat": 4,
 "nbformat_minor": 5
}
