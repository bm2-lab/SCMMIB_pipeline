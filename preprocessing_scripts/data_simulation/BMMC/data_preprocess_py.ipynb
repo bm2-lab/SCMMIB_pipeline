{
 "cells": [
  {
   "cell_type": "code",
   "execution_count": 1,
   "id": "bdffc0f5",
   "metadata": {},
   "outputs": [],
   "source": [
    "import os\n",
    "import sys \n",
    "import json\n",
    "import pickle\n",
    "\n",
    "import torch\n",
    "import anndata\n",
    "import numpy as np\n",
    "import pandas as pd\n",
    "import scanpy as sc"
   ]
  },
  {
   "cell_type": "code",
   "execution_count": 2,
   "id": "f7d838a2",
   "metadata": {},
   "outputs": [
    {
     "ename": "IndexError",
     "evalue": "list index out of range",
     "output_type": "error",
     "traceback": [
      "\u001b[0;31m---------------------------------------------------------------------------\u001b[0m",
      "\u001b[0;31mIndexError\u001b[0m                                Traceback (most recent call last)",
      "Input \u001b[0;32mIn [2]\u001b[0m, in \u001b[0;36m<cell line: 3>\u001b[0;34m()\u001b[0m\n\u001b[1;32m      1\u001b[0m input_path\u001b[38;5;241m=\u001b[39msys\u001b[38;5;241m.\u001b[39margv[\u001b[38;5;241m1\u001b[39m]\n\u001b[1;32m      2\u001b[0m output_path\u001b[38;5;241m=\u001b[39msys\u001b[38;5;241m.\u001b[39margv[\u001b[38;5;241m2\u001b[39m]\n\u001b[0;32m----> 3\u001b[0m dataset\u001b[38;5;241m=\u001b[39mjson\u001b[38;5;241m.\u001b[39mload(\u001b[38;5;28mopen\u001b[39m(\u001b[43msys\u001b[49m\u001b[38;5;241;43m.\u001b[39;49m\u001b[43margv\u001b[49m\u001b[43m[\u001b[49m\u001b[38;5;241;43m3\u001b[39;49m\u001b[43m]\u001b[49m))\n",
      "\u001b[0;31mIndexError\u001b[0m: list index out of range"
     ]
    }
   ],
   "source": [
    "input_path=sys.argv[1]\n",
    "output_path=sys.argv[2]\n",
    "dataset=json.load(open(sys.argv[3]))"
   ]
  },
  {
   "cell_type": "code",
   "execution_count": null,
   "id": "cd147d8b",
   "metadata": {},
   "outputs": [],
   "source": [
    "def save_pickle(data, file_name):\n",
    "    f = open(file_name, \"wb\")\n",
    "    pickle.dump(data, f)\n",
    "    f.close()\n",
    "\n",
    "def load_pickle(file_name):\n",
    "    f = open(file_name, \"rb+\")\n",
    "    data = pickle.load(f)\n",
    "    f.close()\n",
    "    return data\n",
    "\n"
   ]
  },
  {
   "cell_type": "code",
   "execution_count": null,
   "id": "1d3f88b1",
   "metadata": {},
   "outputs": [],
   "source": [
    "import collections\n",
    "import scipy.sparse as sp_sparse\n",
    "import tables\n",
    " \n",
    "CountMatrix = collections.namedtuple('CountMatrix', ['feature_ref', 'barcodes', 'matrix'])\n",
    " \n",
    "def get_matrix_from_h5(filename):\n",
    "    with tables.open_file(filename, 'r') as f:\n",
    "        mat_group = f.get_node(f.root, 'matrix')\n",
    "        barcodes = f.get_node(mat_group, 'barcodes').read()\n",
    "        data = getattr(mat_group, 'data').read()\n",
    "        indices = getattr(mat_group, 'indices').read()\n",
    "        indptr = getattr(mat_group, 'indptr').read()\n",
    "        shape = getattr(mat_group, 'shape').read()\n",
    "        matrix = sp_sparse.csc_matrix((data, indices, indptr), shape=shape)\n",
    "         \n",
    "        feature_ref = {}\n",
    "        feature_group = f.get_node(mat_group, 'features')\n",
    "        feature_ids = getattr(feature_group, 'id').read()\n",
    "        feature_names = getattr(feature_group, 'name').read()\n",
    "        feature_types = getattr(feature_group, 'feature_type').read()\n",
    "        feature_ref['id'] = feature_ids\n",
    "        feature_ref['name'] = feature_names\n",
    "        feature_ref['feature_type'] = feature_types\n",
    "        tag_keys = getattr(feature_group, '_all_tag_keys').read()\n",
    "        for key in tag_keys:\n",
    "            key = key.decode(\"utf-8\")\n",
    "            feature_ref[key] = getattr(feature_group, key).read()\n",
    "            \n",
    "        return CountMatrix(feature_ref, barcodes, matrix)"
   ]
  },
  {
   "cell_type": "code",
   "execution_count": null,
   "id": "af6b55cd",
   "metadata": {},
   "outputs": [],
   "source": [
    "def concatenate_csc_matrices_by_columns(matrix1, matrix2):\n",
    "    new_data = np.concatenate((matrix1.data, matrix2.data))\n",
    "    new_indices = np.concatenate((matrix1.indices, matrix2.indices))\n",
    "    new_ind_ptr = matrix2.indptr + len(matrix1.data)\n",
    "    new_ind_ptr = new_ind_ptr[1:]\n",
    "    new_ind_ptr = np.concatenate((matrix1.indptr, new_ind_ptr))\n",
    "\n",
    "    return scipy.sparse.csc_matrix((new_data, new_indices, new_ind_ptr))"
   ]
  },
  {
   "cell_type": "markdown",
   "id": "16480c13",
   "metadata": {},
   "source": [
    "# Data Manipulation: convert h5ad to mtx"
   ]
  },
  {
   "cell_type": "markdown",
   "id": "d1c25bef",
   "metadata": {},
   "source": [
    "## RNA + ATAC"
   ]
  },
  {
   "cell_type": "code",
   "execution_count": 6,
   "id": "7b4b10eb",
   "metadata": {},
   "outputs": [],
   "source": [
    "BMMC_multi_h5ad = \"/home/wsg/BM/data/BMMC/RawData/GSE194122_openproblems_neurips2021_multiome_BMMC_processed.h5ad\""
   ]
  },
  {
   "cell_type": "code",
   "execution_count": 7,
   "id": "8b32fd39",
   "metadata": {},
   "outputs": [],
   "source": [
    "import scanpy as sc\n",
    "from scipy import io\n",
    "BMMC_multi = sc.read_h5ad(BMMC_multi_h5ad)\n",
    "\n",
    "BMMC_rna = BMMC_multi[:, BMMC_multi.var[\"feature_types\"] == \"GEX\"]\n",
    "BMMC_atac = BMMC_multi[:, BMMC_multi.var[\"feature_types\"] == \"ATAC\"]"
   ]
  },
  {
   "cell_type": "code",
   "execution_count": 8,
   "id": "1ff3dee3",
   "metadata": {
    "scrolled": true
   },
   "outputs": [
    {
     "data": {
      "text/plain": [
       "matrix([[0., 0., 0., ..., 2., 0., 0.],\n",
       "        [0., 0., 0., ..., 6., 0., 0.],\n",
       "        [1., 0., 0., ..., 8., 0., 0.],\n",
       "        ...,\n",
       "        [0., 0., 0., ..., 2., 0., 0.],\n",
       "        [0., 0., 0., ..., 1., 0., 0.],\n",
       "        [0., 0., 0., ..., 2., 0., 0.]], dtype=float32)"
      ]
     },
     "execution_count": 8,
     "metadata": {},
     "output_type": "execute_result"
    }
   ],
   "source": [
    "BMMC_rna.layers['processed'] = BMMC_rna.X.copy()\n",
    "BMMC_rna.X = BMMC_rna.layers['counts'].copy()\n",
    "BMMC_rna.X.todense()"
   ]
  },
  {
   "cell_type": "code",
   "execution_count": 9,
   "id": "27584e90",
   "metadata": {},
   "outputs": [
    {
     "data": {
      "text/plain": [
       "matrix([[0., 0., 0., ..., 0., 0., 0.],\n",
       "        [0., 0., 0., ..., 0., 0., 0.],\n",
       "        [0., 0., 0., ..., 0., 0., 0.],\n",
       "        ...,\n",
       "        [0., 0., 0., ..., 0., 2., 0.],\n",
       "        [0., 0., 0., ..., 0., 2., 0.],\n",
       "        [0., 0., 0., ..., 0., 4., 0.]], dtype=float32)"
      ]
     },
     "execution_count": 9,
     "metadata": {},
     "output_type": "execute_result"
    }
   ],
   "source": [
    "BMMC_atac.layers['binarized'] = BMMC_atac.X.copy()\n",
    "BMMC_atac.X = BMMC_atac.layers['counts'].copy()\n",
    "BMMC_atac.X.todense()"
   ]
  },
  {
   "cell_type": "code",
   "execution_count": 10,
   "id": "d045cda0",
   "metadata": {},
   "outputs": [
    {
     "name": "stdout",
     "output_type": "stream",
     "text": [
      "(69249, 13431)\n",
      "(69249, 116490)\n"
     ]
    }
   ],
   "source": [
    "print(BMMC_rna.X.shape)\n",
    "print(BMMC_atac.X.shape)"
   ]
  },
  {
   "cell_type": "code",
   "execution_count": 11,
   "id": "904c213c",
   "metadata": {},
   "outputs": [
    {
     "name": "stdout",
     "output_type": "stream",
     "text": [
      "  (6, 0)\t1.0\n",
      "  (46, 0)\t1.0\n",
      "  (55, 0)\t1.0\n",
      "  (80, 0)\t1.0\n",
      "  (92, 0)\t1.0\n",
      "  (150, 0)\t1.0\n",
      "  (162, 0)\t1.0\n",
      "  (177, 0)\t1.0\n",
      "  (200, 0)\t1.0\n",
      "  (203, 0)\t1.0\n",
      "  (220, 0)\t1.0\n",
      "  (224, 0)\t1.0\n",
      "  (240, 0)\t1.0\n",
      "  (242, 0)\t1.0\n",
      "  (250, 0)\t1.0\n",
      "  (285, 0)\t1.0\n",
      "  (321, 0)\t1.0\n",
      "  (359, 0)\t1.0\n",
      "  (383, 0)\t1.0\n",
      "  (452, 0)\t1.0\n",
      "  (710, 0)\t1.0\n",
      "  (749, 0)\t1.0\n",
      "  (754, 0)\t1.0\n",
      "  (827, 0)\t1.0\n",
      "  (829, 0)\t1.0\n",
      "  :\t:\n",
      "  (115445, 69248)\t1.0\n",
      "  (115465, 69248)\t1.0\n",
      "  (115480, 69248)\t1.0\n",
      "  (115542, 69248)\t1.0\n",
      "  (115585, 69248)\t1.0\n",
      "  (115601, 69248)\t1.0\n",
      "  (115764, 69248)\t1.0\n",
      "  (115767, 69248)\t1.0\n",
      "  (115924, 69248)\t1.0\n",
      "  (115927, 69248)\t1.0\n",
      "  (115940, 69248)\t1.0\n",
      "  (115951, 69248)\t1.0\n",
      "  (116081, 69248)\t1.0\n",
      "  (116102, 69248)\t1.0\n",
      "  (116157, 69248)\t1.0\n",
      "  (116192, 69248)\t1.0\n",
      "  (116200, 69248)\t1.0\n",
      "  (116251, 69248)\t1.0\n",
      "  (116270, 69248)\t1.0\n",
      "  (116278, 69248)\t1.0\n",
      "  (116342, 69248)\t1.0\n",
      "  (116383, 69248)\t1.0\n",
      "  (116404, 69248)\t1.0\n",
      "  (116425, 69248)\t1.0\n",
      "  (116488, 69248)\t1.0\n"
     ]
    }
   ],
   "source": [
    "# print(BMMC_atac.X.T)\n",
    "print(BMMC_atac.layers['binarized'].T)"
   ]
  },
  {
   "cell_type": "code",
   "execution_count": 11,
   "id": "65062222",
   "metadata": {},
   "outputs": [
    {
     "ename": "FileNotFoundError",
     "evalue": "[Errno 2] Unable to create file (unable to open file: name = '/home/wsg/BM/data/BMMC/RNA+ATAC/multiome/RawData/BMMC-multiome-raw-RNA-counts.h5ad', errno = 2, error message = 'No such file or directory', flags = 13, o_flags = 242)",
     "output_type": "error",
     "traceback": [
      "\u001b[0;31m---------------------------------------------------------------------------\u001b[0m",
      "\u001b[0;31mFileNotFoundError\u001b[0m                         Traceback (most recent call last)",
      "Input \u001b[0;32mIn [11]\u001b[0m, in \u001b[0;36m<cell line: 4>\u001b[0;34m()\u001b[0m\n\u001b[1;32m      1\u001b[0m output_path \u001b[38;5;241m=\u001b[39m \u001b[38;5;124m\"\u001b[39m\u001b[38;5;124m/home/wsg/BM/data/BMMC/RNA+ATAC/multiome/RawData\u001b[39m\u001b[38;5;124m\"\u001b[39m\n\u001b[1;32m      3\u001b[0m \u001b[38;5;66;03m# save hd5\u001b[39;00m\n\u001b[0;32m----> 4\u001b[0m \u001b[43mBMMC_rna\u001b[49m\u001b[38;5;241;43m.\u001b[39;49m\u001b[43mwrite_h5ad\u001b[49m\u001b[43m(\u001b[49m\u001b[38;5;124;43m\"\u001b[39;49m\u001b[38;5;132;43;01m{}\u001b[39;49;00m\u001b[38;5;124;43m/BMMC-multiome-raw-RNA-counts.h5ad\u001b[39;49m\u001b[38;5;124;43m\"\u001b[39;49m\u001b[38;5;241;43m.\u001b[39;49m\u001b[43mformat\u001b[49m\u001b[43m(\u001b[49m\u001b[43moutput_path\u001b[49m\u001b[43m)\u001b[49m\u001b[43m)\u001b[49m\n\u001b[1;32m      5\u001b[0m \u001b[38;5;66;03m# save hd5\u001b[39;00m\n\u001b[1;32m      6\u001b[0m BMMC_atac\u001b[38;5;241m.\u001b[39mwrite_h5ad(\u001b[38;5;124m\"\u001b[39m\u001b[38;5;132;01m{}\u001b[39;00m\u001b[38;5;124m/BMMC-multiome-raw-ATAC-peaks.h5ad\u001b[39m\u001b[38;5;124m\"\u001b[39m\u001b[38;5;241m.\u001b[39mformat(output_path))\n",
      "File \u001b[0;32m~/software/miniconda3/envs/benchmark/lib/python3.8/site-packages/anndata/_core/anndata.py:1918\u001b[0m, in \u001b[0;36mAnnData.write_h5ad\u001b[0;34m(self, filename, compression, compression_opts, force_dense, as_dense)\u001b[0m\n\u001b[1;32m   1915\u001b[0m \u001b[38;5;28;01mif\u001b[39;00m filename \u001b[38;5;129;01mis\u001b[39;00m \u001b[38;5;28;01mNone\u001b[39;00m:\n\u001b[1;32m   1916\u001b[0m     filename \u001b[38;5;241m=\u001b[39m \u001b[38;5;28mself\u001b[39m\u001b[38;5;241m.\u001b[39mfilename\n\u001b[0;32m-> 1918\u001b[0m \u001b[43m_write_h5ad\u001b[49m\u001b[43m(\u001b[49m\n\u001b[1;32m   1919\u001b[0m \u001b[43m    \u001b[49m\u001b[43mPath\u001b[49m\u001b[43m(\u001b[49m\u001b[43mfilename\u001b[49m\u001b[43m)\u001b[49m\u001b[43m,\u001b[49m\n\u001b[1;32m   1920\u001b[0m \u001b[43m    \u001b[49m\u001b[38;5;28;43mself\u001b[39;49m\u001b[43m,\u001b[49m\n\u001b[1;32m   1921\u001b[0m \u001b[43m    \u001b[49m\u001b[43mcompression\u001b[49m\u001b[38;5;241;43m=\u001b[39;49m\u001b[43mcompression\u001b[49m\u001b[43m,\u001b[49m\n\u001b[1;32m   1922\u001b[0m \u001b[43m    \u001b[49m\u001b[43mcompression_opts\u001b[49m\u001b[38;5;241;43m=\u001b[39;49m\u001b[43mcompression_opts\u001b[49m\u001b[43m,\u001b[49m\n\u001b[1;32m   1923\u001b[0m \u001b[43m    \u001b[49m\u001b[43mforce_dense\u001b[49m\u001b[38;5;241;43m=\u001b[39;49m\u001b[43mforce_dense\u001b[49m\u001b[43m,\u001b[49m\n\u001b[1;32m   1924\u001b[0m \u001b[43m    \u001b[49m\u001b[43mas_dense\u001b[49m\u001b[38;5;241;43m=\u001b[39;49m\u001b[43mas_dense\u001b[49m\u001b[43m,\u001b[49m\n\u001b[1;32m   1925\u001b[0m \u001b[43m\u001b[49m\u001b[43m)\u001b[49m\n\u001b[1;32m   1927\u001b[0m \u001b[38;5;28;01mif\u001b[39;00m \u001b[38;5;28mself\u001b[39m\u001b[38;5;241m.\u001b[39misbacked:\n\u001b[1;32m   1928\u001b[0m     \u001b[38;5;28mself\u001b[39m\u001b[38;5;241m.\u001b[39mfile\u001b[38;5;241m.\u001b[39mfilename \u001b[38;5;241m=\u001b[39m filename\n",
      "File \u001b[0;32m~/software/miniconda3/envs/benchmark/lib/python3.8/site-packages/anndata/_io/h5ad.py:75\u001b[0m, in \u001b[0;36mwrite_h5ad\u001b[0;34m(filepath, adata, force_dense, as_dense, dataset_kwargs, **kwargs)\u001b[0m\n\u001b[1;32m     73\u001b[0m \u001b[38;5;28;01mif\u001b[39;00m adata\u001b[38;5;241m.\u001b[39misbacked:  \u001b[38;5;66;03m# close so that we can reopen below\u001b[39;00m\n\u001b[1;32m     74\u001b[0m     adata\u001b[38;5;241m.\u001b[39mfile\u001b[38;5;241m.\u001b[39mclose()\n\u001b[0;32m---> 75\u001b[0m \u001b[38;5;28;01mwith\u001b[39;00m \u001b[43mh5py\u001b[49m\u001b[38;5;241;43m.\u001b[39;49m\u001b[43mFile\u001b[49m\u001b[43m(\u001b[49m\u001b[43mfilepath\u001b[49m\u001b[43m,\u001b[49m\u001b[43m \u001b[49m\u001b[43mmode\u001b[49m\u001b[43m)\u001b[49m \u001b[38;5;28;01mas\u001b[39;00m f:\n\u001b[1;32m     76\u001b[0m     \u001b[38;5;66;03m# TODO: Use spec writing system for this\u001b[39;00m\n\u001b[1;32m     77\u001b[0m     f \u001b[38;5;241m=\u001b[39m f[\u001b[38;5;124m\"\u001b[39m\u001b[38;5;124m/\u001b[39m\u001b[38;5;124m\"\u001b[39m]\n\u001b[1;32m     78\u001b[0m     f\u001b[38;5;241m.\u001b[39mattrs\u001b[38;5;241m.\u001b[39msetdefault(\u001b[38;5;124m\"\u001b[39m\u001b[38;5;124mencoding-type\u001b[39m\u001b[38;5;124m\"\u001b[39m, \u001b[38;5;124m\"\u001b[39m\u001b[38;5;124manndata\u001b[39m\u001b[38;5;124m\"\u001b[39m)\n",
      "File \u001b[0;32m~/software/miniconda3/envs/benchmark/lib/python3.8/site-packages/h5py/_hl/files.py:507\u001b[0m, in \u001b[0;36mFile.__init__\u001b[0;34m(self, name, mode, driver, libver, userblock_size, swmr, rdcc_nslots, rdcc_nbytes, rdcc_w0, track_order, fs_strategy, fs_persist, fs_threshold, fs_page_size, page_buf_size, min_meta_keep, min_raw_keep, locking, **kwds)\u001b[0m\n\u001b[1;32m    502\u001b[0m     fapl \u001b[38;5;241m=\u001b[39m make_fapl(driver, libver, rdcc_nslots, rdcc_nbytes, rdcc_w0,\n\u001b[1;32m    503\u001b[0m                      locking, page_buf_size, min_meta_keep, min_raw_keep, \u001b[38;5;241m*\u001b[39m\u001b[38;5;241m*\u001b[39mkwds)\n\u001b[1;32m    504\u001b[0m     fcpl \u001b[38;5;241m=\u001b[39m make_fcpl(track_order\u001b[38;5;241m=\u001b[39mtrack_order, fs_strategy\u001b[38;5;241m=\u001b[39mfs_strategy,\n\u001b[1;32m    505\u001b[0m                      fs_persist\u001b[38;5;241m=\u001b[39mfs_persist, fs_threshold\u001b[38;5;241m=\u001b[39mfs_threshold,\n\u001b[1;32m    506\u001b[0m                      fs_page_size\u001b[38;5;241m=\u001b[39mfs_page_size)\n\u001b[0;32m--> 507\u001b[0m     fid \u001b[38;5;241m=\u001b[39m \u001b[43mmake_fid\u001b[49m\u001b[43m(\u001b[49m\u001b[43mname\u001b[49m\u001b[43m,\u001b[49m\u001b[43m \u001b[49m\u001b[43mmode\u001b[49m\u001b[43m,\u001b[49m\u001b[43m \u001b[49m\u001b[43muserblock_size\u001b[49m\u001b[43m,\u001b[49m\u001b[43m \u001b[49m\u001b[43mfapl\u001b[49m\u001b[43m,\u001b[49m\u001b[43m \u001b[49m\u001b[43mfcpl\u001b[49m\u001b[43m,\u001b[49m\u001b[43m \u001b[49m\u001b[43mswmr\u001b[49m\u001b[38;5;241;43m=\u001b[39;49m\u001b[43mswmr\u001b[49m\u001b[43m)\u001b[49m\n\u001b[1;32m    509\u001b[0m \u001b[38;5;28;01mif\u001b[39;00m \u001b[38;5;28misinstance\u001b[39m(libver, \u001b[38;5;28mtuple\u001b[39m):\n\u001b[1;32m    510\u001b[0m     \u001b[38;5;28mself\u001b[39m\u001b[38;5;241m.\u001b[39m_libver \u001b[38;5;241m=\u001b[39m libver\n",
      "File \u001b[0;32m~/software/miniconda3/envs/benchmark/lib/python3.8/site-packages/h5py/_hl/files.py:226\u001b[0m, in \u001b[0;36mmake_fid\u001b[0;34m(name, mode, userblock_size, fapl, fcpl, swmr)\u001b[0m\n\u001b[1;32m    224\u001b[0m     fid \u001b[38;5;241m=\u001b[39m h5f\u001b[38;5;241m.\u001b[39mcreate(name, h5f\u001b[38;5;241m.\u001b[39mACC_EXCL, fapl\u001b[38;5;241m=\u001b[39mfapl, fcpl\u001b[38;5;241m=\u001b[39mfcpl)\n\u001b[1;32m    225\u001b[0m \u001b[38;5;28;01melif\u001b[39;00m mode \u001b[38;5;241m==\u001b[39m \u001b[38;5;124m'\u001b[39m\u001b[38;5;124mw\u001b[39m\u001b[38;5;124m'\u001b[39m:\n\u001b[0;32m--> 226\u001b[0m     fid \u001b[38;5;241m=\u001b[39m \u001b[43mh5f\u001b[49m\u001b[38;5;241;43m.\u001b[39;49m\u001b[43mcreate\u001b[49m\u001b[43m(\u001b[49m\u001b[43mname\u001b[49m\u001b[43m,\u001b[49m\u001b[43m \u001b[49m\u001b[43mh5f\u001b[49m\u001b[38;5;241;43m.\u001b[39;49m\u001b[43mACC_TRUNC\u001b[49m\u001b[43m,\u001b[49m\u001b[43m \u001b[49m\u001b[43mfapl\u001b[49m\u001b[38;5;241;43m=\u001b[39;49m\u001b[43mfapl\u001b[49m\u001b[43m,\u001b[49m\u001b[43m \u001b[49m\u001b[43mfcpl\u001b[49m\u001b[38;5;241;43m=\u001b[39;49m\u001b[43mfcpl\u001b[49m\u001b[43m)\u001b[49m\n\u001b[1;32m    227\u001b[0m \u001b[38;5;28;01melif\u001b[39;00m mode \u001b[38;5;241m==\u001b[39m \u001b[38;5;124m'\u001b[39m\u001b[38;5;124ma\u001b[39m\u001b[38;5;124m'\u001b[39m:\n\u001b[1;32m    228\u001b[0m     \u001b[38;5;66;03m# Open in append mode (read/write).\u001b[39;00m\n\u001b[1;32m    229\u001b[0m     \u001b[38;5;66;03m# If that fails, create a new file only if it won't clobber an\u001b[39;00m\n\u001b[1;32m    230\u001b[0m     \u001b[38;5;66;03m# existing one (ACC_EXCL)\u001b[39;00m\n\u001b[1;32m    231\u001b[0m     \u001b[38;5;28;01mtry\u001b[39;00m:\n",
      "File \u001b[0;32mh5py/_objects.pyx:54\u001b[0m, in \u001b[0;36mh5py._objects.with_phil.wrapper\u001b[0;34m()\u001b[0m\n",
      "File \u001b[0;32mh5py/_objects.pyx:55\u001b[0m, in \u001b[0;36mh5py._objects.with_phil.wrapper\u001b[0;34m()\u001b[0m\n",
      "File \u001b[0;32mh5py/h5f.pyx:126\u001b[0m, in \u001b[0;36mh5py.h5f.create\u001b[0;34m()\u001b[0m\n",
      "\u001b[0;31mFileNotFoundError\u001b[0m: [Errno 2] Unable to create file (unable to open file: name = '/home/wsg/BM/data/BMMC/RNA+ATAC/multiome/RawData/BMMC-multiome-raw-RNA-counts.h5ad', errno = 2, error message = 'No such file or directory', flags = 13, o_flags = 242)"
     ]
    }
   ],
   "source": [
    "output_path = \"/home/wsg/BM/data/BMMC/RNA+ATAC/multiome/RawData\"\n",
    "\n",
    "# save hd5\n",
    "BMMC_rna.write_h5ad(\"{}/BMMC-multiome-raw-RNA-counts.h5ad\".format(output_path))\n",
    "# save hd5\n",
    "BMMC_atac.write_h5ad(\"{}/BMMC-multiome-raw-ATAC-peaks.h5ad\".format(output_path))"
   ]
  },
  {
   "cell_type": "code",
   "execution_count": 8,
   "id": "a6b2c191",
   "metadata": {},
   "outputs": [
    {
     "name": "stdout",
     "output_type": "stream",
     "text": [
      "mkdir: cannot create directory ‘RNA+ATAC/multiome/RawData/BMMC-multiome-raw-RNA-counts.mtx’: File exists\r\n"
     ]
    }
   ],
   "source": [
    "# Save RNA\n",
    "## makr dir\n",
    "!mkdir RNA+ATAC/multiome/RawData/BMMC-multiome-raw-RNA-counts.mtx\n",
    "## save X to mtx\n",
    "io.mmwrite('RNA+ATAC/multiome/RawData/BMMC-multiome-raw-RNA-counts.mtx/matrix', BMMC_rna.X.T)\n",
    "## save barcodes\n",
    "with open('RNA+ATAC/multiome/RawData/BMMC-multiome-raw-RNA-counts.mtx/barcodes.tsv', 'w') as f:\n",
    "    for item in BMMC_rna.obs_names:\n",
    "        f.write(item + '\\n')      \n",
    "## save features\n",
    "with open('RNA+ATAC/multiome/RawData/BMMC-multiome-raw-RNA-counts.mtx/features.tsv', 'w') as f:\n",
    "    for item in BMMC_rna.var_names:\n",
    "        f.write(item + '\\n')\n",
    "## gzip file\n",
    "!gzip RNA+ATAC/multiome/RawData/BMMC-multiome-raw-RNA-counts.mtx/*\n",
    "## save metadata\n",
    "BMMC_rna.obs.to_csv('RNA+ATAC/multiome/RawData/BMMC-multiome-raw-RNA-counts.mtx/metadata.csv')"
   ]
  },
  {
   "cell_type": "code",
   "execution_count": 16,
   "id": "c7c8b314",
   "metadata": {},
   "outputs": [
    {
     "name": "stdout",
     "output_type": "stream",
     "text": [
      "mkdir: cannot create directory ‘RNA+ATAC/multiome/RawData/BMMC-multiome-raw-ATAC-peaks.mtx’: File exists\r\n"
     ]
    }
   ],
   "source": [
    "# Save ATAC\n",
    "## makr dir\n",
    "!mkdir RNA+ATAC/multiome/RawData/BMMC-multiome-raw-ATAC-peaks.mtx\n",
    "## save X to mtx\n",
    "io.mmwrite('RNA+ATAC/multiome/RawData/BMMC-multiome-raw-ATAC-peaks.mtx/matrix', BMMC_atac.X.T)\n",
    "## save barcodes\n",
    "with open('RNA+ATAC/multiome/RawData/BMMC-multiome-raw-ATAC-peaks.mtx/barcodes.tsv', 'w') as f:\n",
    "    for item in BMMC_atac.obs_names:\n",
    "        f.write(item + '\\n')      \n",
    "## save features\n",
    "with open('RNA+ATAC/multiome/RawData/BMMC-multiome-raw-ATAC-peaks.mtx/features.tsv', 'w') as f:\n",
    "    for item in BMMC_atac.var_names:\n",
    "        f.write(item + '\\n')\n",
    "## gzip file\n",
    "!gzip RNA+ATAC/multiome/RawData/BMMC-multiome-raw-ATAC-peaks.mtx/*\n",
    "## save metadata\n",
    "BMMC_atac.obs.to_csv('RNA+ATAC/multiome/RawData/BMMC-multiome-raw-ATAC-peaks.mtx/metadata.csv')"
   ]
  },
  {
   "cell_type": "code",
   "execution_count": 12,
   "id": "a669bc2e",
   "metadata": {},
   "outputs": [
    {
     "name": "stdout",
     "output_type": "stream",
     "text": [
      "mkdir: cannot create directory ‘RNA+ATAC/multiome/RawData/BMMC-multiome-binarized-ATAC-peaks.mtx’: File exists\r\n"
     ]
    }
   ],
   "source": [
    "# Save binarized ATAC\n",
    "## makr dir\n",
    "!mkdir RNA+ATAC/multiome/RawData/BMMC-multiome-binarized-ATAC-peaks.mtx\n",
    "## save X to mtx\n",
    "io.mmwrite('RNA+ATAC/multiome/RawData/BMMC-multiome-binarized-ATAC-peaks.mtx/matrix', BMMC_atac.layers['binarized'].T)\n",
    "## save barcodes\n",
    "with open('RNA+ATAC/multiome/RawData/BMMC-multiome-binarized-ATAC-peaks.mtx/barcodes.tsv', 'w') as f:\n",
    "    for item in BMMC_atac.obs_names:\n",
    "        f.write(item + '\\n')      \n",
    "## save features\n",
    "with open('RNA+ATAC/multiome/RawData/BMMC-multiome-binarized-ATAC-peaks.mtx/features.tsv', 'w') as f:\n",
    "    for item in BMMC_atac.var_names:\n",
    "        f.write(item + '\\n')\n",
    "## gzip file\n",
    "!gzip RNA+ATAC/multiome/RawData/BMMC-multiome-binarized-ATAC-peaks.mtx/*\n",
    "## save metadata\n",
    "BMMC_atac.obs.to_csv('RNA+ATAC/multiome/RawData/BMMC-multiome-binarized-ATAC-peaks.mtx/metadata.csv')"
   ]
  },
  {
   "cell_type": "code",
   "execution_count": null,
   "id": "e3ac4bed",
   "metadata": {},
   "outputs": [],
   "source": []
  },
  {
   "cell_type": "code",
   "execution_count": 14,
   "id": "113b8d7b",
   "metadata": {
    "lines_to_next_cell": 2
   },
   "outputs": [],
   "source": [
    "# print(BMMC_multi.obs.Site.value_counts())\n",
    "# print(BMMC_multi.obs.Samplename.value_counts())\n",
    "# print(BMMC_multi.obs.batch.value_counts())\n",
    "# print(BMMC_multi.obs.Modality.value_counts())\n",
    "# print(BMMC_multi.obs.cell_type.value_counts())\n",
    "\n",
    "# print(BMMC_multi.obs.DonorAge.value_counts())\n",
    "# print(BMMC_multi.obs.DonorBloodType.value_counts())\n",
    "# print(BMMC_multi.obs.DonorBMI.value_counts())\n",
    "# print(BMMC_multi.obs.DonorGender.value_counts())\n",
    "# print(BMMC_multi.obs.DonorID.value_counts())\n",
    "# print(BMMC_multi.obs.DonorNumber.value_counts())\n",
    "# print(BMMC_multi.obs.DonorRace.value_counts())\n",
    "# print(BMMC_multi.obs.DonorSmoker.value_counts())"
   ]
  },
  {
   "cell_type": "code",
   "execution_count": 9,
   "id": "3c6f6c30",
   "metadata": {
    "scrolled": true
   },
   "outputs": [
    {
     "name": "stdout",
     "output_type": "stream",
     "text": [
      "AL627309.5    GEX\n",
      "LINC01409     GEX\n",
      "LINC01128     GEX\n",
      "NOC2L         GEX\n",
      "KLHL17        GEX\n",
      "             ... \n",
      "MT-ND5        GEX\n",
      "MT-ND6        GEX\n",
      "MT-CYB        GEX\n",
      "AL592183.1    GEX\n",
      "AC240274.1    GEX\n",
      "Name: feature_types, Length: 13431, dtype: category\n",
      "Categories (1, object): ['GEX']\n",
      "chr1-9776-10668            ATAC\n",
      "chr1-180726-181005         ATAC\n",
      "chr1-181117-181803         ATAC\n",
      "chr1-191133-192055         ATAC\n",
      "chr1-267562-268456         ATAC\n",
      "                           ... \n",
      "GL000219.1-90062-90937     ATAC\n",
      "GL000219.1-99257-100160    ATAC\n",
      "KI270726.1-27152-28034     ATAC\n",
      "KI270713.1-21434-22336     ATAC\n",
      "KI270713.1-29629-30491     ATAC\n",
      "Name: feature_types, Length: 116490, dtype: category\n",
      "Categories (1, object): ['ATAC']\n"
     ]
    }
   ],
   "source": [
    "import scanpy as sc\n",
    "from scipy import io\n",
    "BMMC_multi = sc.read_h5ad(BMMC_multi_h5ad)\n",
    "\n",
    "# print(BMMC_multi.obs.DonorSmoker.value_counts())\n",
    "BMMC_rna = BMMC_multi[:, BMMC_multi.var[\"feature_types\"] == \"GEX\"]\n",
    "BMMC_atac = BMMC_multi[:, BMMC_multi.var[\"feature_types\"] == \"ATAC\"]\n",
    "print(BMMC_rna.var.feature_types)\n",
    "print(BMMC_atac.var.feature_types)"
   ]
  },
  {
   "cell_type": "code",
   "execution_count": 10,
   "id": "f1d9bdde",
   "metadata": {},
   "outputs": [
    {
     "name": "stdout",
     "output_type": "stream",
     "text": [
      "[[ 0.          0.          0.         ...  4.410295    0.\n",
      "   0.        ]\n",
      " [ 0.          0.          0.         ... 13.168547    0.\n",
      "   0.        ]\n",
      " [ 0.41061893  0.          0.         ...  3.2849514   0.\n",
      "   0.        ]\n",
      " ...\n",
      " [ 0.          0.          0.         ...  4.6001105   0.\n",
      "   0.        ]\n",
      " [ 0.          0.          0.         ...  1.2580403   0.\n",
      "   0.        ]\n",
      " [ 0.          0.          0.         ...  4.014935    0.\n",
      "   0.        ]]\n",
      "[[0. 0. 0. ... 2. 0. 0.]\n",
      " [0. 0. 0. ... 6. 0. 0.]\n",
      " [1. 0. 0. ... 8. 0. 0.]\n",
      " ...\n",
      " [0. 0. 0. ... 2. 0. 0.]\n",
      " [0. 0. 0. ... 1. 0. 0.]\n",
      " [0. 0. 0. ... 2. 0. 0.]]\n"
     ]
    }
   ],
   "source": [
    "print(BMMC_rna.X.todense())\n",
    "BMMC_rna.layers['processed'] = BMMC_rna.X.copy()\n",
    "BMMC_rna.X = BMMC_rna.layers['counts'].copy()\n",
    "print(BMMC_rna.X.todense())"
   ]
  },
  {
   "cell_type": "code",
   "execution_count": 11,
   "id": "4f70d0a0",
   "metadata": {
    "scrolled": true
   },
   "outputs": [
    {
     "name": "stdout",
     "output_type": "stream",
     "text": [
      "[[0. 0. 0. ... 0. 0. 0.]\n",
      " [0. 0. 0. ... 0. 0. 0.]\n",
      " [0. 0. 0. ... 0. 0. 0.]\n",
      " ...\n",
      " [0. 0. 0. ... 0. 1. 0.]\n",
      " [0. 0. 0. ... 0. 1. 0.]\n",
      " [0. 0. 0. ... 0. 1. 0.]]\n",
      "[[0. 0. 0. ... 0. 0. 0.]\n",
      " [0. 0. 0. ... 0. 0. 0.]\n",
      " [0. 0. 0. ... 0. 0. 0.]\n",
      " ...\n",
      " [0. 0. 0. ... 0. 2. 0.]\n",
      " [0. 0. 0. ... 0. 2. 0.]\n",
      " [0. 0. 0. ... 0. 4. 0.]]\n"
     ]
    }
   ],
   "source": [
    "print(BMMC_atac.X.todense())\n",
    "BMMC_atac.layers['processed'] = BMMC_atac.X.copy()\n",
    "BMMC_atac.X = BMMC_atac.layers['counts'].copy()\n",
    "print(BMMC_atac.X.todense())"
   ]
  },
  {
   "cell_type": "code",
   "execution_count": 18,
   "id": "9749a1ec",
   "metadata": {},
   "outputs": [
    {
     "name": "stdout",
     "output_type": "stream",
     "text": [
      "BMMC-raw-pair-ATAC-peaks.h5ad\t   BMMC-raw-pair-RNA-counts.mtx\r\n",
      "BMMC-raw-pair-ATAC-peaks.h5Seurat  BMMC-raw-pair-RNA-counts.rds\r\n",
      "BMMC-raw-pair-ATAC-peaks.mtx\t   BMMC-scglue-pair-RNA-barcodes.tsv\r\n",
      "BMMC-raw-pair-ATAC-peaks.rds\t   BMMC-scglue-pair-RNA-genes.tsv\r\n",
      "BMMC-raw-pair-RNA-counts.h5ad\t   BMMC-scglue-pair-RNA-matrix.mtx\r\n",
      "BMMC-raw-pair-RNA-counts.h5Seurat\r\n"
     ]
    }
   ],
   "source": [
    "!ls /Data/wangsg/BM/pipeline/results/BMMC/data_preprocess"
   ]
  },
  {
   "cell_type": "code",
   "execution_count": 20,
   "id": "11d3ef25",
   "metadata": {},
   "outputs": [],
   "source": [
    "output_path = \"/Data/wangsg/BM/pipeline/results/BMMC/data_preprocess\"\n",
    "\n",
    "# save hd5\n",
    "BMMC_rna.write_h5ad(\"{}/BMMC-raw-pair-RNA-counts.h5ad\".format(output_path))\n",
    "\n",
    "# save hd5\n",
    "BMMC_atac.write_h5ad(\"{}/BMMC-raw-pair-ATAC-peaks.h5ad\".format(output_path))"
   ]
  },
  {
   "cell_type": "code",
   "execution_count": 26,
   "id": "d4c321ba",
   "metadata": {},
   "outputs": [],
   "source": [
    "# Save RNA\n",
    "## makr dir\n",
    "!mkdir BMMC-raw-pair-RNA-counts.mtx\n",
    "## save X to mtx\n",
    "io.mmwrite('BMMC-raw-pair-RNA-counts.mtx/matrix', BMMC_rna.X.T)\n",
    "## save barcodes\n",
    "with open('BMMC-raw-pair-RNA-counts.mtx/barcodes.tsv', 'w') as f:\n",
    "    for item in BMMC_rna.obs_names:\n",
    "        f.write(item + '\\n')      \n",
    "## save features\n",
    "with open('BMMC-raw-pair-RNA-counts.mtx/features.tsv', 'w') as f:\n",
    "    for item in BMMC_rna.var_names:\n",
    "        f.write(item + '\\n')\n",
    "## gzip file\n",
    "!gzip BMMC-raw-pair-RNA-counts.mtx/*\n",
    "## save metadata\n",
    "BMMC_rna.obs.to_csv('BMMC-raw-pair-RNA-counts.mtx/metadata.csv')"
   ]
  },
  {
   "cell_type": "code",
   "execution_count": 27,
   "id": "29473ea5",
   "metadata": {},
   "outputs": [],
   "source": [
    "# Save ATAC\n",
    "## makr dir\n",
    "!mkdir BMMC-raw-pair-ATAC-peaks.mtx\n",
    "## save X to mtx\n",
    "io.mmwrite('BMMC-raw-pair-ATAC-peaks.mtx/matrix', BMMC_atac.X.T)\n",
    "## save barcodes\n",
    "with open('BMMC-raw-pair-ATAC-peaks.mtx/barcodes.tsv', 'w') as f:\n",
    "    for item in BMMC_atac.obs_names:\n",
    "        f.write(item + '\\n')      \n",
    "## save features\n",
    "with open('BMMC-raw-pair-ATAC-peaks.mtx/features.tsv', 'w') as f:\n",
    "    for item in BMMC_atac.var_names:\n",
    "        f.write(item + '\\n')\n",
    "## gzip file\n",
    "!gzip BMMC-raw-pair-ATAC-peaks.mtx/*\n",
    "## save metadata\n",
    "BMMC_atac.obs.to_csv('BMMC-raw-pair-ATAC-peaks.mtx/metadata.csv')"
   ]
  },
  {
   "cell_type": "code",
   "execution_count": 12,
   "id": "006e4cb5",
   "metadata": {},
   "outputs": [],
   "source": [
    "# Save ATAC\n",
    "BMMC_atac.X = BMMC_atac.layers['processed'].copy()\n",
    "\n",
    "## makr dir\n",
    "!mkdir BMMC-raw-pair-ATAC-peaks-binarized.mtx\n",
    "## save X to mtx\n",
    "io.mmwrite('BMMC-raw-pair-ATAC-peaks-binarized.mtx/matrix', BMMC_atac.X.T)\n",
    "## save barcodes\n",
    "with open('BMMC-raw-pair-ATAC-peaks-binarized.mtx/barcodes.tsv', 'w') as f:\n",
    "    for item in BMMC_atac.obs_names:\n",
    "        f.write(item + '\\n')      \n",
    "## save features\n",
    "with open('BMMC-raw-pair-ATAC-peaks-binarized.mtx/features.tsv', 'w') as f:\n",
    "    for item in BMMC_atac.var_names:\n",
    "        f.write(item + '\\n')\n",
    "## gzip file\n",
    "!gzip BMMC-raw-pair-ATAC-peaks-binarized.mtx/*\n",
    "## save metadata\n",
    "BMMC_atac.obs.to_csv('BMMC-raw-pair-ATAC-peaks-binarized.mtx/metadata.csv')"
   ]
  },
  {
   "cell_type": "markdown",
   "id": "417d9a74",
   "metadata": {},
   "source": [
    "## CITE-seq"
   ]
  },
  {
   "cell_type": "code",
   "execution_count": 12,
   "id": "4920ab7a",
   "metadata": {},
   "outputs": [],
   "source": [
    "BMMC_multi_h5ad = \"/home/wsg/BM/data/BMMC/RawData/GSE194122_openproblems_neurips2021_cite_BMMC_processed.h5ad\""
   ]
  },
  {
   "cell_type": "code",
   "execution_count": 13,
   "id": "a617adaa",
   "metadata": {},
   "outputs": [
    {
     "name": "stdout",
     "output_type": "stream",
     "text": [
      "AL627309.5    GEX\n",
      "LINC01409     GEX\n",
      "LINC01128     GEX\n",
      "LINC00115     GEX\n",
      "FAM41C        GEX\n",
      "             ... \n",
      "HLA-E         ADT\n",
      "CD82          ADT\n",
      "CD101         ADT\n",
      "CD88          ADT\n",
      "CD224         ADT\n",
      "Name: feature_types, Length: 14087, dtype: category\n",
      "Categories (2, object): ['ADT', 'GEX']\n",
      "GEX    13953\n",
      "ADT      134\n",
      "Name: feature_types, dtype: int64\n",
      "AL627309.5    GEX\n",
      "LINC01409     GEX\n",
      "LINC01128     GEX\n",
      "LINC00115     GEX\n",
      "FAM41C        GEX\n",
      "             ... \n",
      "MT-CYB        GEX\n",
      "AC011043.1    GEX\n",
      "AL592183.1    GEX\n",
      "AC240274.1    GEX\n",
      "AC007325.4    GEX\n",
      "Name: feature_types, Length: 13953, dtype: category\n",
      "Categories (1, object): ['GEX']\n",
      "CD86     ADT\n",
      "CD274    ADT\n",
      "CD270    ADT\n",
      "CD155    ADT\n",
      "CD112    ADT\n",
      "        ... \n",
      "HLA-E    ADT\n",
      "CD82     ADT\n",
      "CD101    ADT\n",
      "CD88     ADT\n",
      "CD224    ADT\n",
      "Name: feature_types, Length: 134, dtype: category\n",
      "Categories (1, object): ['ADT']\n"
     ]
    },
    {
     "name": "stderr",
     "output_type": "stream",
     "text": [
      "/home/wsg/software/miniconda3/envs/benchmark/lib/python3.8/site-packages/anndata/_core/anndata.py:1830: UserWarning: Variable names are not unique. To make them unique, call `.var_names_make_unique`.\n",
      "  utils.warn_names_duplicates(\"var\")\n"
     ]
    }
   ],
   "source": [
    "import scanpy as sc\n",
    "from scipy import io\n",
    "BMMC_multi = sc.read_h5ad(BMMC_multi_h5ad)\n",
    "\n",
    "print(BMMC_multi.var.feature_types)\n",
    "print(BMMC_multi.var.feature_types.value_counts())\n",
    "\n",
    "BMMC_rna = BMMC_multi[:, BMMC_multi.var[\"feature_types\"] == \"GEX\"]\n",
    "BMMC_adt = BMMC_multi[:, BMMC_multi.var[\"feature_types\"] == \"ADT\"]\n",
    "\n",
    "print(BMMC_rna.var.feature_types)\n",
    "print(BMMC_adt.var.feature_types)"
   ]
  },
  {
   "cell_type": "code",
   "execution_count": 14,
   "id": "276a7ab2",
   "metadata": {},
   "outputs": [
    {
     "name": "stdout",
     "output_type": "stream",
     "text": [
      "[[0.        0.        0.        ... 0.        0.        0.       ]\n",
      " [0.        0.        0.        ... 0.        0.        0.       ]\n",
      " [0.        0.        0.        ... 0.        0.        0.       ]\n",
      " ...\n",
      " [0.        0.        0.        ... 0.        0.        0.       ]\n",
      " [0.        0.        0.        ... 0.        0.        0.       ]\n",
      " [0.        0.        0.        ... 0.        1.5111434 0.       ]]\n",
      "[[0. 0. 0. ... 0. 0. 0.]\n",
      " [0. 0. 0. ... 0. 0. 0.]\n",
      " [0. 0. 0. ... 0. 0. 0.]\n",
      " ...\n",
      " [0. 0. 0. ... 0. 0. 0.]\n",
      " [0. 0. 0. ... 0. 0. 0.]\n",
      " [0. 0. 0. ... 0. 1. 0.]]\n"
     ]
    }
   ],
   "source": [
    "print(BMMC_rna.X.todense())\n",
    "BMMC_rna.layers['processed'] = BMMC_rna.X.copy()\n",
    "BMMC_rna.X = BMMC_rna.layers['counts'].copy()\n",
    "print(BMMC_rna.X.todense())"
   ]
  },
  {
   "cell_type": "code",
   "execution_count": 15,
   "id": "eb56aa5f",
   "metadata": {},
   "outputs": [
    {
     "name": "stdout",
     "output_type": "stream",
     "text": [
      "[[0.15437832 0.15437832 1.3004414  ... 0.15437832 0.91724646 0.6068599 ]\n",
      " [1.2411374  0.27233985 0.9930009  ... 2.0187593  0.72912055 1.9254438 ]\n",
      " [0.         0.22376126 1.3568352  ... 0.         0.7554061  0.4064944 ]\n",
      " ...\n",
      " [0.09068501 1.3225017  1.030889   ... 0.6674399  0.5649686  1.0964116 ]\n",
      " [0.13610515 1.5667104  1.2673818  ... 0.45945412 0.9285848  0.7388458 ]\n",
      " [0.11087249 1.3386939  1.3689729  ... 0.7758898  0.53269356 0.7758898 ]]\n",
      "[[  1.   1.  16. ...   1.   9.   5.]\n",
      " [ 55.   7.  38. ... 146.  24. 131.]\n",
      " [  0.   2.  23. ...   0.   9.   4.]\n",
      " ...\n",
      " [  1.  29.  19. ...  10.   8.  21.]\n",
      " [  2.  52.  35. ...   8.  21.  15.]\n",
      " [  1.  24.  25. ...  10.   6.  10.]]\n"
     ]
    }
   ],
   "source": [
    "print(BMMC_adt.X.todense())\n",
    "BMMC_adt.layers['processed'] = BMMC_adt.X.copy()\n",
    "BMMC_adt.X = BMMC_adt.layers['counts'].copy()\n",
    "print(BMMC_adt.X.todense())"
   ]
  },
  {
   "cell_type": "code",
   "execution_count": 16,
   "id": "fb350be1",
   "metadata": {},
   "outputs": [
    {
     "name": "stdout",
     "output_type": "stream",
     "text": [
      "(90261, 13953)\n",
      "(90261, 134)\n"
     ]
    }
   ],
   "source": [
    "print(BMMC_rna.X.shape)\n",
    "print(BMMC_adt.X.shape)"
   ]
  },
  {
   "cell_type": "code",
   "execution_count": 13,
   "id": "8c6e799f",
   "metadata": {},
   "outputs": [],
   "source": [
    "output_path = \"/Data/wangsg/BM/pipeline/data/BMMC/RNA+ADT/CITE-seq\"\n",
    "\n",
    "# save hd5\n",
    "BMMC_rna.write_h5ad(\"{}/BMMC-raw-pair-RNA-counts.h5ad\".format(output_path))\n",
    "# save hd5\n",
    "BMMC_adt.write_h5ad(\"{}/BMMC-raw-pair-ADT-counts.h5ad\".format(output_path))"
   ]
  },
  {
   "cell_type": "code",
   "execution_count": 8,
   "id": "1cf76a64",
   "metadata": {},
   "outputs": [],
   "source": [
    "# Save RNA\n",
    "## makr dir\n",
    "!mkdir RNA+ADT/CITE-seq/BMMC-raw-pair-RNA-counts.mtx\n",
    "## save X to mtx\n",
    "io.mmwrite('RNA+ADT/CITE-seq/BMMC-raw-pair-RNA-counts.mtx/matrix', BMMC_rna.X.T)\n",
    "## save barcodes\n",
    "with open('RNA+ADT/CITE-seq/BMMC-raw-pair-RNA-counts.mtx/barcodes.tsv', 'w') as f:\n",
    "    for item in BMMC_rna.obs_names:\n",
    "        f.write(item + '\\n')      \n",
    "## save features\n",
    "with open('RNA+ADT/CITE-seq/BMMC-raw-pair-RNA-counts.mtx/features.tsv', 'w') as f:\n",
    "    for item in BMMC_rna.var_names:\n",
    "        f.write(item + '\\n')\n",
    "## gzip file\n",
    "!gzip RNA+ADT/CITE-seq/BMMC-raw-pair-RNA-counts.mtx/*\n",
    "## save metadata\n",
    "BMMC_rna.obs.to_csv('RNA+ADT/CITE-seq/BMMC-raw-pair-RNA-counts.mtx/metadata.csv')"
   ]
  },
  {
   "cell_type": "code",
   "execution_count": 11,
   "id": "6a96cc79",
   "metadata": {},
   "outputs": [],
   "source": [
    "# Save ADT\n",
    "## makr dir\n",
    "!mkdir RNA+ADT/CITE-seq/BMMC-raw-pair-ADT-counts.mtx\n",
    "## save X to mtx\n",
    "io.mmwrite('RNA+ADT/CITE-seq/BMMC-raw-pair-ADT-counts.mtx/matrix', BMMC_adt.X.T)\n",
    "## save barcodes\n",
    "with open('RNA+ADT/CITE-seq/BMMC-raw-pair-ADT-counts.mtx/barcodes.tsv', 'w') as f:\n",
    "    for item in BMMC_adt.obs_names:\n",
    "        f.write(item + '\\n')      \n",
    "## save features\n",
    "with open('RNA+ADT/CITE-seq/BMMC-raw-pair-ADT-counts.mtx/features.tsv', 'w') as f:\n",
    "    for item in BMMC_adt.var_names:\n",
    "        f.write(item + '\\n')\n",
    "## gzip file\n",
    "!gzip RNA+ADT/CITE-seq/BMMC-raw-pair-ADT-counts.mtx/*\n",
    "## save metadata\n",
    "BMMC_adt.obs.to_csv('RNA+ADT/CITE-seq/BMMC-raw-pair-ADT-counts.mtx/metadata.csv')"
   ]
  },
  {
   "cell_type": "markdown",
   "id": "2ea8c832",
   "metadata": {},
   "source": [
    "# Function: create pkl data of cobolt"
   ]
  },
  {
   "cell_type": "code",
   "execution_count": 17,
   "id": "e886afbd",
   "metadata": {},
   "outputs": [],
   "source": [
    "def cobolt_pkl_data(input_path,\n",
    "                   output_path,\n",
    "                   dataset):\n",
    "    from cobolt.utils import SingleData, MultiomicDataset\n",
    "    from cobolt.model import Cobolt\n",
    "    \n",
    "    # Load Data\n",
    "    rna = SingleData.from_file(path=input_path,\n",
    "                               dataset_name=dataset[\"data_name\"],\n",
    "                               feature_name=\"GeneExpr\",\n",
    "                               count_file=dataset[\"gene_expression\"],\n",
    "                               barcode_file=dataset[\"gene_barcodes\"],\n",
    "                               feature_file=dataset[\"gene_names\"])\n",
    "    atac = SingleData.from_file(path=input_path,\n",
    "                                dataset_name=dataset[\"data_name\"],\n",
    "                                feature_name=\"ChromAccess\",\n",
    "                                count_file=dataset[\"atac_expression\"],\n",
    "                                barcode_file=dataset[\"atac_barcodes\"],\n",
    "                                feature_file=dataset[\"atac_names\"])\n",
    "    # Filter Data\n",
    "    # rna.filter_features(upper_quantile=0.99, lower_quantile=0.7)\n",
    "    atac.filter_features(upper_quantile=0.99, lower_quantile=0.7)\n",
    "\n",
    "    # Merge Data\n",
    "    multi_dt = MultiomicDataset.from_singledata(rna, atac)\n",
    "\n",
    "    # Save Data\n",
    "    save_pickle(multi_dt,\n",
    "                \"{}/{}-{}-{}-multi-filtered.pkl\".format(output_path, dataset[\"data_name\"],\n",
    "                                                \"cobolt\", dataset[\"task_type\"]))"
   ]
  },
  {
   "cell_type": "code",
   "execution_count": 20,
   "id": "6ce0772b",
   "metadata": {},
   "outputs": [],
   "source": [
    "input_path = \"/Data/wangsg/BM/pipeline/results/BMMC/pair/data_preprocess\"\n",
    "output_path = \"/Data/wangsg/BM/pipeline/results/BMMC/pair/data_preprocess\"\n",
    "dataset = json.load(open(\"/Data/wangsg/BM/pipeline/results/BMMC/pair/data_preprocess/BMMC.json\"))"
   ]
  },
  {
   "cell_type": "code",
   "execution_count": 21,
   "id": "089a4100",
   "metadata": {},
   "outputs": [],
   "source": [
    "cobolt_pkl_data(input_path, output_path, dataset)"
   ]
  },
  {
   "cell_type": "markdown",
   "id": "7f1d9c15",
   "metadata": {},
   "source": [
    "# Function: create h5 data of multivi¶"
   ]
  },
  {
   "cell_type": "code",
   "execution_count": 22,
   "id": "380964bb",
   "metadata": {},
   "outputs": [],
   "source": [
    "def multivi_h5ad_data(input_path,\n",
    "                     output_path,\n",
    "                     dataset):\n",
    "    # Load Data\n",
    "    rna = sc.read_h5ad(\"{}/{}-{}-{}-RNA-counts.h5ad\".format(input_path, \n",
    "                                                               dataset[\"data_name\"], \n",
    "                                                               \"raw\", \n",
    "                                                               dataset[\"task_type\"]))\n",
    "\n",
    "    atac = sc.read_h5ad(\"{}/{}-{}-{}-ATAC-peaks.h5ad\".format(input_path, \n",
    "                                                               dataset[\"data_name\"], \n",
    "                                                               \"raw\", \n",
    "                                                               dataset[\"task_type\"]))\n",
    "\n",
    "\n",
    "    # Filter Data\n",
    "    ## RNA\n",
    "    sc.pp.filter_genes(rna, min_cells=int(rna.shape[0] * 0.001))\n",
    "    # sc.pp.filter_cells(rna, min_genes=3)\n",
    "    ## ATAC\n",
    "    sc.pp.filter_genes(atac, min_cells=int(rna.shape[0] * 0.001))\n",
    "    sc.pp.filter_genes(atac, max_cells=int(rna.shape[0] * 0.1))\n",
    "    # sc.pp.filter_cells(atac, min_genes=3)\n",
    "\n",
    "    # Merge Data\n",
    "    multi = anndata.concat([rna, atac], axis=1, join=\"outer\")\n",
    "    multi.var_names_make_unique()\n",
    "\n",
    "    # Add Metadata\n",
    "    multi.var['modality'] = np.repeat([\"Gene Expression\", \"Peaks\"], [rna.shape[1], atac.shape[1]], axis=0)\n",
    "\n",
    "    # Save Data\n",
    "    del multi.raw\n",
    "    multi.write_h5ad(\"{}/{}-{}-{}-multi-filtered.h5ad\".format(output_path, dataset[\"data_name\"],\n",
    "                                                \"multivi\", dataset[\"task_type\"]))"
   ]
  },
  {
   "cell_type": "code",
   "execution_count": 23,
   "id": "c5e2442b",
   "metadata": {},
   "outputs": [],
   "source": [
    "input_path = \"/Data/wangsg/BM/pipeline/results/BMMC/pair/data_preprocess\"\n",
    "output_path = \"/Data/wangsg/BM/pipeline/results/BMMC/pair/data_preprocess\"\n",
    "dataset = json.load(open(\"/Data/wangsg/BM/pipeline/results/BMMC/pair/data_preprocess/BMMC.json\"))"
   ]
  },
  {
   "cell_type": "code",
   "execution_count": 24,
   "id": "d4f5dbb0",
   "metadata": {},
   "outputs": [
    {
     "name": "stderr",
     "output_type": "stream",
     "text": [
      "/home/wangsg/software/miniconda3/envs/joint_bench/lib/python3.8/site-packages/anndata/_core/anndata.py:1830: UserWarning: Variable names are not unique. To make them unique, call `.var_names_make_unique`.\n",
      "  utils.warn_names_duplicates(\"var\")\n"
     ]
    }
   ],
   "source": [
    "multivi_h5ad_data(input_path, output_path, dataset)"
   ]
  },
  {
   "cell_type": "markdown",
   "id": "4bbdab01",
   "metadata": {},
   "source": [
    "# Function: create pkl of scMVP"
   ]
  },
  {
   "cell_type": "code",
   "execution_count": 25,
   "id": "4484b92d",
   "metadata": {},
   "outputs": [],
   "source": [
    "def scMVP_pkl_data(input_path,\n",
    "                   output_path, \n",
    "                   dataset, \n",
    "                   annotation=None, \n",
    "                   annotation_column=None):\n",
    "    \n",
    "    from scMVP.dataset import LoadData, GeneExpressionDataset, CellMeasurement\n",
    "\n",
    "    # Load Data\n",
    "    ## prepare dataset\n",
    "    input_path = \"{}/\".format(input_path)\n",
    "    output_path = \"{}/\".format(output_path)\n",
    "    dataset_sub = {\n",
    "        k: dataset.get(k, None)\n",
    "        for k in (\"gene_names\", \"gene_barcodes\", \"gene_expression\",\n",
    "                  \"atac_names\", \"atac_barcodes\", \"atac_expression\")\n",
    "    }\n",
    "    ## multi\n",
    "    if annotation:\n",
    "        cell_embeddings = pd.read_csv(input_path + annotation,\n",
    "                                      sep=\"\\t\",\n",
    "                                      index_col=None).iloc[:,\n",
    "                                                           annotation_column]\n",
    "        scmvp_multi_data = LoadData(dataset=dataset_sub,\n",
    "                                   data_path=input_path,\n",
    "                                   dense=False,\n",
    "                                   gzipped=False,\n",
    "                                   atac_threshold=0.001,\n",
    "                                   cell_threshold=1,\n",
    "                                   cell_meta=cell_embeddings)\n",
    "    else:\n",
    "        scmvp_multi_data = LoadData(dataset=dataset_sub,\n",
    "                                   data_path=input_path,\n",
    "                                   dense=False,\n",
    "                                   gzipped=False,\n",
    "                                   atac_threshold=0.001,\n",
    "                                   cell_threshold=1)\n",
    "\n",
    "    # Save Data\n",
    "    save_pickle(scmvp_multi_data,\n",
    "                \"{}/{}-{}-{}-multi-filtered.pkl\".format(output_path, dataset[\"data_name\"],\n",
    "                                                \"scMVP\", dataset[\"task_type\"]))"
   ]
  },
  {
   "cell_type": "code",
   "execution_count": 27,
   "id": "f3df366c",
   "metadata": {},
   "outputs": [],
   "source": [
    "input_path = \"/Data/wangsg/BM/pipeline/results/BMMC/pair/data_preprocess\"\n",
    "output_path = \"/Data/wangsg/BM/pipeline/results/BMMC/pair/data_preprocess\"\n",
    "dataset = json.load(open(\"/Data/wangsg/BM/pipeline/results/BMMC/pair/data_preprocess/BMMC.json\"))"
   ]
  },
  {
   "cell_type": "code",
   "execution_count": 28,
   "id": "d5ed3bba",
   "metadata": {},
   "outputs": [
    {
     "name": "stderr",
     "output_type": "stream",
     "text": [
      "[2022-11-15 16:09:31,861] INFO - scMVP._settings | Added StreamHandler with custom formatter to 'scMVP' logger.\n",
      "[2022-11-15 16:09:31,960] INFO - scMVP.dataset.scMVP_dataloader | Preprocessing joint profiling dataset.\n",
      "[2022-11-15 16:18:58,143] INFO - scMVP.dataset.scMVP_dataloader | Finished preprocessing dataset\n",
      "[2022-11-15 16:19:01,398] INFO - scMVP.dataset.dataset | Remapping labels to [0,N]\n",
      "[2022-11-15 16:19:01,402] INFO - scMVP.dataset.dataset | Remapping batch_indices to [0,N]\n",
      "[2022-11-15 16:24:13,193] INFO - scMVP.dataset.dataset | Computing the library size for the new data\n",
      "[2022-11-15 16:24:16,110] INFO - scMVP.dataset.dataset | Downsampled from 69249 to 69249 cells\n"
     ]
    }
   ],
   "source": [
    "scMVP_pkl_data(input_path, output_path, dataset)"
   ]
  },
  {
   "cell_type": "code",
   "execution_count": 30,
   "id": "cdd5a55e",
   "metadata": {},
   "outputs": [],
   "source": [
    "annotation=None\n",
    "annotation_column=None"
   ]
  },
  {
   "cell_type": "code",
   "execution_count": 31,
   "id": "edc97f7c",
   "metadata": {},
   "outputs": [
    {
     "name": "stderr",
     "output_type": "stream",
     "text": [
      "[2022-11-15 16:31:07,966] INFO - scMVP.dataset.scMVP_dataloader | Preprocessing joint profiling dataset.\n",
      "[2022-11-15 16:40:41,058] INFO - scMVP.dataset.scMVP_dataloader | Finished preprocessing dataset\n",
      "[2022-11-15 16:40:46,553] INFO - scMVP.dataset.dataset | Remapping labels to [0,N]\n",
      "[2022-11-15 16:40:46,557] INFO - scMVP.dataset.dataset | Remapping batch_indices to [0,N]\n",
      "[2022-11-15 16:42:10,676] INFO - scMVP.dataset.dataset | Computing the library size for the new data\n",
      "[2022-11-15 16:42:12,429] INFO - scMVP.dataset.dataset | Downsampled from 69249 to 69249 cells\n"
     ]
    }
   ],
   "source": [
    "from scMVP.dataset import LoadData, GeneExpressionDataset, CellMeasurement\n",
    "\n",
    "# Load Data\n",
    "## prepare dataset\n",
    "input_path = \"{}/\".format(input_path)\n",
    "output_path = \"{}/\".format(output_path)\n",
    "dataset_sub = {\n",
    "    k: dataset.get(k, None)\n",
    "    for k in (\"gene_names\", \"gene_barcodes\", \"gene_expression\",\n",
    "              \"atac_names\", \"atac_barcodes\", \"atac_expression\")\n",
    "}\n",
    "## multi\n",
    "if annotation:\n",
    "    cell_embeddings = pd.read_csv(input_path + annotation,\n",
    "                                  sep=\"\\t\",\n",
    "                                  index_col=None).iloc[:,\n",
    "                                                       annotation_column]\n",
    "    scmvp_multi_data = LoadData(dataset=dataset_sub,\n",
    "                               data_path=input_path,\n",
    "                               dense=False,\n",
    "                               gzipped=False,\n",
    "                               atac_threshold=0.001,\n",
    "                               cell_threshold=1,\n",
    "                               cell_meta=cell_embeddings)\n",
    "else:\n",
    "    scmvp_multi_data = LoadData(dataset=dataset_sub,\n",
    "                               data_path=input_path,\n",
    "                               dense=False,\n",
    "                               gzipped=False,\n",
    "                               atac_threshold=0.001,\n",
    "                               cell_threshold=1)\n",
    "\n",
    "# # Save Data\n",
    "# save_pickle(scmvp_multi_data,\n",
    "#             \"{}/{}-{}-{}-multi-filtered.pkl\".format(output_path, dataset[\"data_name\"],\n",
    "#                                             \"scMVP\", dataset[\"task_type\"]))"
   ]
  },
  {
   "cell_type": "code",
   "execution_count": null,
   "id": "551a77df",
   "metadata": {},
   "outputs": [],
   "source": []
  },
  {
   "cell_type": "code",
   "execution_count": null,
   "id": "94a68547",
   "metadata": {},
   "outputs": [],
   "source": []
  },
  {
   "cell_type": "code",
   "execution_count": null,
   "id": "201c8d6e",
   "metadata": {},
   "outputs": [],
   "source": []
  },
  {
   "cell_type": "code",
   "execution_count": null,
   "id": "3282ff46",
   "metadata": {},
   "outputs": [],
   "source": []
  },
  {
   "cell_type": "code",
   "execution_count": null,
   "id": "16f4d3b3",
   "metadata": {},
   "outputs": [],
   "source": []
  }
 ],
 "metadata": {
  "hide_input": false,
  "jupytext": {
   "formats": "ipynb,py:percent"
  },
  "kernelspec": {
   "display_name": "python (benchmark)",
   "language": "python",
   "name": "benchmark"
  },
  "language_info": {
   "codemirror_mode": {
    "name": "ipython",
    "version": 3
   },
   "file_extension": ".py",
   "mimetype": "text/x-python",
   "name": "python",
   "nbconvert_exporter": "python",
   "pygments_lexer": "ipython3",
   "version": "3.8.13"
  },
  "toc": {
   "base_numbering": 1,
   "nav_menu": {},
   "number_sections": true,
   "sideBar": true,
   "skip_h1_title": false,
   "title_cell": "Table of Contents",
   "title_sidebar": "Contents",
   "toc_cell": false,
   "toc_position": {
    "height": "calc(100% - 180px)",
    "left": "10px",
    "top": "150px",
    "width": "355.869px"
   },
   "toc_section_display": true,
   "toc_window_display": true
  }
 },
 "nbformat": 4,
 "nbformat_minor": 5
}
