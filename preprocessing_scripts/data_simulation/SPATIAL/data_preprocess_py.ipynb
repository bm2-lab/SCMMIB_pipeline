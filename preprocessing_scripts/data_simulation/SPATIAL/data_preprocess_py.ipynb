{
 "cells": [
  {
   "cell_type": "code",
   "execution_count": 79,
   "id": "bdffc0f5",
   "metadata": {},
   "outputs": [],
   "source": [
    "import os\n",
    "import sys \n",
    "import json\n",
    "import pickle\n",
    "\n",
    "import torch\n",
    "import anndata as ad\n",
    "import numpy as np\n",
    "import pandas as pd\n",
    "import scanpy as sc\n",
    "\n",
    "from scipy import io"
   ]
  },
  {
   "cell_type": "markdown",
   "id": "5e7aa9b8",
   "metadata": {},
   "source": [
    "## lymph_node"
   ]
  },
  {
   "cell_type": "code",
   "execution_count": 3,
   "id": "dc8ce09d",
   "metadata": {},
   "outputs": [],
   "source": [
    "lymph_node_PATH_1 = \"/home/shaliu_fu/joint_bench/demo_notebook/input/spatial/Data_SpatialGlue/Dataset11_Human_Lymph_Node_A1\"\n",
    "lymph_node_PATH_2 = \"/home/shaliu_fu/joint_bench/demo_notebook/input/spatial/Data_SpatialGlue/Dataset12_Human_Lymph_Node_D1\""
   ]
  },
  {
   "cell_type": "code",
   "execution_count": 4,
   "id": "5318a788",
   "metadata": {},
   "outputs": [
    {
     "name": "stderr",
     "output_type": "stream",
     "text": [
      "/home/wsg/software/miniconda3/envs/metrics/lib/python3.9/site-packages/anndata/_core/anndata.py:1830: UserWarning: Variable names are not unique. To make them unique, call `.var_names_make_unique`.\n",
      "  utils.warn_names_duplicates(\"var\")\n",
      "/home/wsg/software/miniconda3/envs/metrics/lib/python3.9/site-packages/anndata/_core/anndata.py:1830: UserWarning: Variable names are not unique. To make them unique, call `.var_names_make_unique`.\n",
      "  utils.warn_names_duplicates(\"var\")\n"
     ]
    }
   ],
   "source": [
    "lymph_node_rna_1 = sc.read_h5ad(\"{}/adata_RNA.h5ad\".format(lymph_node_PATH_1))\n",
    "lymph_node_rna_2 = sc.read_h5ad(\"{}/adata_RNA.h5ad\".format(lymph_node_PATH_2))"
   ]
  },
  {
   "cell_type": "code",
   "execution_count": 5,
   "id": "219e712b",
   "metadata": {},
   "outputs": [
    {
     "name": "stdout",
     "output_type": "stream",
     "text": [
      "AnnData object with n_obs × n_vars = 3484 × 18085\n",
      "    var: 'gene_ids', 'feature_types', 'genome'\n",
      "    obsm: 'spatial'\n",
      "AnnData object with n_obs × n_vars = 3359 × 18085\n",
      "    var: 'gene_ids', 'feature_types', 'genome'\n",
      "    obsm: 'spatial'\n"
     ]
    }
   ],
   "source": [
    "print(lymph_node_rna_1)\n",
    "print(lymph_node_rna_2)"
   ]
  },
  {
   "cell_type": "code",
   "execution_count": 6,
   "id": "d51d38fb",
   "metadata": {
    "lines_to_next_cell": 2
   },
   "outputs": [],
   "source": [
    "adata = lymph_node_rna_1\n",
    "adata.var['gene_name'] = adata.var_names\n",
    "adata.var_names = adata.var['gene_ids']\n",
    "lymph_node_rna_1 = adata\n",
    "\n",
    "adata = lymph_node_rna_2\n",
    "adata.var['gene_name'] = adata.var_names\n",
    "adata.var_names = adata.var['gene_ids']\n",
    "lymph_node_rna_2 = adata"
   ]
  },
  {
   "cell_type": "code",
   "execution_count": 7,
   "id": "9679b58d",
   "metadata": {},
   "outputs": [],
   "source": [
    "lymph_node_rna_1.obs_names = [name + \"_1\" for name in lymph_node_rna_1.obs_names]\n",
    "lymph_node_rna_2.obs_names = [name + \"_2\" for name in lymph_node_rna_2.obs_names]"
   ]
  },
  {
   "cell_type": "code",
   "execution_count": 8,
   "id": "5de48ff3",
   "metadata": {},
   "outputs": [
    {
     "name": "stdout",
     "output_type": "stream",
     "text": [
      "AnnData object with n_obs × n_vars = 3484 × 18085\n",
      "    var: 'gene_ids', 'feature_types', 'genome', 'gene_name'\n",
      "    obsm: 'spatial'\n",
      "AnnData object with n_obs × n_vars = 3359 × 18085\n",
      "    var: 'gene_ids', 'feature_types', 'genome', 'gene_name'\n",
      "    obsm: 'spatial'\n"
     ]
    }
   ],
   "source": [
    "print(lymph_node_rna_1)\n",
    "print(lymph_node_rna_2)"
   ]
  },
  {
   "cell_type": "code",
   "execution_count": 17,
   "id": "0bbd9dd0",
   "metadata": {},
   "outputs": [],
   "source": [
    "lymph_node_rna_1.obs['batch'] = 'A1'\n",
    "lymph_node_rna_2.obs['batch'] = 'D1'"
   ]
  },
  {
   "cell_type": "code",
   "execution_count": 18,
   "id": "50ea9c1c",
   "metadata": {},
   "outputs": [],
   "source": [
    "lymph_node_rna = ad.concat([lymph_node_rna_1, lymph_node_rna_2], axis=0)\n",
    "lymph_node_rna.var = lymph_node_rna_1.var"
   ]
  },
  {
   "cell_type": "code",
   "execution_count": 19,
   "id": "ddd1e3fa",
   "metadata": {},
   "outputs": [
    {
     "data": {
      "text/plain": [
       "AnnData object with n_obs × n_vars = 6843 × 18085\n",
       "    obs: 'batch'\n",
       "    var: 'gene_ids', 'feature_types', 'genome', 'gene_name'\n",
       "    obsm: 'spatial'"
      ]
     },
     "execution_count": 19,
     "metadata": {},
     "output_type": "execute_result"
    }
   ],
   "source": [
    "lymph_node_rna"
   ]
  },
  {
   "cell_type": "code",
   "execution_count": 20,
   "id": "e0e23029",
   "metadata": {},
   "outputs": [
    {
     "data": {
      "text/html": [
       "<div>\n",
       "<style scoped>\n",
       "    .dataframe tbody tr th:only-of-type {\n",
       "        vertical-align: middle;\n",
       "    }\n",
       "\n",
       "    .dataframe tbody tr th {\n",
       "        vertical-align: top;\n",
       "    }\n",
       "\n",
       "    .dataframe thead th {\n",
       "        text-align: right;\n",
       "    }\n",
       "</style>\n",
       "<table border=\"1\" class=\"dataframe\">\n",
       "  <thead>\n",
       "    <tr style=\"text-align: right;\">\n",
       "      <th></th>\n",
       "      <th>gene_ids</th>\n",
       "      <th>feature_types</th>\n",
       "      <th>genome</th>\n",
       "      <th>gene_name</th>\n",
       "    </tr>\n",
       "    <tr>\n",
       "      <th>gene_ids</th>\n",
       "      <th></th>\n",
       "      <th></th>\n",
       "      <th></th>\n",
       "      <th></th>\n",
       "    </tr>\n",
       "  </thead>\n",
       "  <tbody>\n",
       "    <tr>\n",
       "      <th>ENSG00000187634</th>\n",
       "      <td>ENSG00000187634</td>\n",
       "      <td>Gene Expression</td>\n",
       "      <td>GRCh38</td>\n",
       "      <td>SAMD11</td>\n",
       "    </tr>\n",
       "    <tr>\n",
       "      <th>ENSG00000188976</th>\n",
       "      <td>ENSG00000188976</td>\n",
       "      <td>Gene Expression</td>\n",
       "      <td>GRCh38</td>\n",
       "      <td>NOC2L</td>\n",
       "    </tr>\n",
       "    <tr>\n",
       "      <th>ENSG00000187961</th>\n",
       "      <td>ENSG00000187961</td>\n",
       "      <td>Gene Expression</td>\n",
       "      <td>GRCh38</td>\n",
       "      <td>KLHL17</td>\n",
       "    </tr>\n",
       "    <tr>\n",
       "      <th>ENSG00000187583</th>\n",
       "      <td>ENSG00000187583</td>\n",
       "      <td>Gene Expression</td>\n",
       "      <td>GRCh38</td>\n",
       "      <td>PLEKHN1</td>\n",
       "    </tr>\n",
       "    <tr>\n",
       "      <th>ENSG00000187642</th>\n",
       "      <td>ENSG00000187642</td>\n",
       "      <td>Gene Expression</td>\n",
       "      <td>GRCh38</td>\n",
       "      <td>PERM1</td>\n",
       "    </tr>\n",
       "    <tr>\n",
       "      <th>...</th>\n",
       "      <td>...</td>\n",
       "      <td>...</td>\n",
       "      <td>...</td>\n",
       "      <td>...</td>\n",
       "    </tr>\n",
       "    <tr>\n",
       "      <th>ENSG00000212907</th>\n",
       "      <td>ENSG00000212907</td>\n",
       "      <td>Gene Expression</td>\n",
       "      <td>GRCh38</td>\n",
       "      <td>MT-ND4L</td>\n",
       "    </tr>\n",
       "    <tr>\n",
       "      <th>ENSG00000198886</th>\n",
       "      <td>ENSG00000198886</td>\n",
       "      <td>Gene Expression</td>\n",
       "      <td>GRCh38</td>\n",
       "      <td>MT-ND4</td>\n",
       "    </tr>\n",
       "    <tr>\n",
       "      <th>ENSG00000198786</th>\n",
       "      <td>ENSG00000198786</td>\n",
       "      <td>Gene Expression</td>\n",
       "      <td>GRCh38</td>\n",
       "      <td>MT-ND5</td>\n",
       "    </tr>\n",
       "    <tr>\n",
       "      <th>ENSG00000198695</th>\n",
       "      <td>ENSG00000198695</td>\n",
       "      <td>Gene Expression</td>\n",
       "      <td>GRCh38</td>\n",
       "      <td>MT-ND6</td>\n",
       "    </tr>\n",
       "    <tr>\n",
       "      <th>ENSG00000198727</th>\n",
       "      <td>ENSG00000198727</td>\n",
       "      <td>Gene Expression</td>\n",
       "      <td>GRCh38</td>\n",
       "      <td>MT-CYB</td>\n",
       "    </tr>\n",
       "  </tbody>\n",
       "</table>\n",
       "<p>18085 rows × 4 columns</p>\n",
       "</div>"
      ],
      "text/plain": [
       "                        gene_ids    feature_types  genome gene_name\n",
       "gene_ids                                                           \n",
       "ENSG00000187634  ENSG00000187634  Gene Expression  GRCh38    SAMD11\n",
       "ENSG00000188976  ENSG00000188976  Gene Expression  GRCh38     NOC2L\n",
       "ENSG00000187961  ENSG00000187961  Gene Expression  GRCh38    KLHL17\n",
       "ENSG00000187583  ENSG00000187583  Gene Expression  GRCh38   PLEKHN1\n",
       "ENSG00000187642  ENSG00000187642  Gene Expression  GRCh38     PERM1\n",
       "...                          ...              ...     ...       ...\n",
       "ENSG00000212907  ENSG00000212907  Gene Expression  GRCh38   MT-ND4L\n",
       "ENSG00000198886  ENSG00000198886  Gene Expression  GRCh38    MT-ND4\n",
       "ENSG00000198786  ENSG00000198786  Gene Expression  GRCh38    MT-ND5\n",
       "ENSG00000198695  ENSG00000198695  Gene Expression  GRCh38    MT-ND6\n",
       "ENSG00000198727  ENSG00000198727  Gene Expression  GRCh38    MT-CYB\n",
       "\n",
       "[18085 rows x 4 columns]"
      ]
     },
     "execution_count": 20,
     "metadata": {},
     "output_type": "execute_result"
    }
   ],
   "source": [
    "lymph_node_rna.var"
   ]
  },
  {
   "cell_type": "code",
   "execution_count": 21,
   "id": "39555e9e",
   "metadata": {},
   "outputs": [],
   "source": [
    "output_path = \"/home/wsg/BM/data/SPATIAL/RNA+ADT/lymph_node\"\n",
    "\n",
    "lymph_node_rna.write_h5ad(\"{}/lymph_node-CITE_seq_RNA-counts.h5ad\".format(output_path))"
   ]
  },
  {
   "cell_type": "code",
   "execution_count": null,
   "id": "3d9c3475",
   "metadata": {},
   "outputs": [],
   "source": []
  },
  {
   "cell_type": "code",
   "execution_count": 22,
   "id": "c31ecaa2",
   "metadata": {},
   "outputs": [
    {
     "name": "stderr",
     "output_type": "stream",
     "text": [
      "/home/wsg/software/miniconda3/envs/metrics/lib/python3.9/site-packages/anndata/_core/anndata.py:1830: UserWarning: Variable names are not unique. To make them unique, call `.var_names_make_unique`.\n",
      "  utils.warn_names_duplicates(\"var\")\n",
      "/home/wsg/software/miniconda3/envs/metrics/lib/python3.9/site-packages/anndata/_core/anndata.py:1830: UserWarning: Variable names are not unique. To make them unique, call `.var_names_make_unique`.\n",
      "  utils.warn_names_duplicates(\"var\")\n"
     ]
    }
   ],
   "source": [
    "lymph_node_adt_1 = sc.read_h5ad(\"{}/adata_ADT.h5ad\".format(lymph_node_PATH_1))\n",
    "lymph_node_adt_2 = sc.read_h5ad(\"{}/adata_ADT.h5ad\".format(lymph_node_PATH_2))"
   ]
  },
  {
   "cell_type": "code",
   "execution_count": 23,
   "id": "586c0de3",
   "metadata": {},
   "outputs": [
    {
     "name": "stdout",
     "output_type": "stream",
     "text": [
      "(3484, 31)\n",
      "(3359, 31)\n"
     ]
    }
   ],
   "source": [
    "print(lymph_node_adt_1.shape)\n",
    "print(lymph_node_adt_2.shape)"
   ]
  },
  {
   "cell_type": "code",
   "execution_count": 24,
   "id": "262264fa",
   "metadata": {},
   "outputs": [
    {
     "data": {
      "text/plain": [
       "array([[25227., 28409.,  7045., ..., 31818., 16818.,  1363.],\n",
       "       [21833., 23666.,  8833., ..., 22833., 16333.,  1500.],\n",
       "       [19010., 30989.,  3516., ..., 29450., 13846.,  1098.],\n",
       "       ...,\n",
       "       [29818., 32000., 10363., ..., 31636., 17090.,  1818.],\n",
       "       [21428., 44092.,  4092., ..., 59498., 36100.,  1660.],\n",
       "       [27058., 34901.,  7843., ..., 30980., 20392.,   784.]],\n",
       "      dtype=float32)"
      ]
     },
     "execution_count": 24,
     "metadata": {},
     "output_type": "execute_result"
    }
   ],
   "source": [
    "lymph_node_adt_1.X.toarray()"
   ]
  },
  {
   "cell_type": "code",
   "execution_count": 25,
   "id": "ba8c6c24",
   "metadata": {},
   "outputs": [],
   "source": [
    "adata = lymph_node_adt_1\n",
    "adata.var['adt_name'] = adata.var_names\n",
    "adata.var_names = adata.var['gene_ids']\n",
    "lymph_node_adt_1 = adata\n",
    "\n",
    "adata = lymph_node_adt_2\n",
    "adata.var['adt_name'] = adata.var_names\n",
    "adata.var_names = adata.var['gene_ids']\n",
    "lymph_node_adt_2 = adata"
   ]
  },
  {
   "cell_type": "code",
   "execution_count": 26,
   "id": "f3584406",
   "metadata": {},
   "outputs": [],
   "source": [
    "lymph_node_adt_1.obs_names = [name + \"_1\" for name in lymph_node_adt_1.obs_names]\n",
    "lymph_node_adt_2.obs_names = [name + \"_2\" for name in lymph_node_adt_2.obs_names]"
   ]
  },
  {
   "cell_type": "code",
   "execution_count": 27,
   "id": "e43534c3",
   "metadata": {},
   "outputs": [],
   "source": [
    "lymph_node_adt_1.obs['batch'] = 'A1'\n",
    "lymph_node_adt_2.obs['batch'] = 'D1'"
   ]
  },
  {
   "cell_type": "code",
   "execution_count": 28,
   "id": "148530f5",
   "metadata": {},
   "outputs": [],
   "source": [
    "lymph_node_adt = ad.concat([lymph_node_adt_1, lymph_node_adt_2], axis=0)"
   ]
  },
  {
   "cell_type": "code",
   "execution_count": 29,
   "id": "f9693ff4",
   "metadata": {},
   "outputs": [],
   "source": [
    "lymph_node_adt.var = lymph_node_adt_1.var\n",
    "lymph_node_adt.var_names = lymph_node_adt.var['adt_name']"
   ]
  },
  {
   "cell_type": "code",
   "execution_count": 30,
   "id": "630a04fa",
   "metadata": {},
   "outputs": [],
   "source": [
    "gene_tab = pd.read_csv(\"/home/wsg/BM/pipeline/config/gencode.v41.gtf.uniq.txt\", delimiter=' ', header=None)\n",
    "gene_tab['gene_ids'] = gene_tab[0].str.split('.').str[0]\n",
    "gene_tab\n",
    "\n",
    "adt_new_var = pd.merge(lymph_node_adt.var, gene_tab, left_on='gene_ids', right_on=1, how='left')\n",
    "adt_new_var = adt_new_var.drop_duplicates('gene_ids')\n",
    "adt_new_var = adt_new_var.drop(0, axis=1)\n",
    "adt_new_var = adt_new_var.drop(1, axis=1)\n",
    "adt_new_var.astype(str)\n",
    "adt_new_var = adt_new_var.set_index('adt_name')\n",
    "\n",
    "lymph_node_adt.var = adt_new_var\n",
    "lymph_node_adt = lymph_node_adt[:, ~lymph_node_adt.var['gene_ids_y'].isna()]\n",
    "lymph_node_adt.var = lymph_node_adt.var.set_index('gene_ids_y')"
   ]
  },
  {
   "cell_type": "code",
   "execution_count": 34,
   "id": "ad1379e9",
   "metadata": {},
   "outputs": [],
   "source": [
    "output_path = \"/home/wsg/BM/data/SPATIAL/RNA+ADT/lymph_node\"\n",
    "\n",
    "lymph_node_adt.write_h5ad(\"{}/lymph_node-CITE_seq_ADT-counts.h5ad\".format(output_path))"
   ]
  },
  {
   "cell_type": "code",
   "execution_count": null,
   "id": "b3d415ef",
   "metadata": {},
   "outputs": [],
   "source": []
  },
  {
   "cell_type": "code",
   "execution_count": null,
   "id": "88629710",
   "metadata": {},
   "outputs": [],
   "source": []
  },
  {
   "cell_type": "code",
   "execution_count": null,
   "id": "d98226e8",
   "metadata": {},
   "outputs": [],
   "source": []
  },
  {
   "cell_type": "markdown",
   "id": "e3b81389",
   "metadata": {},
   "source": [
    "### human_lymph_node_A1"
   ]
  },
  {
   "cell_type": "code",
   "execution_count": 191,
   "id": "ca0bd2bf",
   "metadata": {},
   "outputs": [],
   "source": [
    "lymph_node_PATH = \"/home/shaliu_fu/joint_bench/demo_notebook/input/spatial/human_lymph_node\""
   ]
  },
  {
   "cell_type": "code",
   "execution_count": 192,
   "id": "76fb60cd",
   "metadata": {},
   "outputs": [
    {
     "name": "stderr",
     "output_type": "stream",
     "text": [
      "/home/wsg/software/miniconda3/envs/metrics/lib/python3.9/site-packages/anndata/_core/anndata.py:1830: UserWarning: Variable names are not unique. To make them unique, call `.var_names_make_unique`.\n",
      "  utils.warn_names_duplicates(\"var\")\n",
      "/home/wsg/software/miniconda3/envs/metrics/lib/python3.9/site-packages/anndata/_core/anndata.py:1830: UserWarning: Variable names are not unique. To make them unique, call `.var_names_make_unique`.\n",
      "  utils.warn_names_duplicates(\"var\")\n"
     ]
    }
   ],
   "source": [
    "lymph_node_rna = sc.read_h5ad(\"{}/adata_RNA.h5ad\".format(lymph_node_PATH))\n",
    "lymph_node_adt = sc.read_h5ad(\"{}/adata_ADT.h5ad\".format(lymph_node_PATH_1))"
   ]
  },
  {
   "cell_type": "code",
   "execution_count": 193,
   "id": "18e29739",
   "metadata": {},
   "outputs": [],
   "source": [
    "metadata = pd.read_csv(\"{}/annotation.csv\".format(lymph_node_PATH))\n",
    "metadata.columns = [\"barcode\", \"cell_type\"]\n",
    "metadata.index = metadata[\"barcode\"]"
   ]
  },
  {
   "cell_type": "code",
   "execution_count": 194,
   "id": "1ad92921",
   "metadata": {},
   "outputs": [],
   "source": [
    "lymph_node_rna.obs = metadata"
   ]
  },
  {
   "cell_type": "code",
   "execution_count": 195,
   "id": "63200edb",
   "metadata": {},
   "outputs": [],
   "source": [
    "lymph_node_adt.obs = metadata"
   ]
  },
  {
   "cell_type": "code",
   "execution_count": 196,
   "id": "94202ffc",
   "metadata": {},
   "outputs": [
    {
     "data": {
      "text/html": [
       "<div>\n",
       "<style scoped>\n",
       "    .dataframe tbody tr th:only-of-type {\n",
       "        vertical-align: middle;\n",
       "    }\n",
       "\n",
       "    .dataframe tbody tr th {\n",
       "        vertical-align: top;\n",
       "    }\n",
       "\n",
       "    .dataframe thead th {\n",
       "        text-align: right;\n",
       "    }\n",
       "</style>\n",
       "<table border=\"1\" class=\"dataframe\">\n",
       "  <thead>\n",
       "    <tr style=\"text-align: right;\">\n",
       "      <th></th>\n",
       "      <th>gene_ids</th>\n",
       "      <th>feature_types</th>\n",
       "      <th>genome</th>\n",
       "    </tr>\n",
       "  </thead>\n",
       "  <tbody>\n",
       "    <tr>\n",
       "      <th>SAMD11</th>\n",
       "      <td>ENSG00000187634</td>\n",
       "      <td>Gene Expression</td>\n",
       "      <td>GRCh38</td>\n",
       "    </tr>\n",
       "    <tr>\n",
       "      <th>NOC2L</th>\n",
       "      <td>ENSG00000188976</td>\n",
       "      <td>Gene Expression</td>\n",
       "      <td>GRCh38</td>\n",
       "    </tr>\n",
       "    <tr>\n",
       "      <th>KLHL17</th>\n",
       "      <td>ENSG00000187961</td>\n",
       "      <td>Gene Expression</td>\n",
       "      <td>GRCh38</td>\n",
       "    </tr>\n",
       "    <tr>\n",
       "      <th>PLEKHN1</th>\n",
       "      <td>ENSG00000187583</td>\n",
       "      <td>Gene Expression</td>\n",
       "      <td>GRCh38</td>\n",
       "    </tr>\n",
       "    <tr>\n",
       "      <th>PERM1</th>\n",
       "      <td>ENSG00000187642</td>\n",
       "      <td>Gene Expression</td>\n",
       "      <td>GRCh38</td>\n",
       "    </tr>\n",
       "    <tr>\n",
       "      <th>...</th>\n",
       "      <td>...</td>\n",
       "      <td>...</td>\n",
       "      <td>...</td>\n",
       "    </tr>\n",
       "    <tr>\n",
       "      <th>MT-ND4L</th>\n",
       "      <td>ENSG00000212907</td>\n",
       "      <td>Gene Expression</td>\n",
       "      <td>GRCh38</td>\n",
       "    </tr>\n",
       "    <tr>\n",
       "      <th>MT-ND4</th>\n",
       "      <td>ENSG00000198886</td>\n",
       "      <td>Gene Expression</td>\n",
       "      <td>GRCh38</td>\n",
       "    </tr>\n",
       "    <tr>\n",
       "      <th>MT-ND5</th>\n",
       "      <td>ENSG00000198786</td>\n",
       "      <td>Gene Expression</td>\n",
       "      <td>GRCh38</td>\n",
       "    </tr>\n",
       "    <tr>\n",
       "      <th>MT-ND6</th>\n",
       "      <td>ENSG00000198695</td>\n",
       "      <td>Gene Expression</td>\n",
       "      <td>GRCh38</td>\n",
       "    </tr>\n",
       "    <tr>\n",
       "      <th>MT-CYB</th>\n",
       "      <td>ENSG00000198727</td>\n",
       "      <td>Gene Expression</td>\n",
       "      <td>GRCh38</td>\n",
       "    </tr>\n",
       "  </tbody>\n",
       "</table>\n",
       "<p>18085 rows × 3 columns</p>\n",
       "</div>"
      ],
      "text/plain": [
       "                gene_ids    feature_types  genome\n",
       "SAMD11   ENSG00000187634  Gene Expression  GRCh38\n",
       "NOC2L    ENSG00000188976  Gene Expression  GRCh38\n",
       "KLHL17   ENSG00000187961  Gene Expression  GRCh38\n",
       "PLEKHN1  ENSG00000187583  Gene Expression  GRCh38\n",
       "PERM1    ENSG00000187642  Gene Expression  GRCh38\n",
       "...                  ...              ...     ...\n",
       "MT-ND4L  ENSG00000212907  Gene Expression  GRCh38\n",
       "MT-ND4   ENSG00000198886  Gene Expression  GRCh38\n",
       "MT-ND5   ENSG00000198786  Gene Expression  GRCh38\n",
       "MT-ND6   ENSG00000198695  Gene Expression  GRCh38\n",
       "MT-CYB   ENSG00000198727  Gene Expression  GRCh38\n",
       "\n",
       "[18085 rows x 3 columns]"
      ]
     },
     "execution_count": 196,
     "metadata": {},
     "output_type": "execute_result"
    }
   ],
   "source": [
    "lymph_node_rna.var"
   ]
  },
  {
   "cell_type": "code",
   "execution_count": 28,
   "id": "62a5b258",
   "metadata": {},
   "outputs": [],
   "source": [
    "output_path = \"/home/wsg/BM/data/SPATIAL/RNA+ADT/lymph_node_A1\"\n",
    "\n",
    "lymph_node_rna.write_h5ad(\"{}/lymph_node-CITE_seq_RNA-counts.h5ad\".format(output_path))\n",
    "lymph_node_adt.write_h5ad(\"{}/lymph_node-CITE_seq_ADT-counts.h5ad\".format(output_path))"
   ]
  },
  {
   "cell_type": "code",
   "execution_count": null,
   "id": "3dc124e9",
   "metadata": {},
   "outputs": [],
   "source": []
  },
  {
   "cell_type": "code",
   "execution_count": null,
   "id": "e61cbb38",
   "metadata": {},
   "outputs": [],
   "source": []
  },
  {
   "cell_type": "markdown",
   "id": "4a03fa92",
   "metadata": {},
   "source": [
    "## thymus"
   ]
  },
  {
   "cell_type": "code",
   "execution_count": 35,
   "id": "c8f96966",
   "metadata": {},
   "outputs": [],
   "source": [
    "thymus_PATH_1 = \"/home/shaliu_fu/joint_bench/demo_notebook/input/spatial/Data_SpatialGlue/Dataset3_Mouse_Thymus1\"\n",
    "thymus_PATH_2 = \"/home/shaliu_fu/joint_bench/demo_notebook/input/spatial/Data_SpatialGlue/Dataset4_Mouse_Thymus2\"\n",
    "thymus_PATH_3 = \"/home/shaliu_fu/joint_bench/demo_notebook/input/spatial/Data_SpatialGlue/Dataset5_Mouse_Thymus3\"\n",
    "thymus_PATH_4 = \"/home/shaliu_fu/joint_bench/demo_notebook/input/spatial/Data_SpatialGlue/Dataset6_Mouse_Thymus4\""
   ]
  },
  {
   "cell_type": "code",
   "execution_count": 36,
   "id": "e133b35a",
   "metadata": {},
   "outputs": [],
   "source": [
    "thymus_rna_1 = sc.read_h5ad(\"{}/adata_RNA.h5ad\".format(thymus_PATH_1))\n",
    "thymus_rna_2 = sc.read_h5ad(\"{}/adata_RNA.h5ad\".format(thymus_PATH_2))\n",
    "thymus_rna_3 = sc.read_h5ad(\"{}/adata_RNA.h5ad\".format(thymus_PATH_3))\n",
    "thymus_rna_4 = sc.read_h5ad(\"{}/adata_RNA.h5ad\".format(thymus_PATH_4))"
   ]
  },
  {
   "cell_type": "code",
   "execution_count": 37,
   "id": "1ef8bd53",
   "metadata": {},
   "outputs": [
    {
     "name": "stdout",
     "output_type": "stream",
     "text": [
      "AnnData object with n_obs × n_vars = 4697 × 23622\n",
      "    obs: 'orig.ident', 'x', 'y'\n",
      "    obsm: 'spatial'\n",
      "AnnData object with n_obs × n_vars = 4253 × 23529\n",
      "    obs: 'orig.ident', 'x', 'y'\n",
      "    obsm: 'spatial'\n",
      "AnnData object with n_obs × n_vars = 4646 × 23960\n",
      "    obs: 'orig.ident', 'x', 'y'\n",
      "    obsm: 'spatial'\n",
      "AnnData object with n_obs × n_vars = 4228 × 23221\n",
      "    obs: 'orig.ident', 'x', 'y'\n",
      "    obsm: 'spatial'\n"
     ]
    }
   ],
   "source": [
    "print(thymus_rna_1)\n",
    "print(thymus_rna_2)\n",
    "print(thymus_rna_3)\n",
    "print(thymus_rna_4)"
   ]
  },
  {
   "cell_type": "code",
   "execution_count": 38,
   "id": "dad76129",
   "metadata": {},
   "outputs": [],
   "source": [
    "thymus_rna_1.obs_names = [name + \"_1\" for name in thymus_rna_1.obs_names]\n",
    "thymus_rna_2.obs_names = [name + \"_2\" for name in thymus_rna_2.obs_names]\n",
    "thymus_rna_2.obs_names = [name + \"_3\" for name in thymus_rna_3.obs_names]\n",
    "thymus_rna_4.obs_names = [name + \"_4\" for name in thymus_rna_4.obs_names]"
   ]
  },
  {
   "cell_type": "code",
   "execution_count": 39,
   "id": "98983174",
   "metadata": {},
   "outputs": [],
   "source": [
    "thymus_rna_1.obs['batch'] = 'thymus_1'\n",
    "thymus_rna_2.obs['batch'] = 'thymus_2'\n",
    "thymus_rna_3.obs['batch'] = 'thymus_3'\n",
    "thymus_rna_4.obs['batch'] = 'thymus_4'"
   ]
  },
  {
   "cell_type": "code",
   "execution_count": 40,
   "id": "85f7d925",
   "metadata": {},
   "outputs": [
    {
     "data": {
      "text/plain": [
       "26857"
      ]
     },
     "execution_count": 40,
     "metadata": {},
     "output_type": "execute_result"
    }
   ],
   "source": [
    "all_vars = pd.unique(thymus_rna_1.var_names.tolist() + thymus_rna_2.var_names.tolist() + \n",
    "                     thymus_rna_3.var_names.tolist() + thymus_rna_4.var_names.tolist())\n",
    "len(all_vars)"
   ]
  },
  {
   "cell_type": "code",
   "execution_count": 41,
   "id": "e95dfd81",
   "metadata": {},
   "outputs": [
    {
     "name": "stderr",
     "output_type": "stream",
     "text": [
      "/tmp/ipykernel_201194/4083004763.py:10: FutureWarning: X.dtype being converted to np.float32 from float64. In the next version of anndata (0.9) conversion will not be automatic. Pass dtype explicitly to avoid this warning. Pass `AnnData(X, dtype=X.dtype, ...)` to get the future behavour.\n",
      "  return ad.AnnData(X=aligned_data, obs=adata.obs, var=pd.DataFrame(index=all_vars))\n",
      "/tmp/ipykernel_201194/4083004763.py:10: FutureWarning: X.dtype being converted to np.float32 from float64. In the next version of anndata (0.9) conversion will not be automatic. Pass dtype explicitly to avoid this warning. Pass `AnnData(X, dtype=X.dtype, ...)` to get the future behavour.\n",
      "  return ad.AnnData(X=aligned_data, obs=adata.obs, var=pd.DataFrame(index=all_vars))\n",
      "/tmp/ipykernel_201194/4083004763.py:10: FutureWarning: X.dtype being converted to np.float32 from float64. In the next version of anndata (0.9) conversion will not be automatic. Pass dtype explicitly to avoid this warning. Pass `AnnData(X, dtype=X.dtype, ...)` to get the future behavour.\n",
      "  return ad.AnnData(X=aligned_data, obs=adata.obs, var=pd.DataFrame(index=all_vars))\n",
      "/tmp/ipykernel_201194/4083004763.py:10: FutureWarning: X.dtype being converted to np.float32 from float64. In the next version of anndata (0.9) conversion will not be automatic. Pass dtype explicitly to avoid this warning. Pass `AnnData(X, dtype=X.dtype, ...)` to get the future behavour.\n",
      "  return ad.AnnData(X=aligned_data, obs=adata.obs, var=pd.DataFrame(index=all_vars))\n"
     ]
    }
   ],
   "source": [
    "def align_anndata_vars(adata, all_vars):\n",
    "    from scipy.sparse import lil_matrix\n",
    "    aligned_data = lil_matrix((adata.n_obs, len(all_vars)))\n",
    "    \n",
    "    var_index_map = {var: idx for idx, var in enumerate(all_vars)}\n",
    "    \n",
    "    for var_name in adata.var_names:\n",
    "        aligned_data[:, var_index_map[var_name]] = adata[:, var_name].X\n",
    "    \n",
    "    return ad.AnnData(X=aligned_data, obs=adata.obs, var=pd.DataFrame(index=all_vars))\n",
    "\n",
    "thymus_rna_1_aligned = align_anndata_vars(thymus_rna_1, all_vars)\n",
    "thymus_rna_2_aligned = align_anndata_vars(thymus_rna_2, all_vars)\n",
    "thymus_rna_3_aligned = align_anndata_vars(thymus_rna_3, all_vars)\n",
    "thymus_rna_4_aligned = align_anndata_vars(thymus_rna_4, all_vars)"
   ]
  },
  {
   "cell_type": "code",
   "execution_count": 42,
   "id": "658af830",
   "metadata": {},
   "outputs": [],
   "source": [
    "thymus_rna_1_aligned.obsm['spatial'] = thymus_rna_1.obsm['spatial']\n",
    "thymus_rna_2_aligned.obsm['spatial'] = thymus_rna_2.obsm['spatial']\n",
    "thymus_rna_3_aligned.obsm['spatial'] = thymus_rna_3.obsm['spatial']\n",
    "thymus_rna_4_aligned.obsm['spatial'] = thymus_rna_4.obsm['spatial']"
   ]
  },
  {
   "cell_type": "code",
   "execution_count": 43,
   "id": "a369a8ce",
   "metadata": {},
   "outputs": [],
   "source": [
    "thymus_rna = ad.concat([thymus_rna_1_aligned, thymus_rna_2_aligned, thymus_rna_3_aligned, thymus_rna_4_aligned], axis=0)"
   ]
  },
  {
   "cell_type": "code",
   "execution_count": 45,
   "id": "302bb9bf",
   "metadata": {},
   "outputs": [
    {
     "data": {
      "text/html": [
       "<div>\n",
       "<style scoped>\n",
       "    .dataframe tbody tr th:only-of-type {\n",
       "        vertical-align: middle;\n",
       "    }\n",
       "\n",
       "    .dataframe tbody tr th {\n",
       "        vertical-align: top;\n",
       "    }\n",
       "\n",
       "    .dataframe thead th {\n",
       "        text-align: right;\n",
       "    }\n",
       "</style>\n",
       "<table border=\"1\" class=\"dataframe\">\n",
       "  <thead>\n",
       "    <tr style=\"text-align: right;\">\n",
       "      <th></th>\n",
       "      <th>orig.ident</th>\n",
       "      <th>x</th>\n",
       "      <th>y</th>\n",
       "      <th>batch</th>\n",
       "    </tr>\n",
       "  </thead>\n",
       "  <tbody>\n",
       "    <tr>\n",
       "      <th>0_22_1</th>\n",
       "      <td>sample</td>\n",
       "      <td>8919</td>\n",
       "      <td>13270</td>\n",
       "      <td>thymus_1</td>\n",
       "    </tr>\n",
       "    <tr>\n",
       "      <th>0_33_1</th>\n",
       "      <td>sample</td>\n",
       "      <td>8919</td>\n",
       "      <td>14370</td>\n",
       "      <td>thymus_1</td>\n",
       "    </tr>\n",
       "    <tr>\n",
       "      <th>0_40_1</th>\n",
       "      <td>sample</td>\n",
       "      <td>8919</td>\n",
       "      <td>15070</td>\n",
       "      <td>thymus_1</td>\n",
       "    </tr>\n",
       "    <tr>\n",
       "      <th>0_41_1</th>\n",
       "      <td>sample</td>\n",
       "      <td>8919</td>\n",
       "      <td>15170</td>\n",
       "      <td>thymus_1</td>\n",
       "    </tr>\n",
       "    <tr>\n",
       "      <th>0_42_1</th>\n",
       "      <td>sample</td>\n",
       "      <td>8919</td>\n",
       "      <td>15270</td>\n",
       "      <td>thymus_1</td>\n",
       "    </tr>\n",
       "    <tr>\n",
       "      <th>...</th>\n",
       "      <td>...</td>\n",
       "      <td>...</td>\n",
       "      <td>...</td>\n",
       "      <td>...</td>\n",
       "    </tr>\n",
       "    <tr>\n",
       "      <th>59_113_4</th>\n",
       "      <td>sample</td>\n",
       "      <td>16086</td>\n",
       "      <td>19100</td>\n",
       "      <td>thymus_4</td>\n",
       "    </tr>\n",
       "    <tr>\n",
       "      <th>52_82_4</th>\n",
       "      <td>sample</td>\n",
       "      <td>15386</td>\n",
       "      <td>16000</td>\n",
       "      <td>thymus_4</td>\n",
       "    </tr>\n",
       "    <tr>\n",
       "      <th>30_23_4</th>\n",
       "      <td>sample</td>\n",
       "      <td>13186</td>\n",
       "      <td>10100</td>\n",
       "      <td>thymus_4</td>\n",
       "    </tr>\n",
       "    <tr>\n",
       "      <th>42_88_4</th>\n",
       "      <td>sample</td>\n",
       "      <td>14386</td>\n",
       "      <td>16600</td>\n",
       "      <td>thymus_4</td>\n",
       "    </tr>\n",
       "    <tr>\n",
       "      <th>36_31_4</th>\n",
       "      <td>sample</td>\n",
       "      <td>13786</td>\n",
       "      <td>10900</td>\n",
       "      <td>thymus_4</td>\n",
       "    </tr>\n",
       "  </tbody>\n",
       "</table>\n",
       "<p>17824 rows × 4 columns</p>\n",
       "</div>"
      ],
      "text/plain": [
       "         orig.ident      x      y     batch\n",
       "0_22_1       sample   8919  13270  thymus_1\n",
       "0_33_1       sample   8919  14370  thymus_1\n",
       "0_40_1       sample   8919  15070  thymus_1\n",
       "0_41_1       sample   8919  15170  thymus_1\n",
       "0_42_1       sample   8919  15270  thymus_1\n",
       "...             ...    ...    ...       ...\n",
       "59_113_4     sample  16086  19100  thymus_4\n",
       "52_82_4      sample  15386  16000  thymus_4\n",
       "30_23_4      sample  13186  10100  thymus_4\n",
       "42_88_4      sample  14386  16600  thymus_4\n",
       "36_31_4      sample  13786  10900  thymus_4\n",
       "\n",
       "[17824 rows x 4 columns]"
      ]
     },
     "execution_count": 45,
     "metadata": {},
     "output_type": "execute_result"
    }
   ],
   "source": [
    "thymus_rna.obs"
   ]
  },
  {
   "cell_type": "code",
   "execution_count": 46,
   "id": "f36c0a18",
   "metadata": {},
   "outputs": [],
   "source": [
    "output_path = \"/home/wsg/BM/data/SPATIAL/RNA+ADT/thymus\"\n",
    "thymus_rna.write_h5ad(\"{}/thymus-CITE_seq-raw-RNA-counts.h5ad\".format(output_path))"
   ]
  },
  {
   "cell_type": "code",
   "execution_count": null,
   "id": "8884a1c1",
   "metadata": {},
   "outputs": [],
   "source": []
  },
  {
   "cell_type": "code",
   "execution_count": 47,
   "id": "7f4d3743",
   "metadata": {},
   "outputs": [],
   "source": [
    "thymus_adt_1 = sc.read_h5ad(\"{}/adata_ADT.h5ad\".format(thymus_PATH_1))\n",
    "thymus_adt_2 = sc.read_h5ad(\"{}/adata_ADT.h5ad\".format(thymus_PATH_2))\n",
    "thymus_adt_3 = sc.read_h5ad(\"{}/adata_ADT.h5ad\".format(thymus_PATH_3))\n",
    "thymus_adt_4 = sc.read_h5ad(\"{}/adata_ADT.h5ad\".format(thymus_PATH_4))"
   ]
  },
  {
   "cell_type": "code",
   "execution_count": 48,
   "id": "2441a91c",
   "metadata": {},
   "outputs": [
    {
     "name": "stdout",
     "output_type": "stream",
     "text": [
      "AnnData object with n_obs × n_vars = 4697 × 51\n",
      "    obs: 'orig.ident', 'x', 'y'\n",
      "    obsm: 'spatial'\n",
      "AnnData object with n_obs × n_vars = 4253 × 19\n",
      "    obs: 'orig.ident', 'x', 'y'\n",
      "    obsm: 'spatial'\n",
      "AnnData object with n_obs × n_vars = 4646 × 19\n",
      "    obs: 'orig.ident', 'x', 'y'\n",
      "    obsm: 'spatial'\n",
      "AnnData object with n_obs × n_vars = 4228 × 19\n",
      "    obs: 'orig.ident', 'x', 'y'\n",
      "    obsm: 'spatial'\n"
     ]
    }
   ],
   "source": [
    "print(thymus_adt_1)\n",
    "print(thymus_adt_2)\n",
    "print(thymus_adt_3)\n",
    "print(thymus_adt_4)"
   ]
  },
  {
   "cell_type": "code",
   "execution_count": 49,
   "id": "8ca1d2cf",
   "metadata": {},
   "outputs": [],
   "source": [
    "thymus_adt_1.obs_names = [name + \"_1\" for name in thymus_adt_1.obs_names]\n",
    "thymus_adt_2.obs_names = [name + \"_2\" for name in thymus_adt_2.obs_names]\n",
    "thymus_adt_3.obs_names = [name + \"_3\" for name in thymus_adt_3.obs_names]\n",
    "thymus_adt_4.obs_names = [name + \"_4\" for name in thymus_adt_4.obs_names]"
   ]
  },
  {
   "cell_type": "code",
   "execution_count": 51,
   "id": "d0b75166",
   "metadata": {},
   "outputs": [],
   "source": [
    "thymus_adt_1.obs['batch'] = 'thymus_1'\n",
    "thymus_adt_2.obs['batch'] = 'thymus_2'\n",
    "thymus_adt_3.obs['batch'] = 'thymus_3'\n",
    "thymus_adt_4.obs['batch'] = 'thymus_4'"
   ]
  },
  {
   "cell_type": "code",
   "execution_count": 52,
   "id": "aad013d7",
   "metadata": {},
   "outputs": [],
   "source": [
    "def rename(adata):    \n",
    "    import re\n",
    "    new_var_names = []\n",
    "    for name in adata.var_names:\n",
    "        parts = re.split('[-_]', name)\n",
    "        if '-'.join(parts) == 'Ms-Hu-CD11b':\n",
    "            parts = re.split('[-_]', 'mouse-human-CD11b')\n",
    "        elif parts[0] == 'Mouse':\n",
    "            parts[0] = 'mouse'\n",
    "        elif parts[0] == 'Rat':\n",
    "            parts[0] = 'rat'\n",
    "        elif parts[0] == 'Human':\n",
    "            parts[0] = 'human'\n",
    "        new_name = '-'.join(parts)\n",
    "        new_var_names.append(new_name)\n",
    "    adata.var_names = new_var_names\n",
    "    return adata"
   ]
  },
  {
   "cell_type": "code",
   "execution_count": 53,
   "id": "67782cd1",
   "metadata": {},
   "outputs": [
    {
     "name": "stdout",
     "output_type": "stream",
     "text": [
      "(4697, 51)\n",
      "(4253, 19)\n",
      "(4646, 19)\n",
      "(4228, 19)\n"
     ]
    }
   ],
   "source": [
    "print(thymus_adt_1.shape)\n",
    "print(thymus_adt_2.shape)\n",
    "print(thymus_adt_3.shape)\n",
    "print(thymus_adt_4.shape)"
   ]
  },
  {
   "cell_type": "code",
   "execution_count": 54,
   "id": "98b8e5ec",
   "metadata": {},
   "outputs": [
    {
     "name": "stdout",
     "output_type": "stream",
     "text": [
      "Index(['Mouse-CD8a', 'Mouse-CD4', 'Mouse-CD68', 'Mouse-CD29', 'Mouse-CD3',\n",
      "       'Mouse-CD19', 'Mouse-CD31-Pecam', 'Rat-IgG2b', 'Mouse-CD38',\n",
      "       'Mouse-CD45R-B220', 'Mouse-IgG2a', 'Mouse-F480', 'Mouse-CD169',\n",
      "       'Mouse-IgD', 'Mouse-CD140a', 'Mouse-CX3CR1', 'Mouse-CD163',\n",
      "       'Mouse-CD304-Neuropilin-1', 'Mouse-Ly-6C', 'Mouse-CD226-DNAM-1',\n",
      "       'Mouse-P2RY12', 'Mouse-P2X7R', 'Human-CD8', 'Mouse-CD14', 'Mouse-CXCR4',\n",
      "       'Mouse-CD79b-Igb', 'Mouse-CD335-NKp46', 'Ms-Hu-CD11b', 'Mouse-CD44',\n",
      "       'Mouse-IgG1', 'Human-CD11c', 'Human-CD56', 'Mouse-IgG2b', 'Human-IgG',\n",
      "       'Mouse-CD88-C5aR', 'Mouse-CD5', 'Human-PD-1', 'Mouse-BST-1',\n",
      "       'Human-CD3', 'Mouse-CD90-2', 'Mouse-Ly-6G', 'Human-CD20', 'Human-CD11b',\n",
      "       'Human-CD19', 'Mouse-CD11c', 'Mouse-IgM', 'Mouse-CD40', 'Rat-IgG2a',\n",
      "       'Human-PD-L1', 'Mouse-CD71', 'Human-CD163'],\n",
      "      dtype='object')\n",
      "Index(['mouse_CD5', 'mouse_CD68', 'mouse_CD4', 'mouse_rat_CD29', 'mouse_CD8a',\n",
      "       'mouse_CD3', 'mouse_human_CD44', 'mouse_rat_human_CD27', 'mouse_CD90_2',\n",
      "       'mouse_CD11c', 'mouse_CD31', 'mouse_F4_80', 'mouse_human_CD45R_B220',\n",
      "       'Rat_IgG2a', 'mouse_human_CD11b', 'mouse_CD19', 'Mouse_IgG2a',\n",
      "       'mouse_Siglec_H', 'mouse_CD169_Siglec-1'],\n",
      "      dtype='object')\n",
      "Index(['mouse_CD5', 'mouse_CD4', 'mouse_CD68', 'mouse_rat_CD29', 'mouse_CD8a',\n",
      "       'mouse_CD3', 'mouse_human_CD44', 'mouse_CD90_2', 'mouse_rat_human_CD27',\n",
      "       'mouse_CD11c', 'mouse_CD31', 'mouse_F4_80', 'Rat_IgG2a',\n",
      "       'mouse_human_CD45R_B220', 'mouse_CD19', 'mouse_human_CD11b',\n",
      "       'Mouse_IgG2a', 'mouse_Siglec_H', 'mouse_CD169_Siglec-1'],\n",
      "      dtype='object')\n",
      "Index(['mouse_CD5', 'mouse_CD68', 'mouse_CD4', 'mouse_rat_CD29', 'mouse_CD8a',\n",
      "       'mouse_CD3', 'mouse_human_CD44', 'mouse_CD90_2', 'mouse_rat_human_CD27',\n",
      "       'mouse_CD11c', 'mouse_CD31', 'mouse_F4_80', 'mouse_human_CD45R_B220',\n",
      "       'Rat_IgG2a', 'mouse_human_CD11b', 'mouse_CD19', 'Mouse_IgG2a',\n",
      "       'mouse_Siglec_H', 'mouse_CD169_Siglec-1'],\n",
      "      dtype='object')\n"
     ]
    }
   ],
   "source": [
    "print(thymus_adt_1.var_names)\n",
    "print(thymus_adt_2.var_names)\n",
    "print(thymus_adt_3.var_names)\n",
    "print(thymus_adt_4.var_names)"
   ]
  },
  {
   "cell_type": "code",
   "execution_count": 55,
   "id": "c004c1fc",
   "metadata": {},
   "outputs": [],
   "source": [
    "thymus_adt_1 = rename(thymus_adt_1)\n",
    "thymus_adt_2 = rename(thymus_adt_2)\n",
    "thymus_adt_3 = rename(thymus_adt_3)\n",
    "thymus_adt_4 = rename(thymus_adt_4)"
   ]
  },
  {
   "cell_type": "code",
   "execution_count": 56,
   "id": "d934ff92",
   "metadata": {},
   "outputs": [
    {
     "name": "stdout",
     "output_type": "stream",
     "text": [
      "Index(['mouse-CD8a', 'mouse-CD4', 'mouse-CD68', 'mouse-CD29', 'mouse-CD3',\n",
      "       'mouse-CD19', 'mouse-CD31-Pecam', 'rat-IgG2b', 'mouse-CD38',\n",
      "       'mouse-CD45R-B220', 'mouse-IgG2a', 'mouse-F480', 'mouse-CD169',\n",
      "       'mouse-IgD', 'mouse-CD140a', 'mouse-CX3CR1', 'mouse-CD163',\n",
      "       'mouse-CD304-Neuropilin-1', 'mouse-Ly-6C', 'mouse-CD226-DNAM-1',\n",
      "       'mouse-P2RY12', 'mouse-P2X7R', 'human-CD8', 'mouse-CD14', 'mouse-CXCR4',\n",
      "       'mouse-CD79b-Igb', 'mouse-CD335-NKp46', 'mouse-human-CD11b',\n",
      "       'mouse-CD44', 'mouse-IgG1', 'human-CD11c', 'human-CD56', 'mouse-IgG2b',\n",
      "       'human-IgG', 'mouse-CD88-C5aR', 'mouse-CD5', 'human-PD-1',\n",
      "       'mouse-BST-1', 'human-CD3', 'mouse-CD90-2', 'mouse-Ly-6G', 'human-CD20',\n",
      "       'human-CD11b', 'human-CD19', 'mouse-CD11c', 'mouse-IgM', 'mouse-CD40',\n",
      "       'rat-IgG2a', 'human-PD-L1', 'mouse-CD71', 'human-CD163'],\n",
      "      dtype='object')\n",
      "Index(['mouse-CD5', 'mouse-CD68', 'mouse-CD4', 'mouse-rat-CD29', 'mouse-CD8a',\n",
      "       'mouse-CD3', 'mouse-human-CD44', 'mouse-rat-human-CD27', 'mouse-CD90-2',\n",
      "       'mouse-CD11c', 'mouse-CD31', 'mouse-F4-80', 'mouse-human-CD45R-B220',\n",
      "       'rat-IgG2a', 'mouse-human-CD11b', 'mouse-CD19', 'mouse-IgG2a',\n",
      "       'mouse-Siglec-H', 'mouse-CD169-Siglec-1'],\n",
      "      dtype='object')\n",
      "Index(['mouse-CD5', 'mouse-CD4', 'mouse-CD68', 'mouse-rat-CD29', 'mouse-CD8a',\n",
      "       'mouse-CD3', 'mouse-human-CD44', 'mouse-CD90-2', 'mouse-rat-human-CD27',\n",
      "       'mouse-CD11c', 'mouse-CD31', 'mouse-F4-80', 'rat-IgG2a',\n",
      "       'mouse-human-CD45R-B220', 'mouse-CD19', 'mouse-human-CD11b',\n",
      "       'mouse-IgG2a', 'mouse-Siglec-H', 'mouse-CD169-Siglec-1'],\n",
      "      dtype='object')\n",
      "Index(['mouse-CD5', 'mouse-CD68', 'mouse-CD4', 'mouse-rat-CD29', 'mouse-CD8a',\n",
      "       'mouse-CD3', 'mouse-human-CD44', 'mouse-CD90-2', 'mouse-rat-human-CD27',\n",
      "       'mouse-CD11c', 'mouse-CD31', 'mouse-F4-80', 'mouse-human-CD45R-B220',\n",
      "       'rat-IgG2a', 'mouse-human-CD11b', 'mouse-CD19', 'mouse-IgG2a',\n",
      "       'mouse-Siglec-H', 'mouse-CD169-Siglec-1'],\n",
      "      dtype='object')\n"
     ]
    }
   ],
   "source": [
    "print(thymus_adt_1.var_names)\n",
    "print(thymus_adt_2.var_names)\n",
    "print(thymus_adt_3.var_names)\n",
    "print(thymus_adt_4.var_names)"
   ]
  },
  {
   "cell_type": "code",
   "execution_count": 57,
   "id": "c8e9cace",
   "metadata": {},
   "outputs": [
    {
     "data": {
      "text/plain": [
       "59"
      ]
     },
     "execution_count": 57,
     "metadata": {},
     "output_type": "execute_result"
    }
   ],
   "source": [
    "all_vars = pd.unique(thymus_adt_1.var_names.tolist() + thymus_adt_2.var_names.tolist() + \n",
    "                     thymus_adt_3.var_names.tolist() + thymus_adt_4.var_names.tolist())\n",
    "len(all_vars)"
   ]
  },
  {
   "cell_type": "code",
   "execution_count": 58,
   "id": "121aa639",
   "metadata": {},
   "outputs": [
    {
     "name": "stderr",
     "output_type": "stream",
     "text": [
      "/tmp/ipykernel_201194/1239153465.py:10: FutureWarning: X.dtype being converted to np.float32 from float64. In the next version of anndata (0.9) conversion will not be automatic. Pass dtype explicitly to avoid this warning. Pass `AnnData(X, dtype=X.dtype, ...)` to get the future behavour.\n",
      "  return ad.AnnData(X=aligned_data, obs=adata.obs, var=pd.DataFrame(index=all_vars))\n",
      "/tmp/ipykernel_201194/1239153465.py:10: FutureWarning: X.dtype being converted to np.float32 from float64. In the next version of anndata (0.9) conversion will not be automatic. Pass dtype explicitly to avoid this warning. Pass `AnnData(X, dtype=X.dtype, ...)` to get the future behavour.\n",
      "  return ad.AnnData(X=aligned_data, obs=adata.obs, var=pd.DataFrame(index=all_vars))\n",
      "/tmp/ipykernel_201194/1239153465.py:10: FutureWarning: X.dtype being converted to np.float32 from float64. In the next version of anndata (0.9) conversion will not be automatic. Pass dtype explicitly to avoid this warning. Pass `AnnData(X, dtype=X.dtype, ...)` to get the future behavour.\n",
      "  return ad.AnnData(X=aligned_data, obs=adata.obs, var=pd.DataFrame(index=all_vars))\n",
      "/tmp/ipykernel_201194/1239153465.py:10: FutureWarning: X.dtype being converted to np.float32 from float64. In the next version of anndata (0.9) conversion will not be automatic. Pass dtype explicitly to avoid this warning. Pass `AnnData(X, dtype=X.dtype, ...)` to get the future behavour.\n",
      "  return ad.AnnData(X=aligned_data, obs=adata.obs, var=pd.DataFrame(index=all_vars))\n"
     ]
    }
   ],
   "source": [
    "def align_anndata_vars(adata, all_vars):\n",
    "    from scipy.sparse import lil_matrix\n",
    "    aligned_data = lil_matrix((adata.n_obs, len(all_vars)))\n",
    "    \n",
    "    var_index_map = {var: idx for idx, var in enumerate(all_vars)}\n",
    "    \n",
    "    for var_name in adata.var_names:\n",
    "        aligned_data[:, var_index_map[var_name]] = adata[:, var_name].X\n",
    "    \n",
    "    return ad.AnnData(X=aligned_data, obs=adata.obs, var=pd.DataFrame(index=all_vars))\n",
    "\n",
    "thymus_adt_1_aligned = align_anndata_vars(thymus_adt_1, all_vars)\n",
    "thymus_adt_2_aligned = align_anndata_vars(thymus_adt_2, all_vars)\n",
    "thymus_adt_3_aligned = align_anndata_vars(thymus_adt_3, all_vars)\n",
    "thymus_adt_4_aligned = align_anndata_vars(thymus_adt_4, all_vars)"
   ]
  },
  {
   "cell_type": "code",
   "execution_count": 59,
   "id": "cac30a51",
   "metadata": {},
   "outputs": [],
   "source": [
    "thymus_adt_1_aligned.obsm['spatial'] = thymus_adt_1.obsm['spatial']\n",
    "thymus_adt_2_aligned.obsm['spatial'] = thymus_adt_2.obsm['spatial']\n",
    "thymus_adt_3_aligned.obsm['spatial'] = thymus_adt_3.obsm['spatial']\n",
    "thymus_adt_4_aligned.obsm['spatial'] = thymus_adt_4.obsm['spatial']"
   ]
  },
  {
   "cell_type": "code",
   "execution_count": 60,
   "id": "9d8f2e95",
   "metadata": {},
   "outputs": [],
   "source": [
    "thymus_adt = ad.concat([thymus_adt_1_aligned, thymus_adt_2_aligned, thymus_adt_3_aligned, thymus_adt_4_aligned], axis=0)"
   ]
  },
  {
   "cell_type": "code",
   "execution_count": 61,
   "id": "8dfaf826",
   "metadata": {},
   "outputs": [],
   "source": [
    "thymus_adt.var.index = thymus_adt.var.index.str.replace('human-', '', regex=True)\n",
    "thymus_adt.var.index = thymus_adt.var.index.str.replace('mouse-', '', regex=True)\n",
    "thymus_adt.var.index = thymus_adt.var.index.str.replace('rat-', '', regex=True)\n",
    "thymus_adt.var['adt_name'] = thymus_adt.var.index.str.split('-').str[0]"
   ]
  },
  {
   "cell_type": "code",
   "execution_count": 62,
   "id": "fa87160f",
   "metadata": {},
   "outputs": [],
   "source": [
    "gene_tab = pd.read_csv('/home/wsg/BM/pipeline/config/gene_adt_tab.tsv', sep=' ', header=0)\n",
    "gene_tab['gene_name'] = gene_tab['Symbol'].str.capitalize()"
   ]
  },
  {
   "cell_type": "code",
   "execution_count": 63,
   "id": "b2d8c148",
   "metadata": {},
   "outputs": [
    {
     "data": {
      "text/html": [
       "<div>\n",
       "<style scoped>\n",
       "    .dataframe tbody tr th:only-of-type {\n",
       "        vertical-align: middle;\n",
       "    }\n",
       "\n",
       "    .dataframe tbody tr th {\n",
       "        vertical-align: top;\n",
       "    }\n",
       "\n",
       "    .dataframe thead th {\n",
       "        text-align: right;\n",
       "    }\n",
       "</style>\n",
       "<table border=\"1\" class=\"dataframe\">\n",
       "  <thead>\n",
       "    <tr style=\"text-align: right;\">\n",
       "      <th></th>\n",
       "      <th>adt_name</th>\n",
       "      <th>Symbol</th>\n",
       "      <th>ADT</th>\n",
       "      <th>ADT_Type</th>\n",
       "      <th>gene_name</th>\n",
       "    </tr>\n",
       "  </thead>\n",
       "  <tbody>\n",
       "    <tr>\n",
       "      <th>0</th>\n",
       "      <td>CD8a</td>\n",
       "      <td>nan</td>\n",
       "      <td>nan</td>\n",
       "      <td>nan</td>\n",
       "      <td>nan</td>\n",
       "    </tr>\n",
       "    <tr>\n",
       "      <th>1</th>\n",
       "      <td>CD4</td>\n",
       "      <td>CD4</td>\n",
       "      <td>CD4</td>\n",
       "      <td>Approved.symbol</td>\n",
       "      <td>Cd4</td>\n",
       "    </tr>\n",
       "    <tr>\n",
       "      <th>2</th>\n",
       "      <td>CD68</td>\n",
       "      <td>nan</td>\n",
       "      <td>nan</td>\n",
       "      <td>nan</td>\n",
       "      <td>nan</td>\n",
       "    </tr>\n",
       "    <tr>\n",
       "      <th>3</th>\n",
       "      <td>CD29</td>\n",
       "      <td>ITGB1</td>\n",
       "      <td>CD29</td>\n",
       "      <td>Aliases</td>\n",
       "      <td>Itgb1</td>\n",
       "    </tr>\n",
       "    <tr>\n",
       "      <th>4</th>\n",
       "      <td>CD3</td>\n",
       "      <td>nan</td>\n",
       "      <td>nan</td>\n",
       "      <td>nan</td>\n",
       "      <td>nan</td>\n",
       "    </tr>\n",
       "    <tr>\n",
       "      <th>5</th>\n",
       "      <td>CD19</td>\n",
       "      <td>CD19</td>\n",
       "      <td>CD19</td>\n",
       "      <td>Approved.symbol</td>\n",
       "      <td>Cd19</td>\n",
       "    </tr>\n",
       "    <tr>\n",
       "      <th>6</th>\n",
       "      <td>CD31</td>\n",
       "      <td>PECAM1</td>\n",
       "      <td>CD31</td>\n",
       "      <td>Aliases</td>\n",
       "      <td>Pecam1</td>\n",
       "    </tr>\n",
       "    <tr>\n",
       "      <th>7</th>\n",
       "      <td>IgG2b</td>\n",
       "      <td>nan</td>\n",
       "      <td>nan</td>\n",
       "      <td>nan</td>\n",
       "      <td>nan</td>\n",
       "    </tr>\n",
       "    <tr>\n",
       "      <th>8</th>\n",
       "      <td>CD38</td>\n",
       "      <td>CD38</td>\n",
       "      <td>CD38</td>\n",
       "      <td>Approved.symbol</td>\n",
       "      <td>Cd38</td>\n",
       "    </tr>\n",
       "    <tr>\n",
       "      <th>9</th>\n",
       "      <td>CD45R</td>\n",
       "      <td>nan</td>\n",
       "      <td>nan</td>\n",
       "      <td>nan</td>\n",
       "      <td>nan</td>\n",
       "    </tr>\n",
       "    <tr>\n",
       "      <th>10</th>\n",
       "      <td>IgG2a</td>\n",
       "      <td>nan</td>\n",
       "      <td>nan</td>\n",
       "      <td>nan</td>\n",
       "      <td>nan</td>\n",
       "    </tr>\n",
       "    <tr>\n",
       "      <th>11</th>\n",
       "      <td>F480</td>\n",
       "      <td>nan</td>\n",
       "      <td>nan</td>\n",
       "      <td>nan</td>\n",
       "      <td>nan</td>\n",
       "    </tr>\n",
       "    <tr>\n",
       "      <th>12</th>\n",
       "      <td>CD169</td>\n",
       "      <td>SIGLEC1</td>\n",
       "      <td>CD169</td>\n",
       "      <td>Aliases</td>\n",
       "      <td>Siglec1</td>\n",
       "    </tr>\n",
       "    <tr>\n",
       "      <th>13</th>\n",
       "      <td>IgD</td>\n",
       "      <td>nan</td>\n",
       "      <td>nan</td>\n",
       "      <td>nan</td>\n",
       "      <td>nan</td>\n",
       "    </tr>\n",
       "    <tr>\n",
       "      <th>14</th>\n",
       "      <td>CD140a</td>\n",
       "      <td>nan</td>\n",
       "      <td>nan</td>\n",
       "      <td>nan</td>\n",
       "      <td>nan</td>\n",
       "    </tr>\n",
       "    <tr>\n",
       "      <th>15</th>\n",
       "      <td>CX3CR1</td>\n",
       "      <td>nan</td>\n",
       "      <td>nan</td>\n",
       "      <td>nan</td>\n",
       "      <td>nan</td>\n",
       "    </tr>\n",
       "    <tr>\n",
       "      <th>16</th>\n",
       "      <td>CD163</td>\n",
       "      <td>CD163</td>\n",
       "      <td>CD163</td>\n",
       "      <td>Approved.symbol</td>\n",
       "      <td>Cd163</td>\n",
       "    </tr>\n",
       "    <tr>\n",
       "      <th>17</th>\n",
       "      <td>CD304</td>\n",
       "      <td>NRP1</td>\n",
       "      <td>CD304</td>\n",
       "      <td>Aliases</td>\n",
       "      <td>Nrp1</td>\n",
       "    </tr>\n",
       "    <tr>\n",
       "      <th>18</th>\n",
       "      <td>Ly</td>\n",
       "      <td>nan</td>\n",
       "      <td>nan</td>\n",
       "      <td>nan</td>\n",
       "      <td>nan</td>\n",
       "    </tr>\n",
       "    <tr>\n",
       "      <th>19</th>\n",
       "      <td>CD226</td>\n",
       "      <td>CD226</td>\n",
       "      <td>CD226</td>\n",
       "      <td>Approved.symbol</td>\n",
       "      <td>Cd226</td>\n",
       "    </tr>\n",
       "    <tr>\n",
       "      <th>20</th>\n",
       "      <td>P2RY12</td>\n",
       "      <td>nan</td>\n",
       "      <td>nan</td>\n",
       "      <td>nan</td>\n",
       "      <td>nan</td>\n",
       "    </tr>\n",
       "    <tr>\n",
       "      <th>21</th>\n",
       "      <td>P2X7R</td>\n",
       "      <td>nan</td>\n",
       "      <td>nan</td>\n",
       "      <td>nan</td>\n",
       "      <td>nan</td>\n",
       "    </tr>\n",
       "    <tr>\n",
       "      <th>22</th>\n",
       "      <td>CD8</td>\n",
       "      <td>CD8A</td>\n",
       "      <td>CD8</td>\n",
       "      <td>Previous.symbols</td>\n",
       "      <td>Cd8a</td>\n",
       "    </tr>\n",
       "    <tr>\n",
       "      <th>23</th>\n",
       "      <td>CD14</td>\n",
       "      <td>CD14</td>\n",
       "      <td>CD14</td>\n",
       "      <td>Approved.symbol</td>\n",
       "      <td>Cd14</td>\n",
       "    </tr>\n",
       "    <tr>\n",
       "      <th>24</th>\n",
       "      <td>CXCR4</td>\n",
       "      <td>nan</td>\n",
       "      <td>nan</td>\n",
       "      <td>nan</td>\n",
       "      <td>nan</td>\n",
       "    </tr>\n",
       "    <tr>\n",
       "      <th>25</th>\n",
       "      <td>CD79b</td>\n",
       "      <td>nan</td>\n",
       "      <td>nan</td>\n",
       "      <td>nan</td>\n",
       "      <td>nan</td>\n",
       "    </tr>\n",
       "    <tr>\n",
       "      <th>26</th>\n",
       "      <td>CD335</td>\n",
       "      <td>NCR1</td>\n",
       "      <td>CD335</td>\n",
       "      <td>Aliases</td>\n",
       "      <td>Ncr1</td>\n",
       "    </tr>\n",
       "    <tr>\n",
       "      <th>27</th>\n",
       "      <td>CD11b</td>\n",
       "      <td>ITGAM</td>\n",
       "      <td>CD11b</td>\n",
       "      <td>Aliases</td>\n",
       "      <td>Itgam</td>\n",
       "    </tr>\n",
       "    <tr>\n",
       "      <th>28</th>\n",
       "      <td>CD44</td>\n",
       "      <td>CD44</td>\n",
       "      <td>CD44</td>\n",
       "      <td>Approved.symbol</td>\n",
       "      <td>Cd44</td>\n",
       "    </tr>\n",
       "    <tr>\n",
       "      <th>29</th>\n",
       "      <td>IgG1</td>\n",
       "      <td>nan</td>\n",
       "      <td>nan</td>\n",
       "      <td>nan</td>\n",
       "      <td>nan</td>\n",
       "    </tr>\n",
       "    <tr>\n",
       "      <th>30</th>\n",
       "      <td>CD11c</td>\n",
       "      <td>ITGAX</td>\n",
       "      <td>CD11c</td>\n",
       "      <td>Aliases</td>\n",
       "      <td>Itgax</td>\n",
       "    </tr>\n",
       "    <tr>\n",
       "      <th>31</th>\n",
       "      <td>CD56</td>\n",
       "      <td>NCAM1</td>\n",
       "      <td>CD56</td>\n",
       "      <td>Aliases</td>\n",
       "      <td>Ncam1</td>\n",
       "    </tr>\n",
       "    <tr>\n",
       "      <th>32</th>\n",
       "      <td>IgG2b</td>\n",
       "      <td>nan</td>\n",
       "      <td>nan</td>\n",
       "      <td>nan</td>\n",
       "      <td>nan</td>\n",
       "    </tr>\n",
       "    <tr>\n",
       "      <th>33</th>\n",
       "      <td>IgG</td>\n",
       "      <td>nan</td>\n",
       "      <td>nan</td>\n",
       "      <td>nan</td>\n",
       "      <td>nan</td>\n",
       "    </tr>\n",
       "    <tr>\n",
       "      <th>34</th>\n",
       "      <td>CD88</td>\n",
       "      <td>C5AR1</td>\n",
       "      <td>CD88</td>\n",
       "      <td>Aliases</td>\n",
       "      <td>C5ar1</td>\n",
       "    </tr>\n",
       "    <tr>\n",
       "      <th>35</th>\n",
       "      <td>CD5</td>\n",
       "      <td>CD5</td>\n",
       "      <td>CD5</td>\n",
       "      <td>Approved.symbol</td>\n",
       "      <td>Cd5</td>\n",
       "    </tr>\n",
       "    <tr>\n",
       "      <th>36</th>\n",
       "      <td>PD</td>\n",
       "      <td>nan</td>\n",
       "      <td>nan</td>\n",
       "      <td>nan</td>\n",
       "      <td>nan</td>\n",
       "    </tr>\n",
       "    <tr>\n",
       "      <th>37</th>\n",
       "      <td>BST</td>\n",
       "      <td>nan</td>\n",
       "      <td>nan</td>\n",
       "      <td>nan</td>\n",
       "      <td>nan</td>\n",
       "    </tr>\n",
       "    <tr>\n",
       "      <th>38</th>\n",
       "      <td>CD3</td>\n",
       "      <td>nan</td>\n",
       "      <td>nan</td>\n",
       "      <td>nan</td>\n",
       "      <td>nan</td>\n",
       "    </tr>\n",
       "    <tr>\n",
       "      <th>39</th>\n",
       "      <td>CD90</td>\n",
       "      <td>nan</td>\n",
       "      <td>nan</td>\n",
       "      <td>nan</td>\n",
       "      <td>nan</td>\n",
       "    </tr>\n",
       "    <tr>\n",
       "      <th>40</th>\n",
       "      <td>Ly</td>\n",
       "      <td>nan</td>\n",
       "      <td>nan</td>\n",
       "      <td>nan</td>\n",
       "      <td>nan</td>\n",
       "    </tr>\n",
       "    <tr>\n",
       "      <th>41</th>\n",
       "      <td>CD20</td>\n",
       "      <td>MS4A1</td>\n",
       "      <td>CD20</td>\n",
       "      <td>Previous.symbols</td>\n",
       "      <td>Ms4a1</td>\n",
       "    </tr>\n",
       "    <tr>\n",
       "      <th>42</th>\n",
       "      <td>CD11b</td>\n",
       "      <td>ITGAM</td>\n",
       "      <td>CD11b</td>\n",
       "      <td>Aliases</td>\n",
       "      <td>Itgam</td>\n",
       "    </tr>\n",
       "    <tr>\n",
       "      <th>43</th>\n",
       "      <td>CD19</td>\n",
       "      <td>CD19</td>\n",
       "      <td>CD19</td>\n",
       "      <td>Approved.symbol</td>\n",
       "      <td>Cd19</td>\n",
       "    </tr>\n",
       "    <tr>\n",
       "      <th>44</th>\n",
       "      <td>CD11c</td>\n",
       "      <td>ITGAX</td>\n",
       "      <td>CD11c</td>\n",
       "      <td>Aliases</td>\n",
       "      <td>Itgax</td>\n",
       "    </tr>\n",
       "    <tr>\n",
       "      <th>45</th>\n",
       "      <td>IgM</td>\n",
       "      <td>nan</td>\n",
       "      <td>nan</td>\n",
       "      <td>nan</td>\n",
       "      <td>nan</td>\n",
       "    </tr>\n",
       "    <tr>\n",
       "      <th>46</th>\n",
       "      <td>CD40</td>\n",
       "      <td>CD40</td>\n",
       "      <td>CD40</td>\n",
       "      <td>Approved.symbol</td>\n",
       "      <td>Cd40</td>\n",
       "    </tr>\n",
       "    <tr>\n",
       "      <th>47</th>\n",
       "      <td>IgG2a</td>\n",
       "      <td>nan</td>\n",
       "      <td>nan</td>\n",
       "      <td>nan</td>\n",
       "      <td>nan</td>\n",
       "    </tr>\n",
       "    <tr>\n",
       "      <th>48</th>\n",
       "      <td>PD</td>\n",
       "      <td>nan</td>\n",
       "      <td>nan</td>\n",
       "      <td>nan</td>\n",
       "      <td>nan</td>\n",
       "    </tr>\n",
       "    <tr>\n",
       "      <th>49</th>\n",
       "      <td>CD71</td>\n",
       "      <td>TFRC</td>\n",
       "      <td>CD71</td>\n",
       "      <td>Aliases</td>\n",
       "      <td>Tfrc</td>\n",
       "    </tr>\n",
       "    <tr>\n",
       "      <th>50</th>\n",
       "      <td>CD163</td>\n",
       "      <td>CD163</td>\n",
       "      <td>CD163</td>\n",
       "      <td>Approved.symbol</td>\n",
       "      <td>Cd163</td>\n",
       "    </tr>\n",
       "    <tr>\n",
       "      <th>51</th>\n",
       "      <td>CD29</td>\n",
       "      <td>ITGB1</td>\n",
       "      <td>CD29</td>\n",
       "      <td>Aliases</td>\n",
       "      <td>Itgb1</td>\n",
       "    </tr>\n",
       "    <tr>\n",
       "      <th>52</th>\n",
       "      <td>CD44</td>\n",
       "      <td>CD44</td>\n",
       "      <td>CD44</td>\n",
       "      <td>Approved.symbol</td>\n",
       "      <td>Cd44</td>\n",
       "    </tr>\n",
       "    <tr>\n",
       "      <th>53</th>\n",
       "      <td>CD27</td>\n",
       "      <td>CD27</td>\n",
       "      <td>CD27</td>\n",
       "      <td>Approved.symbol</td>\n",
       "      <td>Cd27</td>\n",
       "    </tr>\n",
       "    <tr>\n",
       "      <th>54</th>\n",
       "      <td>CD31</td>\n",
       "      <td>PECAM1</td>\n",
       "      <td>CD31</td>\n",
       "      <td>Aliases</td>\n",
       "      <td>Pecam1</td>\n",
       "    </tr>\n",
       "    <tr>\n",
       "      <th>55</th>\n",
       "      <td>F4</td>\n",
       "      <td>nan</td>\n",
       "      <td>nan</td>\n",
       "      <td>nan</td>\n",
       "      <td>nan</td>\n",
       "    </tr>\n",
       "    <tr>\n",
       "      <th>56</th>\n",
       "      <td>CD45R</td>\n",
       "      <td>nan</td>\n",
       "      <td>nan</td>\n",
       "      <td>nan</td>\n",
       "      <td>nan</td>\n",
       "    </tr>\n",
       "    <tr>\n",
       "      <th>57</th>\n",
       "      <td>Siglec</td>\n",
       "      <td>nan</td>\n",
       "      <td>nan</td>\n",
       "      <td>nan</td>\n",
       "      <td>nan</td>\n",
       "    </tr>\n",
       "    <tr>\n",
       "      <th>58</th>\n",
       "      <td>CD169</td>\n",
       "      <td>SIGLEC1</td>\n",
       "      <td>CD169</td>\n",
       "      <td>Aliases</td>\n",
       "      <td>Siglec1</td>\n",
       "    </tr>\n",
       "  </tbody>\n",
       "</table>\n",
       "</div>"
      ],
      "text/plain": [
       "   adt_name   Symbol    ADT          ADT_Type gene_name\n",
       "0      CD8a      nan    nan               nan       nan\n",
       "1       CD4      CD4    CD4   Approved.symbol       Cd4\n",
       "2      CD68      nan    nan               nan       nan\n",
       "3      CD29    ITGB1   CD29           Aliases     Itgb1\n",
       "4       CD3      nan    nan               nan       nan\n",
       "5      CD19     CD19   CD19   Approved.symbol      Cd19\n",
       "6      CD31   PECAM1   CD31           Aliases    Pecam1\n",
       "7     IgG2b      nan    nan               nan       nan\n",
       "8      CD38     CD38   CD38   Approved.symbol      Cd38\n",
       "9     CD45R      nan    nan               nan       nan\n",
       "10    IgG2a      nan    nan               nan       nan\n",
       "11     F480      nan    nan               nan       nan\n",
       "12    CD169  SIGLEC1  CD169           Aliases   Siglec1\n",
       "13      IgD      nan    nan               nan       nan\n",
       "14   CD140a      nan    nan               nan       nan\n",
       "15   CX3CR1      nan    nan               nan       nan\n",
       "16    CD163    CD163  CD163   Approved.symbol     Cd163\n",
       "17    CD304     NRP1  CD304           Aliases      Nrp1\n",
       "18       Ly      nan    nan               nan       nan\n",
       "19    CD226    CD226  CD226   Approved.symbol     Cd226\n",
       "20   P2RY12      nan    nan               nan       nan\n",
       "21    P2X7R      nan    nan               nan       nan\n",
       "22      CD8     CD8A    CD8  Previous.symbols      Cd8a\n",
       "23     CD14     CD14   CD14   Approved.symbol      Cd14\n",
       "24    CXCR4      nan    nan               nan       nan\n",
       "25    CD79b      nan    nan               nan       nan\n",
       "26    CD335     NCR1  CD335           Aliases      Ncr1\n",
       "27    CD11b    ITGAM  CD11b           Aliases     Itgam\n",
       "28     CD44     CD44   CD44   Approved.symbol      Cd44\n",
       "29     IgG1      nan    nan               nan       nan\n",
       "30    CD11c    ITGAX  CD11c           Aliases     Itgax\n",
       "31     CD56    NCAM1   CD56           Aliases     Ncam1\n",
       "32    IgG2b      nan    nan               nan       nan\n",
       "33      IgG      nan    nan               nan       nan\n",
       "34     CD88    C5AR1   CD88           Aliases     C5ar1\n",
       "35      CD5      CD5    CD5   Approved.symbol       Cd5\n",
       "36       PD      nan    nan               nan       nan\n",
       "37      BST      nan    nan               nan       nan\n",
       "38      CD3      nan    nan               nan       nan\n",
       "39     CD90      nan    nan               nan       nan\n",
       "40       Ly      nan    nan               nan       nan\n",
       "41     CD20    MS4A1   CD20  Previous.symbols     Ms4a1\n",
       "42    CD11b    ITGAM  CD11b           Aliases     Itgam\n",
       "43     CD19     CD19   CD19   Approved.symbol      Cd19\n",
       "44    CD11c    ITGAX  CD11c           Aliases     Itgax\n",
       "45      IgM      nan    nan               nan       nan\n",
       "46     CD40     CD40   CD40   Approved.symbol      Cd40\n",
       "47    IgG2a      nan    nan               nan       nan\n",
       "48       PD      nan    nan               nan       nan\n",
       "49     CD71     TFRC   CD71           Aliases      Tfrc\n",
       "50    CD163    CD163  CD163   Approved.symbol     Cd163\n",
       "51     CD29    ITGB1   CD29           Aliases     Itgb1\n",
       "52     CD44     CD44   CD44   Approved.symbol      Cd44\n",
       "53     CD27     CD27   CD27   Approved.symbol      Cd27\n",
       "54     CD31   PECAM1   CD31           Aliases    Pecam1\n",
       "55       F4      nan    nan               nan       nan\n",
       "56    CD45R      nan    nan               nan       nan\n",
       "57   Siglec      nan    nan               nan       nan\n",
       "58    CD169  SIGLEC1  CD169           Aliases   Siglec1"
      ]
     },
     "execution_count": 63,
     "metadata": {},
     "output_type": "execute_result"
    }
   ],
   "source": [
    "adt_new_var = pd.merge(thymus_adt.var, gene_tab, left_on='adt_name', right_on='ADT', how='left')\n",
    "adt_new_var.astype(str)"
   ]
  },
  {
   "cell_type": "code",
   "execution_count": 64,
   "id": "607bf041",
   "metadata": {},
   "outputs": [
    {
     "name": "stderr",
     "output_type": "stream",
     "text": [
      "/home/wsg/software/miniconda3/envs/metrics/lib/python3.9/site-packages/anndata/_core/anndata.py:121: ImplicitModificationWarning: Transforming to str index.\n",
      "  warnings.warn(\"Transforming to str index.\", ImplicitModificationWarning)\n"
     ]
    }
   ],
   "source": [
    "thymus_adt.var = adt_new_var\n",
    "thymus_adt = thymus_adt[:, ~thymus_adt.var['gene_name'].isna()]\n",
    "thymus_adt.var = thymus_adt.var.set_index('gene_name')"
   ]
  },
  {
   "cell_type": "code",
   "execution_count": 65,
   "id": "db68f9d4",
   "metadata": {},
   "outputs": [
    {
     "data": {
      "text/html": [
       "<div>\n",
       "<style scoped>\n",
       "    .dataframe tbody tr th:only-of-type {\n",
       "        vertical-align: middle;\n",
       "    }\n",
       "\n",
       "    .dataframe tbody tr th {\n",
       "        vertical-align: top;\n",
       "    }\n",
       "\n",
       "    .dataframe thead th {\n",
       "        text-align: right;\n",
       "    }\n",
       "</style>\n",
       "<table border=\"1\" class=\"dataframe\">\n",
       "  <thead>\n",
       "    <tr style=\"text-align: right;\">\n",
       "      <th></th>\n",
       "      <th>orig.ident</th>\n",
       "      <th>x</th>\n",
       "      <th>y</th>\n",
       "      <th>batch</th>\n",
       "    </tr>\n",
       "  </thead>\n",
       "  <tbody>\n",
       "    <tr>\n",
       "      <th>0_22_1</th>\n",
       "      <td>sample</td>\n",
       "      <td>8917</td>\n",
       "      <td>13284</td>\n",
       "      <td>thymus_1</td>\n",
       "    </tr>\n",
       "    <tr>\n",
       "      <th>0_33_1</th>\n",
       "      <td>sample</td>\n",
       "      <td>8917</td>\n",
       "      <td>14384</td>\n",
       "      <td>thymus_1</td>\n",
       "    </tr>\n",
       "    <tr>\n",
       "      <th>0_40_1</th>\n",
       "      <td>sample</td>\n",
       "      <td>8917</td>\n",
       "      <td>15084</td>\n",
       "      <td>thymus_1</td>\n",
       "    </tr>\n",
       "    <tr>\n",
       "      <th>0_41_1</th>\n",
       "      <td>sample</td>\n",
       "      <td>8917</td>\n",
       "      <td>15184</td>\n",
       "      <td>thymus_1</td>\n",
       "    </tr>\n",
       "    <tr>\n",
       "      <th>0_42_1</th>\n",
       "      <td>sample</td>\n",
       "      <td>8917</td>\n",
       "      <td>15284</td>\n",
       "      <td>thymus_1</td>\n",
       "    </tr>\n",
       "    <tr>\n",
       "      <th>...</th>\n",
       "      <td>...</td>\n",
       "      <td>...</td>\n",
       "      <td>...</td>\n",
       "      <td>...</td>\n",
       "    </tr>\n",
       "    <tr>\n",
       "      <th>59_113_4</th>\n",
       "      <td>sample</td>\n",
       "      <td>16082</td>\n",
       "      <td>19099</td>\n",
       "      <td>thymus_4</td>\n",
       "    </tr>\n",
       "    <tr>\n",
       "      <th>52_82_4</th>\n",
       "      <td>sample</td>\n",
       "      <td>15382</td>\n",
       "      <td>15999</td>\n",
       "      <td>thymus_4</td>\n",
       "    </tr>\n",
       "    <tr>\n",
       "      <th>30_23_4</th>\n",
       "      <td>sample</td>\n",
       "      <td>13182</td>\n",
       "      <td>10099</td>\n",
       "      <td>thymus_4</td>\n",
       "    </tr>\n",
       "    <tr>\n",
       "      <th>42_88_4</th>\n",
       "      <td>sample</td>\n",
       "      <td>14382</td>\n",
       "      <td>16599</td>\n",
       "      <td>thymus_4</td>\n",
       "    </tr>\n",
       "    <tr>\n",
       "      <th>36_31_4</th>\n",
       "      <td>sample</td>\n",
       "      <td>13782</td>\n",
       "      <td>10899</td>\n",
       "      <td>thymus_4</td>\n",
       "    </tr>\n",
       "  </tbody>\n",
       "</table>\n",
       "<p>17824 rows × 4 columns</p>\n",
       "</div>"
      ],
      "text/plain": [
       "         orig.ident      x      y     batch\n",
       "0_22_1       sample   8917  13284  thymus_1\n",
       "0_33_1       sample   8917  14384  thymus_1\n",
       "0_40_1       sample   8917  15084  thymus_1\n",
       "0_41_1       sample   8917  15184  thymus_1\n",
       "0_42_1       sample   8917  15284  thymus_1\n",
       "...             ...    ...    ...       ...\n",
       "59_113_4     sample  16082  19099  thymus_4\n",
       "52_82_4      sample  15382  15999  thymus_4\n",
       "30_23_4      sample  13182  10099  thymus_4\n",
       "42_88_4      sample  14382  16599  thymus_4\n",
       "36_31_4      sample  13782  10899  thymus_4\n",
       "\n",
       "[17824 rows x 4 columns]"
      ]
     },
     "execution_count": 65,
     "metadata": {},
     "output_type": "execute_result"
    }
   ],
   "source": [
    "thymus_adt.obs"
   ]
  },
  {
   "cell_type": "code",
   "execution_count": 66,
   "id": "05f2dc07",
   "metadata": {},
   "outputs": [],
   "source": [
    "output_path = \"/home/wsg/BM/data/SPATIAL/RNA+ADT/thymus\"\n",
    "thymus_adt.write_h5ad(\"{}/thymus-CITE_seq-raw-ADT-counts.h5ad\".format(output_path))"
   ]
  },
  {
   "cell_type": "code",
   "execution_count": null,
   "id": "08c6a0c4",
   "metadata": {},
   "outputs": [],
   "source": []
  },
  {
   "cell_type": "code",
   "execution_count": null,
   "id": "90f11f4c",
   "metadata": {},
   "outputs": [],
   "source": []
  },
  {
   "cell_type": "markdown",
   "id": "e98a39d2",
   "metadata": {},
   "source": [
    "## spleen"
   ]
  },
  {
   "cell_type": "code",
   "execution_count": 80,
   "id": "ea1181bb",
   "metadata": {},
   "outputs": [],
   "source": [
    "spleen_PATH_1 = \"/home/shaliu_fu/joint_bench/demo_notebook/input/spatial/Data_SpatialGlue/Dataset1_Mouse_Spleen1\"\n",
    "spleen_PATH_2 = \"/home/shaliu_fu/joint_bench/demo_notebook/input/spatial/Data_SpatialGlue/Dataset2_Mouse_Spleen2\""
   ]
  },
  {
   "cell_type": "code",
   "execution_count": 81,
   "id": "fa9254bc",
   "metadata": {},
   "outputs": [
    {
     "name": "stderr",
     "output_type": "stream",
     "text": [
      "/home/wsg/software/miniconda3/envs/metrics/lib/python3.9/site-packages/anndata/_core/anndata.py:1830: UserWarning: Variable names are not unique. To make them unique, call `.var_names_make_unique`.\n",
      "  utils.warn_names_duplicates(\"var\")\n",
      "/home/wsg/software/miniconda3/envs/metrics/lib/python3.9/site-packages/anndata/_core/anndata.py:1830: UserWarning: Variable names are not unique. To make them unique, call `.var_names_make_unique`.\n",
      "  utils.warn_names_duplicates(\"var\")\n"
     ]
    }
   ],
   "source": [
    "spleen_rna_1 = sc.read_h5ad(\"{}/adata_RNA.h5ad\".format(spleen_PATH_1))\n",
    "spleen_rna_2 = sc.read_h5ad(\"{}/adata_RNA.h5ad\".format(spleen_PATH_2))"
   ]
  },
  {
   "cell_type": "code",
   "execution_count": 82,
   "id": "5666fad7",
   "metadata": {},
   "outputs": [
    {
     "name": "stdout",
     "output_type": "stream",
     "text": [
      "AnnData object with n_obs × n_vars = 2568 × 32285\n",
      "    var: 'gene_ids', 'feature_types', 'genome'\n",
      "    obsm: 'spatial'\n",
      "AnnData object with n_obs × n_vars = 2768 × 32285\n",
      "    var: 'gene_ids', 'feature_types', 'genome'\n",
      "    obsm: 'spatial'\n"
     ]
    }
   ],
   "source": [
    "print(spleen_rna_1)\n",
    "print(spleen_rna_2)"
   ]
  },
  {
   "cell_type": "code",
   "execution_count": 83,
   "id": "6c038b01",
   "metadata": {
    "lines_to_next_cell": 2
   },
   "outputs": [],
   "source": [
    "adata = spleen_rna_1\n",
    "adata.var['gene_name'] = adata.var_names\n",
    "adata.var_names = adata.var['gene_ids']\n",
    "spleen_rna_1 = adata\n",
    "\n",
    "adata = spleen_rna_2\n",
    "adata.var['gene_name'] = adata.var_names\n",
    "adata.var_names = adata.var['gene_ids']\n",
    "spleen_rna_2 = adata"
   ]
  },
  {
   "cell_type": "code",
   "execution_count": 84,
   "id": "6f6478ea",
   "metadata": {},
   "outputs": [],
   "source": [
    "spleen_rna_1.obs_names = [name + \"_1\" for name in spleen_rna_1.obs_names]\n",
    "spleen_rna_2.obs_names = [name + \"_2\" for name in spleen_rna_2.obs_names]"
   ]
  },
  {
   "cell_type": "code",
   "execution_count": 85,
   "id": "2ae526ca",
   "metadata": {},
   "outputs": [],
   "source": [
    "spleen_rna_1.obs['batch'] = 'spleen_1'\n",
    "spleen_rna_2.obs['batch'] = 'spleen_2'"
   ]
  },
  {
   "cell_type": "code",
   "execution_count": 86,
   "id": "cbe36fe5",
   "metadata": {},
   "outputs": [],
   "source": [
    "spleen_rna = ad.concat([spleen_rna_1, spleen_rna_2], axis=0)\n",
    "spleen_rna.var = spleen_rna_1.var"
   ]
  },
  {
   "cell_type": "code",
   "execution_count": 87,
   "id": "b411dc85",
   "metadata": {},
   "outputs": [],
   "source": [
    "spleen_rna.var = spleen_rna.var.astype(str)"
   ]
  },
  {
   "cell_type": "code",
   "execution_count": 88,
   "id": "45450934",
   "metadata": {},
   "outputs": [],
   "source": [
    "output_path = \"/home/wsg/BM/data/SPATIAL/RNA+ADT/spleen\"\n",
    "\n",
    "spleen_rna.write_h5ad(\"{}/spleen-CITE_seq-raw-RNA-counts.h5ad\".format(output_path))"
   ]
  },
  {
   "cell_type": "code",
   "execution_count": null,
   "id": "d5396d6f",
   "metadata": {},
   "outputs": [],
   "source": []
  },
  {
   "cell_type": "code",
   "execution_count": null,
   "id": "e6c56dcf",
   "metadata": {},
   "outputs": [],
   "source": []
  },
  {
   "cell_type": "code",
   "execution_count": 97,
   "id": "488303ac",
   "metadata": {},
   "outputs": [],
   "source": [
    "spleen_adt_1.obs['batch'] = 'spleen_1'\n",
    "spleen_adt_2.obs['batch'] = 'spleen_2'"
   ]
  },
  {
   "cell_type": "code",
   "execution_count": 94,
   "id": "0e279d00",
   "metadata": {},
   "outputs": [],
   "source": [
    "spleen_adt_1 = sc.read_h5ad(\"{}/adata_ADT.h5ad\".format(spleen_PATH_1))\n",
    "spleen_adt_2 = sc.read_h5ad(\"{}/adata_ADT.h5ad\".format(spleen_PATH_2))"
   ]
  },
  {
   "cell_type": "code",
   "execution_count": 95,
   "id": "4706abae",
   "metadata": {},
   "outputs": [
    {
     "name": "stdout",
     "output_type": "stream",
     "text": [
      "AnnData object with n_obs × n_vars = 2568 × 21\n",
      "    obsm: 'spatial'\n",
      "AnnData object with n_obs × n_vars = 2768 × 21\n",
      "    obsm: 'spatial'\n"
     ]
    }
   ],
   "source": [
    "print(spleen_adt_1)\n",
    "print(spleen_adt_2)"
   ]
  },
  {
   "cell_type": "code",
   "execution_count": 96,
   "id": "c6c8aad1",
   "metadata": {},
   "outputs": [],
   "source": [
    "spleen_adt_1.obs_names = [name + \"_1\" for name in spleen_adt_1.obs_names]\n",
    "spleen_adt_2.obs_names = [name + \"_2\" for name in spleen_adt_2.obs_names]"
   ]
  },
  {
   "cell_type": "code",
   "execution_count": 98,
   "id": "fe71c500",
   "metadata": {},
   "outputs": [],
   "source": [
    "spleen_adt = ad.concat([spleen_adt_1, spleen_adt_2], axis=0)\n",
    "spleen_adt.var = spleen_adt_1.var"
   ]
  },
  {
   "cell_type": "code",
   "execution_count": 99,
   "id": "b4d5788a",
   "metadata": {},
   "outputs": [],
   "source": [
    "spleen_adt.var['adt_name'] = spleen_adt.var.index"
   ]
  },
  {
   "cell_type": "code",
   "execution_count": 100,
   "id": "f09fa031",
   "metadata": {},
   "outputs": [],
   "source": [
    "gene_tab = pd.read_csv('/home/wsg/BM/pipeline/config/gene_adt_tab.tsv', sep=' ', header=0)\n",
    "gene_tab['gene_name'] = gene_tab['Symbol'].str.capitalize()"
   ]
  },
  {
   "cell_type": "code",
   "execution_count": 101,
   "id": "b6da8789",
   "metadata": {},
   "outputs": [
    {
     "name": "stderr",
     "output_type": "stream",
     "text": [
      "/home/wsg/software/miniconda3/envs/metrics/lib/python3.9/site-packages/anndata/_core/anndata.py:121: ImplicitModificationWarning: Transforming to str index.\n",
      "  warnings.warn(\"Transforming to str index.\", ImplicitModificationWarning)\n"
     ]
    }
   ],
   "source": [
    "adt_new_var = pd.merge(spleen_adt.var, gene_tab, left_on='adt_name', right_on='ADT', how='left')\n",
    "adt_new_var.astype(str)\n",
    "\n",
    "spleen_adt.var = adt_new_var\n",
    "spleen_adt = spleen_adt[:, ~spleen_adt.var['gene_name'].isna()]\n",
    "\n",
    "adt_new_var = pd.merge(spleen_adt.var, spleen_rna.var, left_on='gene_name', right_on='gene_name', how='left')\n",
    "adt_new_var.astype(str)\n",
    "\n",
    "spleen_adt.var = adt_new_var\n",
    "spleen_adt.var = spleen_adt.var.set_index('gene_ids')"
   ]
  },
  {
   "cell_type": "code",
   "execution_count": null,
   "id": "aca2a30e",
   "metadata": {},
   "outputs": [],
   "source": []
  },
  {
   "cell_type": "code",
   "execution_count": 102,
   "id": "be142d6b",
   "metadata": {},
   "outputs": [],
   "source": [
    "output_path = \"/home/wsg/BM/data/SPATIAL/RNA+ADT/spleen\"\n",
    "spleen_adt.write_h5ad(\"{}/spleen-CITE_seq-raw-ADT-counts.h5ad\".format(output_path))"
   ]
  },
  {
   "cell_type": "code",
   "execution_count": null,
   "id": "b6be5f2b",
   "metadata": {},
   "outputs": [],
   "source": []
  },
  {
   "cell_type": "code",
   "execution_count": null,
   "id": "1c3bda97",
   "metadata": {},
   "outputs": [],
   "source": []
  },
  {
   "cell_type": "code",
   "execution_count": null,
   "id": "3b0f77d7",
   "metadata": {},
   "outputs": [],
   "source": []
  }
 ],
 "metadata": {
  "hide_input": false,
  "jupytext": {
   "formats": "ipynb,py:percent"
  },
  "kernelspec": {
   "display_name": "python (metrics)",
   "language": "python",
   "name": "metrics"
  },
  "language_info": {
   "codemirror_mode": {
    "name": "ipython",
    "version": 3
   },
   "file_extension": ".py",
   "mimetype": "text/x-python",
   "name": "python",
   "nbconvert_exporter": "python",
   "pygments_lexer": "ipython3",
   "version": "3.9.19"
  },
  "toc": {
   "base_numbering": 1,
   "nav_menu": {},
   "number_sections": true,
   "sideBar": true,
   "skip_h1_title": false,
   "title_cell": "Table of Contents",
   "title_sidebar": "Contents",
   "toc_cell": false,
   "toc_position": {
    "height": "calc(100% - 180px)",
    "left": "10px",
    "top": "150px",
    "width": "355.85px"
   },
   "toc_section_display": true,
   "toc_window_display": true
  }
 },
 "nbformat": 4,
 "nbformat_minor": 5
}
