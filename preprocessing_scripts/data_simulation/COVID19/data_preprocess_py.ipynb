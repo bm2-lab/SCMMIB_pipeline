{
 "cells": [
  {
   "cell_type": "code",
   "execution_count": 1,
   "id": "bdffc0f5",
   "metadata": {},
   "outputs": [],
   "source": [
    "import os\n",
    "import sys \n",
    "import json\n",
    "import pickle\n",
    "\n",
    "import torch\n",
    "import anndata\n",
    "import numpy as np\n",
    "import pandas as pd\n",
    "import scanpy as sc\n",
    "\n",
    "from scipy import io"
   ]
  },
  {
   "cell_type": "markdown",
   "id": "16480c13",
   "metadata": {},
   "source": [
    "# Data Manipulation: convert h5ad to mtx"
   ]
  },
  {
   "cell_type": "code",
   "execution_count": 2,
   "id": "99673ff7",
   "metadata": {},
   "outputs": [],
   "source": [
    "COVID_H5AD_PATH = \"/home/wsg/BM/data/COVID19/E-MTAB-10026/covid_portal_210320_with_raw.h5ad\"\n",
    "covid = sc.read_h5ad(COVID_H5AD_PATH)"
   ]
  },
  {
   "cell_type": "code",
   "execution_count": 3,
   "id": "6d6e8c06",
   "metadata": {},
   "outputs": [
    {
     "name": "stdout",
     "output_type": "stream",
     "text": [
      "<class 'scipy.sparse.csr.csr_matrix'>\n"
     ]
    },
    {
     "data": {
      "text/plain": [
       "AnnData object with n_obs × n_vars = 647366 × 24929\n",
       "    obs: 'sample_id', 'n_genes', 'n_genes_by_counts', 'total_counts', 'total_counts_mt', 'pct_counts_mt', 'full_clustering', 'initial_clustering', 'Resample', 'Collection_Day', 'Sex', 'Age_interval', 'Swab_result', 'Status', 'Smoker', 'Status_on_day_collection', 'Status_on_day_collection_summary', 'Days_from_onset', 'Site', 'time_after_LPS', 'Worst_Clinical_Status', 'Outcome', 'patient_id'\n",
       "    var: 'feature_types'\n",
       "    uns: 'hvg', 'leiden', 'neighbors', 'pca', 'umap'\n",
       "    obsm: 'X_pca', 'X_pca_harmony', 'X_umap'\n",
       "    layers: 'raw'"
      ]
     },
     "execution_count": 3,
     "metadata": {},
     "output_type": "execute_result"
    }
   ],
   "source": [
    "print(type(covid.X))\n",
    "covid"
   ]
  },
  {
   "cell_type": "code",
   "execution_count": 4,
   "id": "14d807a8",
   "metadata": {},
   "outputs": [],
   "source": [
    "covid_rna = covid[:, covid.var[\"feature_types\"] == \"Gene Expression\"]\n",
    "covid_adt = covid[:, covid.var[\"feature_types\"] == \"Antibody Capture\"]"
   ]
  },
  {
   "cell_type": "code",
   "execution_count": 6,
   "id": "8fcda657",
   "metadata": {},
   "outputs": [
    {
     "name": "stdout",
     "output_type": "stream",
     "text": [
      "View of AnnData object with n_obs × n_vars = 647366 × 24737\n",
      "    obs: 'sample_id', 'n_genes', 'n_genes_by_counts', 'total_counts', 'total_counts_mt', 'pct_counts_mt', 'full_clustering', 'initial_clustering', 'Resample', 'Collection_Day', 'Sex', 'Age_interval', 'Swab_result', 'Status', 'Smoker', 'Status_on_day_collection', 'Status_on_day_collection_summary', 'Days_from_onset', 'Site', 'time_after_LPS', 'Worst_Clinical_Status', 'Outcome', 'patient_id'\n",
      "    var: 'feature_types'\n",
      "    uns: 'hvg', 'leiden', 'neighbors', 'pca', 'umap'\n",
      "    obsm: 'X_pca', 'X_pca_harmony', 'X_umap'\n",
      "    layers: 'raw'\n",
      "View of AnnData object with n_obs × n_vars = 647366 × 192\n",
      "    obs: 'sample_id', 'n_genes', 'n_genes_by_counts', 'total_counts', 'total_counts_mt', 'pct_counts_mt', 'full_clustering', 'initial_clustering', 'Resample', 'Collection_Day', 'Sex', 'Age_interval', 'Swab_result', 'Status', 'Smoker', 'Status_on_day_collection', 'Status_on_day_collection_summary', 'Days_from_onset', 'Site', 'time_after_LPS', 'Worst_Clinical_Status', 'Outcome', 'patient_id'\n",
      "    var: 'feature_types'\n",
      "    uns: 'hvg', 'leiden', 'neighbors', 'pca', 'umap'\n",
      "    obsm: 'X_pca', 'X_pca_harmony', 'X_umap'\n",
      "    layers: 'raw'\n"
     ]
    }
   ],
   "source": [
    "print(covid_rna)\n",
    "print(covid_adt)"
   ]
  },
  {
   "cell_type": "code",
   "execution_count": 7,
   "id": "9f5bfce7",
   "metadata": {},
   "outputs": [
    {
     "name": "stdout",
     "output_type": "stream",
     "text": [
      "[[0.        0.        0.        0.        0.        0.        0.\n",
      "  0.        0.        0.       ]\n",
      " [0.        0.        0.        0.        0.        0.        0.\n",
      "  0.        0.        0.       ]\n",
      " [0.        0.        0.        0.        0.        0.        0.\n",
      "  0.        0.        0.       ]\n",
      " [0.        0.        0.        0.        0.        0.        0.\n",
      "  0.        0.        0.       ]\n",
      " [0.        0.        0.        0.        0.        0.        0.\n",
      "  0.        0.        0.       ]\n",
      " [0.        0.        0.        0.        0.        0.        0.\n",
      "  0.        0.        0.       ]\n",
      " [0.        0.        0.        0.        0.        0.        0.\n",
      "  0.        0.        0.       ]\n",
      " [0.        0.        0.        0.        0.        0.        0.\n",
      "  0.        0.        0.       ]\n",
      " [0.        0.        0.        0.        0.        0.        1.3266901\n",
      "  0.        0.        0.       ]\n",
      " [0.        0.        0.        0.        0.        0.        0.\n",
      "  0.        0.        0.       ]]\n",
      "<class 'anndata._core.views.SparseCSRView'>\n"
     ]
    }
   ],
   "source": [
    "print(covid_rna.X[:10,:10].todense())\n",
    "print(type(covid_rna.X))"
   ]
  },
  {
   "cell_type": "code",
   "execution_count": 8,
   "id": "559cf778",
   "metadata": {},
   "outputs": [
    {
     "name": "stdout",
     "output_type": "stream",
     "text": [
      "[[0. 0. 0. 0. 0. 0. 0. 0. 0. 0.]\n",
      " [0. 0. 0. 0. 0. 0. 0. 0. 0. 0.]\n",
      " [0. 0. 0. 0. 0. 0. 0. 0. 0. 0.]\n",
      " [0. 0. 0. 0. 0. 0. 0. 0. 0. 0.]\n",
      " [0. 0. 0. 0. 0. 0. 0. 0. 0. 0.]\n",
      " [0. 0. 0. 0. 0. 0. 0. 0. 0. 0.]\n",
      " [0. 0. 0. 0. 0. 0. 0. 0. 0. 0.]\n",
      " [0. 0. 0. 0. 0. 0. 0. 0. 0. 0.]\n",
      " [0. 0. 0. 0. 0. 0. 1. 0. 0. 0.]\n",
      " [0. 0. 0. 0. 0. 0. 0. 0. 0. 0.]]\n",
      "<class 'scipy.sparse.csr.csr_matrix'>\n"
     ]
    }
   ],
   "source": [
    "print(covid_rna.layers['raw'][:10,:10].todense())\n",
    "print(type(covid_rna.layers['raw'].copy()))"
   ]
  },
  {
   "cell_type": "code",
   "execution_count": 9,
   "id": "adc1785a",
   "metadata": {},
   "outputs": [
    {
     "data": {
      "text/plain": [
       "matrix([[0., 0., 0., ..., 0., 0., 0.],\n",
       "        [0., 0., 0., ..., 0., 0., 0.],\n",
       "        [0., 0., 0., ..., 0., 0., 0.],\n",
       "        ...,\n",
       "        [0., 0., 0., ..., 0., 0., 0.],\n",
       "        [0., 0., 0., ..., 0., 0., 0.],\n",
       "        [0., 0., 0., ..., 0., 0., 0.]], dtype=float32)"
      ]
     },
     "execution_count": 9,
     "metadata": {},
     "output_type": "execute_result"
    }
   ],
   "source": [
    "covid_rna.layers['processed'] = covid_rna.X.copy()\n",
    "covid_rna.X = covid_rna.layers['raw'].copy()\n",
    "covid_rna.X.todense()"
   ]
  },
  {
   "cell_type": "code",
   "execution_count": 10,
   "id": "ae173323",
   "metadata": {
    "scrolled": false
   },
   "outputs": [],
   "source": [
    "del covid_rna.layers['processed']\n",
    "del covid_rna.layers[\"raw\"]"
   ]
  },
  {
   "cell_type": "code",
   "execution_count": 11,
   "id": "f9cb891b",
   "metadata": {},
   "outputs": [
    {
     "data": {
      "text/plain": [
       "<647366x24737 sparse matrix of type '<class 'numpy.float32'>'\n",
       "\twith 856243643 stored elements in Compressed Sparse Row format>"
      ]
     },
     "execution_count": 11,
     "metadata": {},
     "output_type": "execute_result"
    }
   ],
   "source": [
    "covid_rna.X"
   ]
  },
  {
   "cell_type": "code",
   "execution_count": 12,
   "id": "10133986",
   "metadata": {},
   "outputs": [
    {
     "name": "stdout",
     "output_type": "stream",
     "text": [
      "[[0. 0. 0. 0. 0. 0. 0. 0. 0. 0.]\n",
      " [0. 0. 0. 0. 0. 0. 0. 0. 0. 0.]\n",
      " [0. 0. 0. 0. 0. 0. 0. 0. 0. 0.]\n",
      " [0. 0. 0. 0. 0. 0. 0. 0. 0. 0.]\n",
      " [0. 0. 0. 0. 0. 0. 0. 0. 0. 0.]\n",
      " [0. 0. 0. 0. 0. 0. 0. 0. 0. 0.]\n",
      " [0. 0. 0. 0. 0. 0. 0. 0. 0. 0.]\n",
      " [0. 0. 0. 0. 0. 0. 0. 0. 0. 0.]\n",
      " [0. 0. 0. 0. 0. 0. 1. 0. 0. 0.]\n",
      " [0. 0. 0. 0. 0. 0. 0. 0. 0. 0.]]\n",
      "<class 'scipy.sparse.csr.csr_matrix'>\n"
     ]
    }
   ],
   "source": [
    "# covid_rna.X = covid_rna.X.astype(np.int32)\n",
    "print(covid_rna.X[:10,:10].todense())\n",
    "print(type(covid_rna.X.copy()))"
   ]
  },
  {
   "cell_type": "code",
   "execution_count": 13,
   "id": "60d18f53",
   "metadata": {},
   "outputs": [
    {
     "data": {
      "text/plain": [
       "Index(['MIR1302-2HG', 'AL627309.1', 'AL627309.3', 'AL627309.2', 'AL669831.2',\n",
       "       'FAM87B', 'LINC00115', 'FAM41C', 'AL645608.2', 'SAMD11',\n",
       "       ...\n",
       "       'MAFIP', 'AC011043.1', 'AL592183.1', 'AC007325.1', 'AC007325.4',\n",
       "       'AC007325.2', 'AL354822.1', 'AC233755.2', 'AC233755.1', 'AC240274.1'],\n",
       "      dtype='object', length=24737)"
      ]
     },
     "execution_count": 13,
     "metadata": {},
     "output_type": "execute_result"
    }
   ],
   "source": [
    "covid_rna.var_names"
   ]
  },
  {
   "cell_type": "code",
   "execution_count": 20,
   "id": "cae49936",
   "metadata": {},
   "outputs": [],
   "source": [
    "output_path = \"/home/wsg/BM/data/COVID19/RNA+ADT/RawData\"\n",
    "covid_rna.write_h5ad(\"{}/COVID19-CITE_seq-raw-RNA-counts.h5ad\".format(output_path))"
   ]
  },
  {
   "cell_type": "code",
   "execution_count": 30,
   "id": "89806b2a",
   "metadata": {},
   "outputs": [],
   "source": [
    "output_path = \"/home/wsg/BM/data/COVID19/RNA+ADT/RawData\"\n",
    "covid_rna = sc.read_h5ad(\"{}/COVID19-CITE_seq-raw-RNA-counts.h5ad\".format(output_path))"
   ]
  },
  {
   "cell_type": "code",
   "execution_count": 38,
   "id": "fbab11f1",
   "metadata": {},
   "outputs": [],
   "source": [
    "covid_rna.obs['barcode'] = covid_rna.obs_names"
   ]
  },
  {
   "cell_type": "code",
   "execution_count": 41,
   "id": "e905c673",
   "metadata": {},
   "outputs": [],
   "source": [
    "covid_rna.obs.to_csv(\"{}/metadata.csv\".format(output_path))"
   ]
  },
  {
   "cell_type": "code",
   "execution_count": null,
   "id": "dcf14019",
   "metadata": {},
   "outputs": [],
   "source": []
  },
  {
   "cell_type": "code",
   "execution_count": null,
   "id": "e297ec73",
   "metadata": {},
   "outputs": [],
   "source": []
  },
  {
   "cell_type": "code",
   "execution_count": null,
   "id": "f985be3c",
   "metadata": {},
   "outputs": [],
   "source": []
  },
  {
   "cell_type": "code",
   "execution_count": 47,
   "id": "fa0643f6",
   "metadata": {},
   "outputs": [
    {
     "data": {
      "text/plain": [
       "Index(['CD80', 'CD86', 'CD274', 'PDCD1LG2', 'ICOSLG', 'ITGAM', 'OX40L',\n",
       "       'TNFSF9', 'PVR', 'NECTIN2',\n",
       "       ...\n",
       "       'CD101', 'IL21R', 'C5AR1', 'HLA-F', 'NLRP2', 'Podocalyxin', 'GGT1',\n",
       "       'c-Met', 'LIGHT', 'DR3'],\n",
       "      dtype='object', length=192)"
      ]
     },
     "execution_count": 47,
     "metadata": {},
     "output_type": "execute_result"
    }
   ],
   "source": [
    "adt_names = [name.split('AB_')[1] for name in covid_adt.var_names if len(name.split('AB_')) > 1]\n",
    "covid_adt.var_names = adt_names\n",
    "covid_adt.var_names"
   ]
  },
  {
   "cell_type": "code",
   "execution_count": 48,
   "id": "c0802102",
   "metadata": {},
   "outputs": [
    {
     "data": {
      "text/plain": [
       "matrix([[ 0.,  0.,  2., ...,  7.,  3.,  3.],\n",
       "        [ 1.,  0.,  2., ...,  5.,  4.,  5.],\n",
       "        [ 3.,  0.,  3., ...,  5.,  7.,  5.],\n",
       "        ...,\n",
       "        [13.,  3.,  8., ..., 18., 10., 23.],\n",
       "        [12.,  0., 10., ..., 17., 19., 25.],\n",
       "        [50.,  9., 39., ..., 48., 56., 48.]], dtype=float32)"
      ]
     },
     "execution_count": 48,
     "metadata": {},
     "output_type": "execute_result"
    }
   ],
   "source": [
    "covid_adt.layers['processed'] = covid_adt.X.copy()\n",
    "covid_adt.X = covid_adt.layers['raw'].copy()\n",
    "covid_adt.X.todense()"
   ]
  },
  {
   "cell_type": "code",
   "execution_count": 49,
   "id": "afa161a4",
   "metadata": {},
   "outputs": [],
   "source": [
    "del covid_adt.layers['processed']\n",
    "del covid_adt.layers[\"raw\"]"
   ]
  },
  {
   "cell_type": "code",
   "execution_count": 50,
   "id": "1904123c",
   "metadata": {},
   "outputs": [
    {
     "name": "stdout",
     "output_type": "stream",
     "text": [
      "[[  0.   0.   2.   6.   2.   8.   1.   4.   1.   1.]\n",
      " [  1.   0.   2.   2.   6.   7.   2.   3.   1.   0.]\n",
      " [  3.   0.   3.   4.   6.   7.   3.   3.   3.   1.]\n",
      " [  7.   0.   4.   3.   3.  13.   2.   5.   0.   3.]\n",
      " [  6.   0.   2.   1.   3.   6.   2.   5.   2.   0.]\n",
      " [  5.   5.   9.   2.  10. 108.   4.  16.  13.   7.]\n",
      " [  4.   0.   0.   1.   7.   5.   2.   2.   3.   2.]\n",
      " [  6.   3.   3.   3.   5.  95.   2.   5.  14.   5.]\n",
      " [  5.   0.   0.   3.   6.  14.   1.   3.   1.   5.]\n",
      " [  3.   0.   2.   1.   1.   7.   2.   1.   0.   3.]]\n",
      "<class 'scipy.sparse.csr.csr_matrix'>\n"
     ]
    }
   ],
   "source": [
    "# covid_adt.X = covid_adt.X.astype(np.int32)\n",
    "print(covid_adt.X[:10,:10].todense())\n",
    "print(type(covid_adt.X.copy()))"
   ]
  },
  {
   "cell_type": "code",
   "execution_count": 51,
   "id": "05105c2e",
   "metadata": {},
   "outputs": [],
   "source": [
    "output_path = \"/home/wsg/BM/data/COVID19/RNA+ADT/RawData\"\n",
    "# save hd5\n",
    "covid_adt.write_h5ad(\"{}/COVID19-CITE_seq-raw-ADT-counts.h5ad\".format(output_path))"
   ]
  },
  {
   "cell_type": "code",
   "execution_count": null,
   "id": "34079759",
   "metadata": {},
   "outputs": [],
   "source": []
  },
  {
   "cell_type": "code",
   "execution_count": null,
   "id": "330126c6",
   "metadata": {},
   "outputs": [],
   "source": []
  },
  {
   "cell_type": "code",
   "execution_count": null,
   "id": "4175a577",
   "metadata": {},
   "outputs": [],
   "source": []
  },
  {
   "cell_type": "code",
   "execution_count": null,
   "id": "77f33fdc",
   "metadata": {},
   "outputs": [],
   "source": []
  },
  {
   "cell_type": "code",
   "execution_count": null,
   "id": "261902ba",
   "metadata": {},
   "outputs": [],
   "source": []
  },
  {
   "cell_type": "code",
   "execution_count": null,
   "id": "fa6351df",
   "metadata": {},
   "outputs": [],
   "source": []
  },
  {
   "cell_type": "code",
   "execution_count": null,
   "id": "10577c36",
   "metadata": {},
   "outputs": [],
   "source": []
  },
  {
   "cell_type": "code",
   "execution_count": null,
   "id": "e5a0f482",
   "metadata": {},
   "outputs": [],
   "source": []
  },
  {
   "cell_type": "code",
   "execution_count": null,
   "id": "d9fa228b",
   "metadata": {},
   "outputs": [],
   "source": []
  },
  {
   "cell_type": "code",
   "execution_count": null,
   "id": "5950bb32",
   "metadata": {},
   "outputs": [],
   "source": []
  },
  {
   "cell_type": "code",
   "execution_count": null,
   "id": "4d3bff14",
   "metadata": {},
   "outputs": [],
   "source": []
  },
  {
   "cell_type": "code",
   "execution_count": null,
   "id": "1948e502",
   "metadata": {},
   "outputs": [],
   "source": []
  },
  {
   "cell_type": "code",
   "execution_count": null,
   "id": "fe7020db",
   "metadata": {},
   "outputs": [],
   "source": []
  },
  {
   "cell_type": "code",
   "execution_count": null,
   "id": "e953b91c",
   "metadata": {},
   "outputs": [],
   "source": []
  },
  {
   "cell_type": "code",
   "execution_count": null,
   "id": "970aec53",
   "metadata": {},
   "outputs": [],
   "source": []
  },
  {
   "cell_type": "code",
   "execution_count": 54,
   "id": "a6b2c191",
   "metadata": {},
   "outputs": [],
   "source": [
    "# Save RNA\n",
    "## makr dir\n",
    "!mkdir /home/wsg/BM/data/COVID19/RNA+ADT/RawData/COVID19-CITE_seq-raw-RNA-counts.mtx\n",
    "## save X to mtx\n",
    "io.mmwrite('/home/wsg/BM/data/COVID19/RNA+ADT/RawData/COVID19-CITE_seq-raw-RNA-counts.mtx/matrix', covid_rna.X.T)\n",
    "## save barcodes\n",
    "with open('/home/wsg/BM/data/COVID19/RNA+ADT/RawData/COVID19-CITE_seq-raw-RNA-counts.mtx/barcodes.tsv', 'w') as f:\n",
    "    for item in covid_rna.obs_names:\n",
    "        f.write(item + '\\n')      \n",
    "## save features\n",
    "with open('/home/wsg/BM/data/COVID19/RNA+ADT/RawData/COVID19-CITE_seq-raw-RNA-counts.mtx/features.tsv', 'w') as f:\n",
    "    for item in covid_rna.var_names:\n",
    "        f.write(item + '\\n')\n",
    "## gzip file\n",
    "!gzip /home/wsg/BM/data/COVID19/RNA+ADT/RawData/COVID19-CITE_seq-raw-RNA-counts.mtx/*\n",
    "## save metadata\n",
    "covid_rna.obs.to_csv('/home/wsg/BM/data/COVID19/RNA+ADT/RawData/metadata.csv')"
   ]
  },
  {
   "cell_type": "code",
   "execution_count": 57,
   "id": "6a96cc79",
   "metadata": {},
   "outputs": [],
   "source": [
    "# Save ADT\n",
    "## makr dir\n",
    "!mkdir /home/wsg/BM/data/COVID19/RNA+ADT/RawData/COVID19-CITE_seq-raw-ADT-counts.mtx\n",
    "## save X to mtx\n",
    "io.mmwrite('/home/wsg/BM/data/COVID19/RNA+ADT/RawData/COVID19-CITE_seq-raw-ADT-counts.mtx/matrix', covid_adt.X.T)\n",
    "## save barcodes\n",
    "with open('/home/wsg/BM/data/COVID19/RNA+ADT/RawData/COVID19-CITE_seq-raw-ADT-counts.mtx/barcodes.tsv', 'w') as f:\n",
    "    for item in covid_adt.obs_names:\n",
    "        f.write(item + '\\n')      \n",
    "## save features\n",
    "with open('/home/wsg/BM/data/COVID19/RNA+ADT/RawData/COVID19-CITE_seq-raw-ADT-counts.mtx/features.tsv', 'w') as f:\n",
    "    for item in covid_adt.var_names:\n",
    "        f.write(item + '\\n')\n",
    "## gzip file\n",
    "!gzip /home/wsg/BM/data/COVID19/RNA+ADT/RawData/COVID19-CITE_seq-raw-ADT-counts.mtx/*\n",
    "## save metadata\n",
    "covid_adt.obs.to_csv('/home/wsg/BM/data/COVID19/RNA+ADT/RawData/metadata.csv')"
   ]
  },
  {
   "cell_type": "code",
   "execution_count": null,
   "id": "3282ff46",
   "metadata": {},
   "outputs": [],
   "source": []
  },
  {
   "cell_type": "code",
   "execution_count": null,
   "id": "16f4d3b3",
   "metadata": {},
   "outputs": [],
   "source": []
  }
 ],
 "metadata": {
  "hide_input": false,
  "jupytext": {
   "formats": "ipynb,py:percent"
  },
  "kernelspec": {
   "display_name": "python (benchmark)",
   "language": "python",
   "name": "benchmark"
  },
  "language_info": {
   "codemirror_mode": {
    "name": "ipython",
    "version": 3
   },
   "file_extension": ".py",
   "mimetype": "text/x-python",
   "name": "python",
   "nbconvert_exporter": "python",
   "pygments_lexer": "ipython3",
   "version": "3.8.13"
  },
  "toc": {
   "base_numbering": 1,
   "nav_menu": {},
   "number_sections": true,
   "sideBar": true,
   "skip_h1_title": false,
   "title_cell": "Table of Contents",
   "title_sidebar": "Contents",
   "toc_cell": false,
   "toc_position": {
    "height": "calc(100% - 180px)",
    "left": "10px",
    "top": "150px",
    "width": "355.859px"
   },
   "toc_section_display": true,
   "toc_window_display": true
  }
 },
 "nbformat": 4,
 "nbformat_minor": 5
}
